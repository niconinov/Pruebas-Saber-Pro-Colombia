{
  "nbformat": 4,
  "nbformat_minor": 0,
  "metadata": {
    "colab": {
      "provenance": []
    },
    "kernelspec": {
      "name": "python3",
      "display_name": "Python 3"
    },
    "language_info": {
      "name": "python"
    }
  },
  "cells": [
    {
      "cell_type": "markdown",
      "source": [
        "# Importación de bibliotecas"
      ],
      "metadata": {
        "id": "UY8ginUdz1_h"
      }
    },
    {
      "cell_type": "code",
      "source": [
        "import pandas as pd"
      ],
      "metadata": {
        "id": "xSYnlHgfz7nC"
      },
      "execution_count": null,
      "outputs": []
    },
    {
      "cell_type": "markdown",
      "source": [
        "# **Lectura de los datos**"
      ],
      "metadata": {
        "id": "MWHN-jDuzkIA"
      }
    },
    {
      "cell_type": "code",
      "execution_count": null,
      "metadata": {
        "id": "c51rUElfpk-Y"
      },
      "outputs": [],
      "source": [
        "df = pd.read_csv('train.csv')"
      ]
    },
    {
      "cell_type": "markdown",
      "source": [
        "# Visualización del DataFrame"
      ],
      "metadata": {
        "id": "-OXfC1VFz834"
      }
    },
    {
      "cell_type": "code",
      "source": [
        "print('Los primeros cinco datos del DataFrame son: ')\n",
        "print(df.head().to_string(index=False))\n",
        "print('Los ultimos cinco datos del DataFrame son: ')\n",
        "print(df.tail().to_string(index=False))"
      ],
      "metadata": {
        "colab": {
          "base_uri": "https://localhost:8080/"
        },
        "id": "i1yFsLrcwlko",
        "outputId": "b6a7e5a5-b651-4890-ce99-571a594b55da"
      },
      "execution_count": 10,
      "outputs": [
        {
          "output_type": "stream",
          "name": "stdout",
          "text": [
            "Los primeros cinco datos del DataFrame son: \n",
            "    ID  PERIODO        ESTU_PRGM_ACADEMICO ESTU_PRGM_DEPARTAMENTO           ESTU_VALORMATRICULAUNIVERSIDAD ESTU_HORASSEMANATRABAJA FAMI_ESTRATOVIVIENDA FAMI_TIENEINTERNET                FAMI_EDUCACIONPADRE FAMI_TIENELAVADORA FAMI_TIENEAUTOMOVIL ESTU_PRIVADO_LIBERTAD ESTU_PAGOMATRICULAPROPIO FAMI_TIENECOMPUTADOR FAMI_TIENEINTERNET.1                FAMI_EDUCACIONMADRE RENDIMIENTO_GLOBAL\n",
            "904256    20212                 ENFERMERIA                 BOGOTÁ Entre 5.5 millones y menos de 7 millones       Menos de 10 horas            Estrato 3                 Si   Técnica o tecnológica incompleta                 Si                  Si                     N                       No                   Si                   Si                          Postgrado         medio-alto\n",
            "645256    20212                    DERECHO              ATLANTICO Entre 2.5 millones y menos de 4 millones                       0            Estrato 3                 No     Técnica o tecnológica completa                 Si                  No                     N                       No                   Si                   No   Técnica o tecnológica incompleta               bajo\n",
            "308367    20203      MERCADEO Y PUBLICIDAD                 BOGOTÁ Entre 2.5 millones y menos de 4 millones         Más de 30 horas            Estrato 3                 Si Secundaria (Bachillerato) completa                 Si                  No                     N                       No                   No                   Si Secundaria (Bachillerato) completa               bajo\n",
            "470353    20195 ADMINISTRACION DE EMPRESAS              SANTANDER Entre 4 millones y menos de 5.5 millones                       0            Estrato 4                 Si                            No sabe                 Si                  No                     N                       No                   Si                   Si Secundaria (Bachillerato) completa               alto\n",
            "989032    20212                 PSICOLOGIA              ANTIOQUIA Entre 2.5 millones y menos de 4 millones     Entre 21 y 30 horas            Estrato 3                 Si                  Primaria completa                 Si                  Si                     N                       No                   Si                   Si                  Primaria completa         medio-bajo\n",
            "Los ultimos cinco datos del DataFrame son: \n",
            "    ID  PERIODO                 ESTU_PRGM_ACADEMICO ESTU_PRGM_DEPARTAMENTO           ESTU_VALORMATRICULAUNIVERSIDAD ESTU_HORASSEMANATRABAJA FAMI_ESTRATOVIVIENDA FAMI_TIENEINTERNET                FAMI_EDUCACIONPADRE FAMI_TIENELAVADORA FAMI_TIENEAUTOMOVIL ESTU_PRIVADO_LIBERTAD ESTU_PAGOMATRICULAPROPIO FAMI_TIENECOMPUTADOR FAMI_TIENEINTERNET.1                  FAMI_EDUCACIONMADRE RENDIMIENTO_GLOBAL\n",
            " 25096    20195                            BIOLOGIA             LA GUAJIRA        Entre 500 mil y menos de 1 millón     Entre 11 y 20 horas            Estrato 2                 Si Secundaria (Bachillerato) completa                 Si                  No                     N                       Si                   Si                   Si Secundaria (Bachillerato) incompleta         medio-alto\n",
            "754213    20212                          PSICOLOGIA        NORTE SANTANDER Entre 2.5 millones y menos de 4 millones         Más de 30 horas            Estrato 3                 Si                Primaria incompleta                 Si                  No                     N                       No                   Si                   Si Secundaria (Bachillerato) incompleta               bajo\n",
            "504185    20183 ADMINISTRACIÓN EN SALUD OCUPACIONAL                 BOGOTÁ   Entre 1 millón y menos de 2.5 millones       Menos de 10 horas            Estrato 3                 Si Secundaria (Bachillerato) completa                 Si                  No                     N                       Si                   Si                   Si Secundaria (Bachillerato) incompleta         medio-bajo\n",
            "986620    20195                          PSICOLOGIA                 TOLIMA Entre 2.5 millones y menos de 4 millones       Menos de 10 horas            Estrato 1                 No                  Primaria completa                 No                  No                     N                       Si                   Si                   No                    Primaria completa               bajo\n",
            "933374    20195                          PSICOLOGIA              ANTIOQUIA Entre 5.5 millones y menos de 7 millones         Más de 30 horas            Estrato 4                 Si Secundaria (Bachillerato) completa                 Si                  Si                     N                       No                   Si                   Si       Técnica o tecnológica completa               alto\n"
          ]
        }
      ]
    },
    {
      "cell_type": "markdown",
      "source": [
        "# Exploración de los datos"
      ],
      "metadata": {
        "id": "BOoiQcey0LCk"
      }
    },
    {
      "cell_type": "code",
      "source": [
        "print(df.dtypes)"
      ],
      "metadata": {
        "colab": {
          "base_uri": "https://localhost:8080/"
        },
        "id": "Rzl0HwaKzGvg",
        "outputId": "65a8fbdb-646d-4837-ecf3-df6c52b49c62"
      },
      "execution_count": 9,
      "outputs": [
        {
          "output_type": "stream",
          "name": "stdout",
          "text": [
            "ID                                 int64\n",
            "PERIODO                            int64\n",
            "ESTU_PRGM_ACADEMICO               object\n",
            "ESTU_PRGM_DEPARTAMENTO            object\n",
            "ESTU_VALORMATRICULAUNIVERSIDAD    object\n",
            "ESTU_HORASSEMANATRABAJA           object\n",
            "FAMI_ESTRATOVIVIENDA              object\n",
            "FAMI_TIENEINTERNET                object\n",
            "FAMI_EDUCACIONPADRE               object\n",
            "FAMI_TIENELAVADORA                object\n",
            "FAMI_TIENEAUTOMOVIL               object\n",
            "ESTU_PRIVADO_LIBERTAD             object\n",
            "ESTU_PAGOMATRICULAPROPIO          object\n",
            "FAMI_TIENECOMPUTADOR              object\n",
            "FAMI_TIENEINTERNET.1              object\n",
            "FAMI_EDUCACIONMADRE               object\n",
            "RENDIMIENTO_GLOBAL                object\n",
            "dtype: object\n"
          ]
        }
      ]
    },
    {
      "cell_type": "code",
      "source": [
        "# Exploración de datos\n",
        "\n",
        "for col in df.columns:\n",
        "    # Calculando la frecuencia de cada categoría\n",
        "    freq = df[col].value_counts()\n",
        "    print(f'Variable {col}:')\n",
        "    print(freq)\n",
        "    print()"
      ],
      "metadata": {
        "colab": {
          "base_uri": "https://localhost:8080/"
        },
        "id": "AbRJUO5uyxT0",
        "outputId": "22b8d6c1-141e-413e-e74a-1cb742e2ae76"
      },
      "execution_count": 7,
      "outputs": [
        {
          "output_type": "stream",
          "name": "stdout",
          "text": [
            "Variable ID:\n",
            "904256    1\n",
            "915348    1\n",
            "373660    1\n",
            "691058    1\n",
            "790510    1\n",
            "         ..\n",
            "190471    1\n",
            "882806    1\n",
            "297614    1\n",
            "540154    1\n",
            "933374    1\n",
            "Name: ID, Length: 692500, dtype: int64\n",
            "\n",
            "Variable PERIODO:\n",
            "20195    180873\n",
            "20203    171838\n",
            "20212    171412\n",
            "20183    164818\n",
            "20194      1472\n",
            "20213      1178\n",
            "20202       490\n",
            "20184       254\n",
            "20196       165\n",
            "Name: PERIODO, dtype: int64\n",
            "\n",
            "Variable ESTU_PRGM_ACADEMICO:\n",
            "DERECHO                                                   53244\n",
            "ADMINISTRACION DE EMPRESAS                                51902\n",
            "CONTADURIA PUBLICA                                        39664\n",
            "PSICOLOGIA                                                31932\n",
            "INGENIERIA INDUSTRIAL                                     28481\n",
            "                                                          ...  \n",
            "LICENCIATURA EN ESPAÑOL Y FILOLOGÍA                           1\n",
            "ADMINISTRACION EN NEGOCIOS INTERNACIONALES                    1\n",
            "ADMINISTRACION DE COMERCIO EXTERIOR                           1\n",
            "LICENCIATURA EN EDUCACI¿N F¿SICA RECREACI¿N Y DEPORTES        1\n",
            "PROFESIONAL EN INVESTIGACIÓN CRIMINAL                         1\n",
            "Name: ESTU_PRGM_ACADEMICO, Length: 948, dtype: int64\n",
            "\n",
            "Variable ESTU_PRGM_DEPARTAMENTO:\n",
            "BOGOTÁ             282159\n",
            "ANTIOQUIA           83607\n",
            "VALLE               44588\n",
            "ATLANTICO           41020\n",
            "SANTANDER           28828\n",
            "NORTE SANTANDER     22588\n",
            "BOLIVAR             20629\n",
            "BOYACA              14048\n",
            "CUNDINAMARCA        14018\n",
            "NARIÑO              13454\n",
            "RISARALDA           12679\n",
            "CORDOBA             12188\n",
            "TOLIMA              11921\n",
            "CALDAS              11640\n",
            "CAUCA               11471\n",
            "HUILA                9995\n",
            "MAGDALENA            9512\n",
            "SUCRE                8674\n",
            "CESAR                8279\n",
            "QUINDIO              8229\n",
            "META                 7910\n",
            "LA GUAJIRA           4778\n",
            "CHOCO                4289\n",
            "CAQUETA              2659\n",
            "CASANARE             1852\n",
            "PUTUMAYO              795\n",
            "ARAUCA                589\n",
            "AMAZONAS               40\n",
            "GUAVIARE               37\n",
            "VAUPES                 14\n",
            "SAN ANDRES             10\n",
            "Name: ESTU_PRGM_DEPARTAMENTO, dtype: int64\n",
            "\n",
            "Variable ESTU_VALORMATRICULAUNIVERSIDAD:\n",
            "Entre 1 millón y menos de 2.5 millones      204048\n",
            "Entre 2.5 millones y menos de 4 millones    127430\n",
            "Menos de 500 mil                             80263\n",
            "Entre 500 mil y menos de 1 millón            78704\n",
            "Entre 4 millones y menos de 5.5 millones     69736\n",
            "Más de 7 millones                            68014\n",
            "Entre 5.5 millones y menos de 7 millones     38490\n",
            "No pagó matrícula                            19528\n",
            "Name: ESTU_VALORMATRICULAUNIVERSIDAD, dtype: int64\n",
            "\n",
            "Variable ESTU_HORASSEMANATRABAJA:\n",
            "Más de 30 horas        249352\n",
            "0                      116550\n",
            "Entre 11 y 20 horas    115857\n",
            "Entre 21 y 30 horas     92693\n",
            "Menos de 10 horas       87191\n",
            "Name: ESTU_HORASSEMANATRABAJA, dtype: int64\n",
            "\n",
            "Variable FAMI_ESTRATOVIVIENDA:\n",
            "Estrato 2      232671\n",
            "Estrato 3      210685\n",
            "Estrato 1      111991\n",
            "Estrato 4       65514\n",
            "Estrato 5       23608\n",
            "Estrato 6       12605\n",
            "Sin Estrato      3289\n",
            "Name: FAMI_ESTRATOVIVIENDA, dtype: int64\n",
            "\n",
            "Variable FAMI_TIENEINTERNET:\n",
            "Si    592514\n",
            "No     73357\n",
            "Name: FAMI_TIENEINTERNET, dtype: int64\n",
            "\n",
            "Variable FAMI_EDUCACIONPADRE:\n",
            "Secundaria (Bachillerato) completa      128289\n",
            "Primaria incompleta                     125675\n",
            "Educación profesional completa           83117\n",
            "Secundaria (Bachillerato) incompleta     71654\n",
            "Técnica o tecnológica completa           62995\n",
            "Primaria completa                        55958\n",
            "Postgrado                                44169\n",
            "Educación profesional incompleta         27084\n",
            "Técnica o tecnológica incompleta         22552\n",
            "Ninguno                                  22008\n",
            "No sabe                                  16592\n",
            "No Aplica                                 9229\n",
            "Name: FAMI_EDUCACIONPADRE, dtype: int64\n",
            "\n",
            "Variable FAMI_TIENELAVADORA:\n",
            "Si    563390\n",
            "No     89337\n",
            "Name: FAMI_TIENELAVADORA, dtype: int64\n",
            "\n",
            "Variable FAMI_TIENEAUTOMOVIL:\n",
            "No    412606\n",
            "Si    236271\n",
            "Name: FAMI_TIENEAUTOMOVIL, dtype: int64\n",
            "\n",
            "Variable ESTU_PRIVADO_LIBERTAD:\n",
            "N    692466\n",
            "S        34\n",
            "Name: ESTU_PRIVADO_LIBERTAD, dtype: int64\n",
            "\n",
            "Variable ESTU_PAGOMATRICULAPROPIO:\n",
            "No    382201\n",
            "Si    303801\n",
            "Name: ESTU_PAGOMATRICULAPROPIO, dtype: int64\n",
            "\n",
            "Variable FAMI_TIENECOMPUTADOR:\n",
            "Si    597670\n",
            "No     56727\n",
            "Name: FAMI_TIENECOMPUTADOR, dtype: int64\n",
            "\n",
            "Variable FAMI_TIENEINTERNET.1:\n",
            "Si    592514\n",
            "No     73357\n",
            "Name: FAMI_TIENEINTERNET.1, dtype: int64\n",
            "\n",
            "Variable FAMI_EDUCACIONMADRE:\n",
            "Secundaria (Bachillerato) completa      141744\n",
            "Primaria incompleta                      99420\n",
            "Técnica o tecnológica completa           89542\n",
            "Educación profesional completa           85326\n",
            "Secundaria (Bachillerato) incompleta     81012\n",
            "Primaria completa                        56125\n",
            "Postgrado                                46246\n",
            "Técnica o tecnológica incompleta         27533\n",
            "Educación profesional incompleta         22470\n",
            "Ninguno                                  14483\n",
            "No sabe                                   3017\n",
            "No Aplica                                 1918\n",
            "Name: FAMI_EDUCACIONMADRE, dtype: int64\n",
            "\n",
            "Variable RENDIMIENTO_GLOBAL:\n",
            "alto          175619\n",
            "bajo          172987\n",
            "medio-bajo    172275\n",
            "medio-alto    171619\n",
            "Name: RENDIMIENTO_GLOBAL, dtype: int64\n",
            "\n"
          ]
        }
      ]
    }
  ]
}