{
  "cells": [
    {
      "cell_type": "markdown",
      "metadata": {
        "id": "Kzs9Pws7_Khp"
      },
      "source": [
        "---\n",
        "# **Instalación del entorno de Kaggle**\n",
        "\n"
      ]
    },
    {
      "cell_type": "code",
      "execution_count": 1,
      "metadata": {
        "id": "3O0ptlxFhIu6"
      },
      "outputs": [],
      "source": [
        "!pip install -q kaggle"
      ]
    },
    {
      "cell_type": "markdown",
      "metadata": {
        "id": "HKGNdRg6AfiJ"
      },
      "source": [
        "---\n",
        "# **Instalación de librerias**"
      ]
    },
    {
      "cell_type": "code",
      "execution_count": 2,
      "metadata": {
        "colab": {
          "base_uri": "https://localhost:8080/"
        },
        "id": "lowP7hy6zR0j",
        "outputId": "9211897a-3719-4749-8903-26637229c7e4"
      },
      "outputs": [
        {
          "output_type": "stream",
          "name": "stdout",
          "text": [
            "Collecting unidecode\n",
            "  Downloading Unidecode-1.3.8-py3-none-any.whl (235 kB)\n",
            "\u001b[?25l     \u001b[90m━━━━━━━━━━━━━━━━━━━━━━━━━━━━━━━━━━━━━━━━\u001b[0m \u001b[32m0.0/235.5 kB\u001b[0m \u001b[31m?\u001b[0m eta \u001b[36m-:--:--\u001b[0m\r\u001b[2K     \u001b[91m━━━━━━━━━━━━━━━\u001b[0m\u001b[91m╸\u001b[0m\u001b[90m━━━━━━━━━━━━━━━━━━━━━━━━\u001b[0m \u001b[32m92.2/235.5 kB\u001b[0m \u001b[31m2.5 MB/s\u001b[0m eta \u001b[36m0:00:01\u001b[0m\r\u001b[2K     \u001b[90m━━━━━━━━━━━━━━━━━━━━━━━━━━━━━━━━━━━━━━━━\u001b[0m \u001b[32m235.5/235.5 kB\u001b[0m \u001b[31m4.1 MB/s\u001b[0m eta \u001b[36m0:00:00\u001b[0m\n",
            "\u001b[?25hInstalling collected packages: unidecode\n",
            "Successfully installed unidecode-1.3.8\n"
          ]
        }
      ],
      "source": [
        "!pip install unidecode"
      ]
    },
    {
      "cell_type": "code",
      "execution_count": 3,
      "metadata": {
        "id": "YslzCl12AnkO"
      },
      "outputs": [],
      "source": [
        "import pandas as pd\n",
        "import numpy as np\n",
        "import statistics\n",
        "import unidecode\n",
        "from google.colab import files\n",
        "from sklearn.impute import SimpleImputer\n",
        "from sklearn.preprocessing import MinMaxScaler\n",
        "from sklearn.model_selection import train_test_split\n",
        "from sklearn.neighbors import KNeighborsClassifier\n",
        "from sklearn.metrics import accuracy_score"
      ]
    },
    {
      "cell_type": "markdown",
      "metadata": {
        "id": "Mdxnj5ks_sx6"
      },
      "source": [
        "---\n",
        "# **Lectura de los datos desde Kaggle**"
      ]
    },
    {
      "cell_type": "code",
      "execution_count": 4,
      "metadata": {
        "id": "KLy6Xs6miI_4"
      },
      "outputs": [],
      "source": [
        "!mkdir -p ~/.kaggle"
      ]
    },
    {
      "cell_type": "code",
      "execution_count": 5,
      "metadata": {
        "id": "m5F4tOwQiND4"
      },
      "outputs": [],
      "source": [
        "!echo '{\"username\":\"nicolsniovalderrama\",\"key\":\"f7f9fda0ddecb368ca50593318da1412\"}' > ~/.kaggle/kaggle.json"
      ]
    },
    {
      "cell_type": "code",
      "execution_count": 6,
      "metadata": {
        "id": "M8PHdTRSi8T8"
      },
      "outputs": [],
      "source": [
        "!chmod 600 ~/.kaggle/kaggle.json"
      ]
    },
    {
      "cell_type": "code",
      "execution_count": 7,
      "metadata": {
        "colab": {
          "base_uri": "https://localhost:8080/"
        },
        "id": "IHNGOx_wjG4J",
        "outputId": "361eab3f-9485-4310-b3a2-f2e7533b5573"
      },
      "outputs": [
        {
          "output_type": "stream",
          "name": "stdout",
          "text": [
            "Downloading udea-ai4eng-20241.zip to /content\n",
            " 24% 5.00M/21.2M [00:00<00:00, 44.6MB/s]\n",
            "100% 21.2M/21.2M [00:00<00:00, 106MB/s] \n"
          ]
        }
      ],
      "source": [
        "!kaggle competitions download -c udea-ai4eng-20241"
      ]
    },
    {
      "cell_type": "code",
      "execution_count": 8,
      "metadata": {
        "colab": {
          "base_uri": "https://localhost:8080/"
        },
        "id": "yXl2WW_0kF-0",
        "outputId": "170c0b0f-acf0-4127-9295-4596633bd790"
      },
      "outputs": [
        {
          "output_type": "stream",
          "name": "stdout",
          "text": [
            "Archive:  udea-ai4eng-20241.zip\n",
            "  inflating: submission_example.csv  \n",
            "  inflating: test.csv                \n",
            "  inflating: train.csv               \n"
          ]
        }
      ],
      "source": [
        "!unzip udea-ai4eng-20241"
      ]
    },
    {
      "cell_type": "code",
      "execution_count": 9,
      "metadata": {
        "colab": {
          "base_uri": "https://localhost:8080/",
          "height": 313
        },
        "id": "amtr3OKsnAWC",
        "outputId": "937191e1-5027-4827-db5f-c209cfadc9ed"
      },
      "outputs": [
        {
          "output_type": "execute_result",
          "data": {
            "text/plain": [
              "       ID  PERIODO         ESTU_PRGM_ACADEMICO ESTU_PRGM_DEPARTAMENTO  \\\n",
              "0  904256    20212                  ENFERMERIA                 BOGOTÁ   \n",
              "1  645256    20212                     DERECHO              ATLANTICO   \n",
              "2  308367    20203       MERCADEO Y PUBLICIDAD                 BOGOTÁ   \n",
              "3  470353    20195  ADMINISTRACION DE EMPRESAS              SANTANDER   \n",
              "4  989032    20212                  PSICOLOGIA              ANTIOQUIA   \n",
              "\n",
              "             ESTU_VALORMATRICULAUNIVERSIDAD ESTU_HORASSEMANATRABAJA  \\\n",
              "0  Entre 5.5 millones y menos de 7 millones       Menos de 10 horas   \n",
              "1  Entre 2.5 millones y menos de 4 millones                       0   \n",
              "2  Entre 2.5 millones y menos de 4 millones         Más de 30 horas   \n",
              "3  Entre 4 millones y menos de 5.5 millones                       0   \n",
              "4  Entre 2.5 millones y menos de 4 millones     Entre 21 y 30 horas   \n",
              "\n",
              "  FAMI_ESTRATOVIVIENDA FAMI_TIENEINTERNET                 FAMI_EDUCACIONPADRE  \\\n",
              "0            Estrato 3                 Si    Técnica o tecnológica incompleta   \n",
              "1            Estrato 3                 No      Técnica o tecnológica completa   \n",
              "2            Estrato 3                 Si  Secundaria (Bachillerato) completa   \n",
              "3            Estrato 4                 Si                             No sabe   \n",
              "4            Estrato 3                 Si                   Primaria completa   \n",
              "\n",
              "  FAMI_TIENELAVADORA FAMI_TIENEAUTOMOVIL ESTU_PRIVADO_LIBERTAD  \\\n",
              "0                 Si                  Si                     N   \n",
              "1                 Si                  No                     N   \n",
              "2                 Si                  No                     N   \n",
              "3                 Si                  No                     N   \n",
              "4                 Si                  Si                     N   \n",
              "\n",
              "  ESTU_PAGOMATRICULAPROPIO FAMI_TIENECOMPUTADOR FAMI_TIENEINTERNET.1  \\\n",
              "0                       No                   Si                   Si   \n",
              "1                       No                   Si                   No   \n",
              "2                       No                   No                   Si   \n",
              "3                       No                   Si                   Si   \n",
              "4                       No                   Si                   Si   \n",
              "\n",
              "                  FAMI_EDUCACIONMADRE RENDIMIENTO_GLOBAL  \n",
              "0                           Postgrado         medio-alto  \n",
              "1    Técnica o tecnológica incompleta               bajo  \n",
              "2  Secundaria (Bachillerato) completa               bajo  \n",
              "3  Secundaria (Bachillerato) completa               alto  \n",
              "4                   Primaria completa         medio-bajo  "
            ],
            "text/html": [
              "\n",
              "  <div id=\"df-ff6a0371-a183-4df6-9c0d-ebc7b59c53fc\" class=\"colab-df-container\">\n",
              "    <div>\n",
              "<style scoped>\n",
              "    .dataframe tbody tr th:only-of-type {\n",
              "        vertical-align: middle;\n",
              "    }\n",
              "\n",
              "    .dataframe tbody tr th {\n",
              "        vertical-align: top;\n",
              "    }\n",
              "\n",
              "    .dataframe thead th {\n",
              "        text-align: right;\n",
              "    }\n",
              "</style>\n",
              "<table border=\"1\" class=\"dataframe\">\n",
              "  <thead>\n",
              "    <tr style=\"text-align: right;\">\n",
              "      <th></th>\n",
              "      <th>ID</th>\n",
              "      <th>PERIODO</th>\n",
              "      <th>ESTU_PRGM_ACADEMICO</th>\n",
              "      <th>ESTU_PRGM_DEPARTAMENTO</th>\n",
              "      <th>ESTU_VALORMATRICULAUNIVERSIDAD</th>\n",
              "      <th>ESTU_HORASSEMANATRABAJA</th>\n",
              "      <th>FAMI_ESTRATOVIVIENDA</th>\n",
              "      <th>FAMI_TIENEINTERNET</th>\n",
              "      <th>FAMI_EDUCACIONPADRE</th>\n",
              "      <th>FAMI_TIENELAVADORA</th>\n",
              "      <th>FAMI_TIENEAUTOMOVIL</th>\n",
              "      <th>ESTU_PRIVADO_LIBERTAD</th>\n",
              "      <th>ESTU_PAGOMATRICULAPROPIO</th>\n",
              "      <th>FAMI_TIENECOMPUTADOR</th>\n",
              "      <th>FAMI_TIENEINTERNET.1</th>\n",
              "      <th>FAMI_EDUCACIONMADRE</th>\n",
              "      <th>RENDIMIENTO_GLOBAL</th>\n",
              "    </tr>\n",
              "  </thead>\n",
              "  <tbody>\n",
              "    <tr>\n",
              "      <th>0</th>\n",
              "      <td>904256</td>\n",
              "      <td>20212</td>\n",
              "      <td>ENFERMERIA</td>\n",
              "      <td>BOGOTÁ</td>\n",
              "      <td>Entre 5.5 millones y menos de 7 millones</td>\n",
              "      <td>Menos de 10 horas</td>\n",
              "      <td>Estrato 3</td>\n",
              "      <td>Si</td>\n",
              "      <td>Técnica o tecnológica incompleta</td>\n",
              "      <td>Si</td>\n",
              "      <td>Si</td>\n",
              "      <td>N</td>\n",
              "      <td>No</td>\n",
              "      <td>Si</td>\n",
              "      <td>Si</td>\n",
              "      <td>Postgrado</td>\n",
              "      <td>medio-alto</td>\n",
              "    </tr>\n",
              "    <tr>\n",
              "      <th>1</th>\n",
              "      <td>645256</td>\n",
              "      <td>20212</td>\n",
              "      <td>DERECHO</td>\n",
              "      <td>ATLANTICO</td>\n",
              "      <td>Entre 2.5 millones y menos de 4 millones</td>\n",
              "      <td>0</td>\n",
              "      <td>Estrato 3</td>\n",
              "      <td>No</td>\n",
              "      <td>Técnica o tecnológica completa</td>\n",
              "      <td>Si</td>\n",
              "      <td>No</td>\n",
              "      <td>N</td>\n",
              "      <td>No</td>\n",
              "      <td>Si</td>\n",
              "      <td>No</td>\n",
              "      <td>Técnica o tecnológica incompleta</td>\n",
              "      <td>bajo</td>\n",
              "    </tr>\n",
              "    <tr>\n",
              "      <th>2</th>\n",
              "      <td>308367</td>\n",
              "      <td>20203</td>\n",
              "      <td>MERCADEO Y PUBLICIDAD</td>\n",
              "      <td>BOGOTÁ</td>\n",
              "      <td>Entre 2.5 millones y menos de 4 millones</td>\n",
              "      <td>Más de 30 horas</td>\n",
              "      <td>Estrato 3</td>\n",
              "      <td>Si</td>\n",
              "      <td>Secundaria (Bachillerato) completa</td>\n",
              "      <td>Si</td>\n",
              "      <td>No</td>\n",
              "      <td>N</td>\n",
              "      <td>No</td>\n",
              "      <td>No</td>\n",
              "      <td>Si</td>\n",
              "      <td>Secundaria (Bachillerato) completa</td>\n",
              "      <td>bajo</td>\n",
              "    </tr>\n",
              "    <tr>\n",
              "      <th>3</th>\n",
              "      <td>470353</td>\n",
              "      <td>20195</td>\n",
              "      <td>ADMINISTRACION DE EMPRESAS</td>\n",
              "      <td>SANTANDER</td>\n",
              "      <td>Entre 4 millones y menos de 5.5 millones</td>\n",
              "      <td>0</td>\n",
              "      <td>Estrato 4</td>\n",
              "      <td>Si</td>\n",
              "      <td>No sabe</td>\n",
              "      <td>Si</td>\n",
              "      <td>No</td>\n",
              "      <td>N</td>\n",
              "      <td>No</td>\n",
              "      <td>Si</td>\n",
              "      <td>Si</td>\n",
              "      <td>Secundaria (Bachillerato) completa</td>\n",
              "      <td>alto</td>\n",
              "    </tr>\n",
              "    <tr>\n",
              "      <th>4</th>\n",
              "      <td>989032</td>\n",
              "      <td>20212</td>\n",
              "      <td>PSICOLOGIA</td>\n",
              "      <td>ANTIOQUIA</td>\n",
              "      <td>Entre 2.5 millones y menos de 4 millones</td>\n",
              "      <td>Entre 21 y 30 horas</td>\n",
              "      <td>Estrato 3</td>\n",
              "      <td>Si</td>\n",
              "      <td>Primaria completa</td>\n",
              "      <td>Si</td>\n",
              "      <td>Si</td>\n",
              "      <td>N</td>\n",
              "      <td>No</td>\n",
              "      <td>Si</td>\n",
              "      <td>Si</td>\n",
              "      <td>Primaria completa</td>\n",
              "      <td>medio-bajo</td>\n",
              "    </tr>\n",
              "  </tbody>\n",
              "</table>\n",
              "</div>\n",
              "    <div class=\"colab-df-buttons\">\n",
              "\n",
              "  <div class=\"colab-df-container\">\n",
              "    <button class=\"colab-df-convert\" onclick=\"convertToInteractive('df-ff6a0371-a183-4df6-9c0d-ebc7b59c53fc')\"\n",
              "            title=\"Convert this dataframe to an interactive table.\"\n",
              "            style=\"display:none;\">\n",
              "\n",
              "  <svg xmlns=\"http://www.w3.org/2000/svg\" height=\"24px\" viewBox=\"0 -960 960 960\">\n",
              "    <path d=\"M120-120v-720h720v720H120Zm60-500h600v-160H180v160Zm220 220h160v-160H400v160Zm0 220h160v-160H400v160ZM180-400h160v-160H180v160Zm440 0h160v-160H620v160ZM180-180h160v-160H180v160Zm440 0h160v-160H620v160Z\"/>\n",
              "  </svg>\n",
              "    </button>\n",
              "\n",
              "  <style>\n",
              "    .colab-df-container {\n",
              "      display:flex;\n",
              "      gap: 12px;\n",
              "    }\n",
              "\n",
              "    .colab-df-convert {\n",
              "      background-color: #E8F0FE;\n",
              "      border: none;\n",
              "      border-radius: 50%;\n",
              "      cursor: pointer;\n",
              "      display: none;\n",
              "      fill: #1967D2;\n",
              "      height: 32px;\n",
              "      padding: 0 0 0 0;\n",
              "      width: 32px;\n",
              "    }\n",
              "\n",
              "    .colab-df-convert:hover {\n",
              "      background-color: #E2EBFA;\n",
              "      box-shadow: 0px 1px 2px rgba(60, 64, 67, 0.3), 0px 1px 3px 1px rgba(60, 64, 67, 0.15);\n",
              "      fill: #174EA6;\n",
              "    }\n",
              "\n",
              "    .colab-df-buttons div {\n",
              "      margin-bottom: 4px;\n",
              "    }\n",
              "\n",
              "    [theme=dark] .colab-df-convert {\n",
              "      background-color: #3B4455;\n",
              "      fill: #D2E3FC;\n",
              "    }\n",
              "\n",
              "    [theme=dark] .colab-df-convert:hover {\n",
              "      background-color: #434B5C;\n",
              "      box-shadow: 0px 1px 3px 1px rgba(0, 0, 0, 0.15);\n",
              "      filter: drop-shadow(0px 1px 2px rgba(0, 0, 0, 0.3));\n",
              "      fill: #FFFFFF;\n",
              "    }\n",
              "  </style>\n",
              "\n",
              "    <script>\n",
              "      const buttonEl =\n",
              "        document.querySelector('#df-ff6a0371-a183-4df6-9c0d-ebc7b59c53fc button.colab-df-convert');\n",
              "      buttonEl.style.display =\n",
              "        google.colab.kernel.accessAllowed ? 'block' : 'none';\n",
              "\n",
              "      async function convertToInteractive(key) {\n",
              "        const element = document.querySelector('#df-ff6a0371-a183-4df6-9c0d-ebc7b59c53fc');\n",
              "        const dataTable =\n",
              "          await google.colab.kernel.invokeFunction('convertToInteractive',\n",
              "                                                    [key], {});\n",
              "        if (!dataTable) return;\n",
              "\n",
              "        const docLinkHtml = 'Like what you see? Visit the ' +\n",
              "          '<a target=\"_blank\" href=https://colab.research.google.com/notebooks/data_table.ipynb>data table notebook</a>'\n",
              "          + ' to learn more about interactive tables.';\n",
              "        element.innerHTML = '';\n",
              "        dataTable['output_type'] = 'display_data';\n",
              "        await google.colab.output.renderOutput(dataTable, element);\n",
              "        const docLink = document.createElement('div');\n",
              "        docLink.innerHTML = docLinkHtml;\n",
              "        element.appendChild(docLink);\n",
              "      }\n",
              "    </script>\n",
              "  </div>\n",
              "\n",
              "\n",
              "<div id=\"df-215a4513-c203-412b-b19e-7392942f5eaa\">\n",
              "  <button class=\"colab-df-quickchart\" onclick=\"quickchart('df-215a4513-c203-412b-b19e-7392942f5eaa')\"\n",
              "            title=\"Suggest charts\"\n",
              "            style=\"display:none;\">\n",
              "\n",
              "<svg xmlns=\"http://www.w3.org/2000/svg\" height=\"24px\"viewBox=\"0 0 24 24\"\n",
              "     width=\"24px\">\n",
              "    <g>\n",
              "        <path d=\"M19 3H5c-1.1 0-2 .9-2 2v14c0 1.1.9 2 2 2h14c1.1 0 2-.9 2-2V5c0-1.1-.9-2-2-2zM9 17H7v-7h2v7zm4 0h-2V7h2v10zm4 0h-2v-4h2v4z\"/>\n",
              "    </g>\n",
              "</svg>\n",
              "  </button>\n",
              "\n",
              "<style>\n",
              "  .colab-df-quickchart {\n",
              "      --bg-color: #E8F0FE;\n",
              "      --fill-color: #1967D2;\n",
              "      --hover-bg-color: #E2EBFA;\n",
              "      --hover-fill-color: #174EA6;\n",
              "      --disabled-fill-color: #AAA;\n",
              "      --disabled-bg-color: #DDD;\n",
              "  }\n",
              "\n",
              "  [theme=dark] .colab-df-quickchart {\n",
              "      --bg-color: #3B4455;\n",
              "      --fill-color: #D2E3FC;\n",
              "      --hover-bg-color: #434B5C;\n",
              "      --hover-fill-color: #FFFFFF;\n",
              "      --disabled-bg-color: #3B4455;\n",
              "      --disabled-fill-color: #666;\n",
              "  }\n",
              "\n",
              "  .colab-df-quickchart {\n",
              "    background-color: var(--bg-color);\n",
              "    border: none;\n",
              "    border-radius: 50%;\n",
              "    cursor: pointer;\n",
              "    display: none;\n",
              "    fill: var(--fill-color);\n",
              "    height: 32px;\n",
              "    padding: 0;\n",
              "    width: 32px;\n",
              "  }\n",
              "\n",
              "  .colab-df-quickchart:hover {\n",
              "    background-color: var(--hover-bg-color);\n",
              "    box-shadow: 0 1px 2px rgba(60, 64, 67, 0.3), 0 1px 3px 1px rgba(60, 64, 67, 0.15);\n",
              "    fill: var(--button-hover-fill-color);\n",
              "  }\n",
              "\n",
              "  .colab-df-quickchart-complete:disabled,\n",
              "  .colab-df-quickchart-complete:disabled:hover {\n",
              "    background-color: var(--disabled-bg-color);\n",
              "    fill: var(--disabled-fill-color);\n",
              "    box-shadow: none;\n",
              "  }\n",
              "\n",
              "  .colab-df-spinner {\n",
              "    border: 2px solid var(--fill-color);\n",
              "    border-color: transparent;\n",
              "    border-bottom-color: var(--fill-color);\n",
              "    animation:\n",
              "      spin 1s steps(1) infinite;\n",
              "  }\n",
              "\n",
              "  @keyframes spin {\n",
              "    0% {\n",
              "      border-color: transparent;\n",
              "      border-bottom-color: var(--fill-color);\n",
              "      border-left-color: var(--fill-color);\n",
              "    }\n",
              "    20% {\n",
              "      border-color: transparent;\n",
              "      border-left-color: var(--fill-color);\n",
              "      border-top-color: var(--fill-color);\n",
              "    }\n",
              "    30% {\n",
              "      border-color: transparent;\n",
              "      border-left-color: var(--fill-color);\n",
              "      border-top-color: var(--fill-color);\n",
              "      border-right-color: var(--fill-color);\n",
              "    }\n",
              "    40% {\n",
              "      border-color: transparent;\n",
              "      border-right-color: var(--fill-color);\n",
              "      border-top-color: var(--fill-color);\n",
              "    }\n",
              "    60% {\n",
              "      border-color: transparent;\n",
              "      border-right-color: var(--fill-color);\n",
              "    }\n",
              "    80% {\n",
              "      border-color: transparent;\n",
              "      border-right-color: var(--fill-color);\n",
              "      border-bottom-color: var(--fill-color);\n",
              "    }\n",
              "    90% {\n",
              "      border-color: transparent;\n",
              "      border-bottom-color: var(--fill-color);\n",
              "    }\n",
              "  }\n",
              "</style>\n",
              "\n",
              "  <script>\n",
              "    async function quickchart(key) {\n",
              "      const quickchartButtonEl =\n",
              "        document.querySelector('#' + key + ' button');\n",
              "      quickchartButtonEl.disabled = true;  // To prevent multiple clicks.\n",
              "      quickchartButtonEl.classList.add('colab-df-spinner');\n",
              "      try {\n",
              "        const charts = await google.colab.kernel.invokeFunction(\n",
              "            'suggestCharts', [key], {});\n",
              "      } catch (error) {\n",
              "        console.error('Error during call to suggestCharts:', error);\n",
              "      }\n",
              "      quickchartButtonEl.classList.remove('colab-df-spinner');\n",
              "      quickchartButtonEl.classList.add('colab-df-quickchart-complete');\n",
              "    }\n",
              "    (() => {\n",
              "      let quickchartButtonEl =\n",
              "        document.querySelector('#df-215a4513-c203-412b-b19e-7392942f5eaa button');\n",
              "      quickchartButtonEl.style.display =\n",
              "        google.colab.kernel.accessAllowed ? 'block' : 'none';\n",
              "    })();\n",
              "  </script>\n",
              "</div>\n",
              "    </div>\n",
              "  </div>\n"
            ],
            "application/vnd.google.colaboratory.intrinsic+json": {
              "type": "dataframe",
              "variable_name": "df_train"
            }
          },
          "metadata": {},
          "execution_count": 9
        }
      ],
      "source": [
        "df_train = pd.read_csv('train.csv')\n",
        "df_train.head()"
      ]
    },
    {
      "cell_type": "code",
      "execution_count": 10,
      "metadata": {
        "id": "_re_BrmZ7TNK"
      },
      "outputs": [],
      "source": [
        "df_test = pd.read_csv('test.csv')"
      ]
    },
    {
      "cell_type": "markdown",
      "metadata": {
        "id": "BMHAayMrAtJ-"
      },
      "source": [
        "---\n",
        "# **Tratamiento de datos**"
      ]
    },
    {
      "cell_type": "markdown",
      "metadata": {
        "id": "5biQvxwR9-__"
      },
      "source": [
        "## **Valores duplicados**"
      ]
    },
    {
      "cell_type": "code",
      "execution_count": 11,
      "metadata": {
        "colab": {
          "base_uri": "https://localhost:8080/"
        },
        "id": "Q6FnEjIS-CgA",
        "outputId": "fb124188-350b-48e9-faee-b608dfb9ad7a"
      },
      "outputs": [
        {
          "output_type": "execute_result",
          "data": {
            "text/plain": [
              "0"
            ]
          },
          "metadata": {},
          "execution_count": 11
        }
      ],
      "source": [
        "df_train.duplicated().sum()"
      ]
    },
    {
      "cell_type": "markdown",
      "metadata": {
        "id": "Jv3VBs0L4sGU"
      },
      "source": [
        "### Eliminación de columnas repetidas"
      ]
    },
    {
      "cell_type": "code",
      "execution_count": 12,
      "metadata": {
        "colab": {
          "base_uri": "https://localhost:8080/"
        },
        "id": "57Xrpz9Px1Hp",
        "outputId": "9c0ccb8b-e0e5-484b-fb37-3fe98d5717e4"
      },
      "outputs": [
        {
          "output_type": "stream",
          "name": "stdout",
          "text": [
            "Hay 692500 datos\n",
            "De los cuales, 26629 son diferentes entre las columnas FAMI_INTERNET Y FAMI_INTERNET.1\n",
            "Los datos diferentes entre las dos columnas corresponde al 3.85% deL total de los datos\n"
          ]
        }
      ],
      "source": [
        "df0 = df_train.copy()\n",
        "A = df0['FAMI_TIENEINTERNET'] == df0['FAMI_TIENEINTERNET.1']\n",
        "print(f'Hay {len(A)} datos')\n",
        "B = (A==False).sum()\n",
        "print(f'De los cuales, {B} son diferentes entre las columnas FAMI_INTERNET Y FAMI_INTERNET.1')\n",
        "C = B / len(A)\n",
        "print(f'Los datos diferentes entre las dos columnas corresponde al {(C*100).round(2)}% deL total de los datos')"
      ]
    },
    {
      "cell_type": "markdown",
      "metadata": {
        "id": "FuVaqQIt62Tp"
      },
      "source": [
        "Debido a que las dos columnas difieren en solo 3.85%, se toma la desición de eliminar la columna 'FAMI_TIENEINTERNET.1'"
      ]
    },
    {
      "cell_type": "code",
      "execution_count": 13,
      "metadata": {
        "id": "HTn7oU-44ryO"
      },
      "outputs": [],
      "source": [
        "df1 = df0.drop('FAMI_TIENEINTERNET.1', axis = 1)"
      ]
    },
    {
      "cell_type": "code",
      "execution_count": 14,
      "metadata": {
        "id": "KxbkQEBOIDqC"
      },
      "outputs": [],
      "source": [
        "df_test = df_test.drop('FAMI_TIENEINTERNET.1', axis = 1)"
      ]
    },
    {
      "cell_type": "markdown",
      "metadata": {
        "id": "vrHHtl1SW6va"
      },
      "source": [
        "## **Información no relevante**"
      ]
    },
    {
      "cell_type": "markdown",
      "metadata": {
        "id": "PMKkN7goV1o7"
      },
      "source": [
        "Se eliminan las variables PERIODO, ESTU_PRGM_DEPARTAMENTO, ESTU_PRIVADO_LIBERTAD, FAMI_TIENELAVADORA y FAMI_TIENEAUTOMOVIL ya que se considera que no aportaran al modelo."
      ]
    },
    {
      "cell_type": "code",
      "execution_count": 15,
      "metadata": {
        "id": "PJAAKuWaAXOI"
      },
      "outputs": [],
      "source": [
        "df1 = df1.drop(columns = ['PERIODO', 'ESTU_PRGM_DEPARTAMENTO',\n",
        "                          'ESTU_PRIVADO_LIBERTAD', 'FAMI_TIENELAVADORA', 'FAMI_TIENEAUTOMOVIL'], axis = 1)"
      ]
    },
    {
      "cell_type": "code",
      "execution_count": 16,
      "metadata": {
        "id": "99bjLijUIMc1"
      },
      "outputs": [],
      "source": [
        "df_test = df_test.drop(columns = ['PERIODO', 'ESTU_PRGM_DEPARTAMENTO',\n",
        "                          'ESTU_PRIVADO_LIBERTAD', 'FAMI_TIENELAVADORA', 'FAMI_TIENEAUTOMOVIL'], axis = 1)"
      ]
    },
    {
      "cell_type": "markdown",
      "metadata": {
        "id": "MtQj2zwYh9HC"
      },
      "source": [
        "## **Conversión de variables categoricas en numericas**"
      ]
    },
    {
      "cell_type": "markdown",
      "metadata": {
        "id": "S47eD8JQjsjn"
      },
      "source": [
        "### **Transformación de ESTU_VALORMATRICULAUNIVERSIDAD**"
      ]
    },
    {
      "cell_type": "code",
      "execution_count": 17,
      "metadata": {
        "colab": {
          "base_uri": "https://localhost:8080/"
        },
        "id": "aVVfTNkJHpqU",
        "outputId": "84b64d26-8443-45ad-c1e4-e949345c1a3a"
      },
      "outputs": [
        {
          "output_type": "execute_result",
          "data": {
            "text/plain": [
              "array(['Entre 5.5 millones y menos de 7 millones',\n",
              "       'Entre 2.5 millones y menos de 4 millones',\n",
              "       'Entre 4 millones y menos de 5.5 millones', 'Más de 7 millones',\n",
              "       'Entre 1 millón y menos de 2.5 millones',\n",
              "       'Entre 500 mil y menos de 1 millón', 'Menos de 500 mil',\n",
              "       'No pagó matrícula', nan], dtype=object)"
            ]
          },
          "metadata": {},
          "execution_count": 17
        }
      ],
      "source": [
        "df1['ESTU_VALORMATRICULAUNIVERSIDAD'].unique()"
      ]
    },
    {
      "cell_type": "code",
      "execution_count": 18,
      "metadata": {
        "id": "3uTRwEj2Q6Ub"
      },
      "outputs": [],
      "source": [
        "df1['ESTU_VALORMATRICULAUNIVERSIDAD'] = df1['ESTU_VALORMATRICULAUNIVERSIDAD'].replace({'No pagó matrícula': 0,\n",
        "                                                                                       'Menos de 500 mil': 250000,\n",
        "                                                                                       'Entre 500 mil y menos de 1 millón': 750000,\n",
        "                                                                                       'Entre 1 millón y menos de 2.5 millones': 1750000,\n",
        "                                                                                       'Entre 2.5 millones y menos de 4 millones': 3250000,\n",
        "                                                                                       'Entre 4 millones y menos de 5.5 millones': 4750000,\n",
        "                                                                                       'Entre 5.5 millones y menos de 7 millones': 6250000,\n",
        "                                                                                       'Más de 7 millones': 7000000\n",
        "                                                                                       })"
      ]
    },
    {
      "cell_type": "code",
      "execution_count": 19,
      "metadata": {
        "id": "UGLAdyaZJvrN"
      },
      "outputs": [],
      "source": [
        "df_test['ESTU_VALORMATRICULAUNIVERSIDAD'] = df_test['ESTU_VALORMATRICULAUNIVERSIDAD'].replace({'No pagó matrícula': 0,\n",
        "                                                                                       'Menos de 500 mil': 250000,\n",
        "                                                                                       'Entre 500 mil y menos de 1 millón': 750000,\n",
        "                                                                                       'Entre 1 millón y menos de 2.5 millones': 1750000,\n",
        "                                                                                       'Entre 2.5 millones y menos de 4 millones': 3250000,\n",
        "                                                                                       'Entre 4 millones y menos de 5.5 millones': 4750000,\n",
        "                                                                                       'Entre 5.5 millones y menos de 7 millones': 6250000,\n",
        "                                                                                       'Más de 7 millones': 7000000\n",
        "                                                                                       })"
      ]
    },
    {
      "cell_type": "markdown",
      "metadata": {
        "id": "0layBGvgmuXW"
      },
      "source": [
        "### **Transformación de FAMI_ESTRATOVIVIENDA**"
      ]
    },
    {
      "cell_type": "code",
      "execution_count": 20,
      "metadata": {
        "colab": {
          "base_uri": "https://localhost:8080/"
        },
        "id": "DN6xdW2jqpbM",
        "outputId": "47e2d67d-f003-4852-b242-0bdc41c39764"
      },
      "outputs": [
        {
          "output_type": "execute_result",
          "data": {
            "text/plain": [
              "array(['Estrato 3', 'Estrato 4', 'Estrato 5', 'Estrato 2', 'Estrato 1',\n",
              "       nan, 'Estrato 6', 'Sin Estrato'], dtype=object)"
            ]
          },
          "metadata": {},
          "execution_count": 20
        }
      ],
      "source": [
        "df1['FAMI_ESTRATOVIVIENDA'].unique()"
      ]
    },
    {
      "cell_type": "code",
      "execution_count": 21,
      "metadata": {
        "colab": {
          "base_uri": "https://localhost:8080/"
        },
        "id": "DPjYwsb8mGNr",
        "outputId": "67d54f30-8b6d-43b1-9b8d-293dc093804b"
      },
      "outputs": [
        {
          "output_type": "execute_result",
          "data": {
            "text/plain": [
              "array(['3', '4', '5', '2', '1', nan, '6', 'Sin Estrato'], dtype=object)"
            ]
          },
          "metadata": {},
          "execution_count": 21
        }
      ],
      "source": [
        "df1['FAMI_ESTRATOVIVIENDA'] = df1['FAMI_ESTRATOVIVIENDA'].replace('Estrato ', '', regex=True)\n",
        "df1['FAMI_ESTRATOVIVIENDA'].unique()"
      ]
    },
    {
      "cell_type": "code",
      "execution_count": 22,
      "metadata": {
        "id": "gYkY-_qtWbbv"
      },
      "outputs": [],
      "source": [
        "# Reemplazar 'Sin Estrato' por NaN en la columna 'FAMI_ESTRATOVIVIENDA'\n",
        "df1['FAMI_ESTRATOVIVIENDA'].replace('Sin Estrato', np.nan, inplace=True)"
      ]
    },
    {
      "cell_type": "code",
      "execution_count": 23,
      "metadata": {
        "colab": {
          "base_uri": "https://localhost:8080/"
        },
        "id": "d_OyI077kCKa",
        "outputId": "430341b3-4ebe-4cd9-d506-03ad027468f3"
      },
      "outputs": [
        {
          "output_type": "execute_result",
          "data": {
            "text/plain": [
              "array(['3', '4', '5', '2', '1', nan, '6'], dtype=object)"
            ]
          },
          "metadata": {},
          "execution_count": 23
        }
      ],
      "source": [
        "df_test['FAMI_ESTRATOVIVIENDA'] = df1['FAMI_ESTRATOVIVIENDA'].replace('Estrato ', '', regex=True)\n",
        "df_test['FAMI_ESTRATOVIVIENDA'].unique()"
      ]
    },
    {
      "cell_type": "code",
      "execution_count": 24,
      "metadata": {
        "id": "8qPtH8GXkCKb"
      },
      "outputs": [],
      "source": [
        "# Reemplazar 'Sin Estrato' por NaN en la columna 'FAMI_ESTRATOVIVIENDA'\n",
        "df_test['FAMI_ESTRATOVIVIENDA'].replace('Sin Estrato', np.nan, inplace=True)"
      ]
    },
    {
      "cell_type": "markdown",
      "metadata": {
        "id": "C-RxGdRon9CM"
      },
      "source": [
        "### **Tranformación de ESTU_HORASSEMANATRABAJA**"
      ]
    },
    {
      "cell_type": "code",
      "execution_count": 25,
      "metadata": {
        "colab": {
          "base_uri": "https://localhost:8080/"
        },
        "id": "JbwM7eCFbZ7O",
        "outputId": "fbf3e72c-b995-4f92-fee9-0a133479d265"
      },
      "outputs": [
        {
          "output_type": "execute_result",
          "data": {
            "text/plain": [
              "array(['Menos de 10 horas', '0', 'Más de 30 horas', 'Entre 21 y 30 horas',\n",
              "       'Entre 11 y 20 horas', nan], dtype=object)"
            ]
          },
          "metadata": {},
          "execution_count": 25
        }
      ],
      "source": [
        "df1['ESTU_HORASSEMANATRABAJA'].unique()"
      ]
    },
    {
      "cell_type": "code",
      "execution_count": 26,
      "metadata": {
        "id": "NOKZ1VWwbhbi"
      },
      "outputs": [],
      "source": [
        "df1['ESTU_HORASSEMANATRABAJA'] = df1['ESTU_HORASSEMANATRABAJA'].replace({'Menos de 10 horas': 5,\n",
        "                                                                         'Entre 11 y 20 horas': 15.5,\n",
        "                                                                         'Entre 21 y 30 horas': 25.5,\n",
        "                                                                         'Más de 30 horas': 30})"
      ]
    },
    {
      "cell_type": "code",
      "execution_count": 27,
      "metadata": {
        "id": "lhrgSC27KjtQ"
      },
      "outputs": [],
      "source": [
        "df_test['ESTU_HORASSEMANATRABAJA'] = df_test['ESTU_HORASSEMANATRABAJA'].replace({'Menos de 10 horas': 5,\n",
        "                                                                         'Entre 11 y 20 horas': 15.5,\n",
        "                                                                         'Entre 21 y 30 horas': 25.5,\n",
        "                                                                         'Más de 30 horas': 30})"
      ]
    },
    {
      "cell_type": "markdown",
      "metadata": {
        "id": "lQrYxqWYtp-q"
      },
      "source": [
        "### **Transformación de FAMI_EDUCACIONPADRE**"
      ]
    },
    {
      "cell_type": "code",
      "execution_count": 28,
      "metadata": {
        "colab": {
          "base_uri": "https://localhost:8080/"
        },
        "id": "nPxykuzStxQO",
        "outputId": "cfcc7600-5659-4b37-b03d-a984e24e2041"
      },
      "outputs": [
        {
          "output_type": "execute_result",
          "data": {
            "text/plain": [
              "array(['Técnica o tecnológica incompleta',\n",
              "       'Técnica o tecnológica completa',\n",
              "       'Secundaria (Bachillerato) completa', 'No sabe',\n",
              "       'Primaria completa', 'Educación profesional completa',\n",
              "       'Educación profesional incompleta', 'Primaria incompleta',\n",
              "       'Postgrado', nan, 'Secundaria (Bachillerato) incompleta',\n",
              "       'Ninguno', 'No Aplica'], dtype=object)"
            ]
          },
          "metadata": {},
          "execution_count": 28
        }
      ],
      "source": [
        "df1['FAMI_EDUCACIONPADRE'].unique()"
      ]
    },
    {
      "cell_type": "code",
      "execution_count": 29,
      "metadata": {
        "id": "eKmYeEX8uYOe"
      },
      "outputs": [],
      "source": [
        "df1['FAMI_EDUCACIONPADRE'] = df1['FAMI_EDUCACIONPADRE'].replace({'No sabe': 0, 'Ninguno': 0, 'No Aplica': 0,\n",
        "                                                                 'Primaria incompleta': 1, 'Primaria completa': 2,\n",
        "                                                                 'Secundaria (Bachillerato) incompleta': 3, 'Secundaria (Bachillerato) completa': 4,\n",
        "                                                                 'Técnica o tecnológica incompleta': 5, 'Técnica o tecnológica completa': 6,\n",
        "                                                                 'Educación profesional incompleta': 7, 'Educación profesional completa': 8,\n",
        "                                                                 'Postgrado': 9})"
      ]
    },
    {
      "cell_type": "code",
      "execution_count": 30,
      "metadata": {
        "id": "criinqhrKnXz"
      },
      "outputs": [],
      "source": [
        "df_test['FAMI_EDUCACIONPADRE'] = df_test['FAMI_EDUCACIONPADRE'].replace({'No sabe': 0, 'Ninguno': 0, 'No Aplica': 0,\n",
        "                                                                 'Primaria incompleta': 1, 'Primaria completa': 2,\n",
        "                                                                 'Secundaria (Bachillerato) incompleta': 3, 'Secundaria (Bachillerato) completa': 4,\n",
        "                                                                 'Técnica o tecnológica incompleta': 5, 'Técnica o tecnológica completa': 6,\n",
        "                                                                 'Educación profesional incompleta': 7, 'Educación profesional completa': 8,\n",
        "                                                                 'Postgrado': 9})"
      ]
    },
    {
      "cell_type": "markdown",
      "metadata": {
        "id": "P2Str-MVvgEC"
      },
      "source": [
        "### **Transformación de FAMI_EDUCACIONMADRE**"
      ]
    },
    {
      "cell_type": "code",
      "execution_count": 31,
      "metadata": {
        "colab": {
          "base_uri": "https://localhost:8080/"
        },
        "id": "QYQzmS6AveqX",
        "outputId": "19efa606-4413-48df-b58b-ee7eb80b47c0"
      },
      "outputs": [
        {
          "output_type": "execute_result",
          "data": {
            "text/plain": [
              "array(['Postgrado', 'Técnica o tecnológica incompleta',\n",
              "       'Secundaria (Bachillerato) completa', 'Primaria completa',\n",
              "       'Técnica o tecnológica completa',\n",
              "       'Secundaria (Bachillerato) incompleta',\n",
              "       'Educación profesional incompleta',\n",
              "       'Educación profesional completa', 'Primaria incompleta', nan,\n",
              "       'Ninguno', 'No Aplica', 'No sabe'], dtype=object)"
            ]
          },
          "metadata": {},
          "execution_count": 31
        }
      ],
      "source": [
        "df1['FAMI_EDUCACIONMADRE'].unique()"
      ]
    },
    {
      "cell_type": "code",
      "execution_count": 32,
      "metadata": {
        "id": "udZPnm_Rveqw"
      },
      "outputs": [],
      "source": [
        "df1['FAMI_EDUCACIONMADRE'] = df1['FAMI_EDUCACIONMADRE'].replace({'No sabe': 0, 'Ninguno': 0, 'No Aplica': 0,\n",
        "                                                                 'Primaria incompleta': 1, 'Primaria completa': 2,\n",
        "                                                                 'Secundaria (Bachillerato) incompleta': 3, 'Secundaria (Bachillerato) completa': 4,\n",
        "                                                                 'Técnica o tecnológica incompleta': 5, 'Técnica o tecnológica completa': 6,\n",
        "                                                                 'Educación profesional incompleta': 7, 'Educación profesional completa': 8,\n",
        "                                                                 'Postgrado': 9})"
      ]
    },
    {
      "cell_type": "code",
      "execution_count": 33,
      "metadata": {
        "id": "VFE8pbjJKq06"
      },
      "outputs": [],
      "source": [
        "df_test['FAMI_EDUCACIONMADRE'] = df_test['FAMI_EDUCACIONMADRE'].replace({'No sabe': 0, 'Ninguno': 0, 'No Aplica': 0,\n",
        "                                                                 'Primaria incompleta': 1, 'Primaria completa': 2,\n",
        "                                                                 'Secundaria (Bachillerato) incompleta': 3, 'Secundaria (Bachillerato) completa': 4,\n",
        "                                                                 'Técnica o tecnológica incompleta': 5, 'Técnica o tecnológica completa': 6,\n",
        "                                                                 'Educación profesional incompleta': 7, 'Educación profesional completa': 8,\n",
        "                                                                 'Postgrado': 9})"
      ]
    },
    {
      "cell_type": "markdown",
      "metadata": {
        "id": "BZ2vVdJxXwZo"
      },
      "source": [
        "## **Codificación binaria**"
      ]
    },
    {
      "cell_type": "code",
      "execution_count": 34,
      "metadata": {
        "id": "v7vSZKpyAsSr"
      },
      "outputs": [],
      "source": [
        "var_yesno = ['FAMI_TIENEINTERNET', 'ESTU_PAGOMATRICULAPROPIO', 'FAMI_TIENECOMPUTADOR']\n",
        "\n",
        "for var in var_yesno:\n",
        "    df1.loc[df1[var] == 'Si', var] = 1\n",
        "    df1.loc[df1[var] == 'No', var] = 0\n",
        "    df_test.loc[df_test[var] == 'Si', var] = 1\n",
        "    df_test.loc[df_test[var] == 'No', var] = 0"
      ]
    },
    {
      "cell_type": "code",
      "execution_count": 35,
      "metadata": {
        "colab": {
          "base_uri": "https://localhost:8080/",
          "height": 261
        },
        "id": "Faux6yB0nM13",
        "outputId": "86467eaf-190d-4d9e-ec95-f89419a4aa3d"
      },
      "outputs": [
        {
          "output_type": "execute_result",
          "data": {
            "text/plain": [
              "       ID         ESTU_PRGM_ACADEMICO  ESTU_VALORMATRICULAUNIVERSIDAD  \\\n",
              "0  904256                  ENFERMERIA                       6250000.0   \n",
              "1  645256                     DERECHO                       3250000.0   \n",
              "2  308367       MERCADEO Y PUBLICIDAD                       3250000.0   \n",
              "3  470353  ADMINISTRACION DE EMPRESAS                       4750000.0   \n",
              "4  989032                  PSICOLOGIA                       3250000.0   \n",
              "\n",
              "  ESTU_HORASSEMANATRABAJA FAMI_ESTRATOVIVIENDA FAMI_TIENEINTERNET  \\\n",
              "0                       5                    3                  1   \n",
              "1                       0                    3                  0   \n",
              "2                      30                    3                  1   \n",
              "3                       0                    4                  1   \n",
              "4                    25.5                    3                  1   \n",
              "\n",
              "   FAMI_EDUCACIONPADRE ESTU_PAGOMATRICULAPROPIO FAMI_TIENECOMPUTADOR  \\\n",
              "0                  5.0                        0                    1   \n",
              "1                  6.0                        0                    1   \n",
              "2                  4.0                        0                    0   \n",
              "3                  0.0                        0                    1   \n",
              "4                  2.0                        0                    1   \n",
              "\n",
              "   FAMI_EDUCACIONMADRE RENDIMIENTO_GLOBAL  \n",
              "0                  9.0         medio-alto  \n",
              "1                  5.0               bajo  \n",
              "2                  4.0               bajo  \n",
              "3                  4.0               alto  \n",
              "4                  2.0         medio-bajo  "
            ],
            "text/html": [
              "\n",
              "  <div id=\"df-6b8c3c43-cedf-4ad9-9722-e49fbb3ddf35\" class=\"colab-df-container\">\n",
              "    <div>\n",
              "<style scoped>\n",
              "    .dataframe tbody tr th:only-of-type {\n",
              "        vertical-align: middle;\n",
              "    }\n",
              "\n",
              "    .dataframe tbody tr th {\n",
              "        vertical-align: top;\n",
              "    }\n",
              "\n",
              "    .dataframe thead th {\n",
              "        text-align: right;\n",
              "    }\n",
              "</style>\n",
              "<table border=\"1\" class=\"dataframe\">\n",
              "  <thead>\n",
              "    <tr style=\"text-align: right;\">\n",
              "      <th></th>\n",
              "      <th>ID</th>\n",
              "      <th>ESTU_PRGM_ACADEMICO</th>\n",
              "      <th>ESTU_VALORMATRICULAUNIVERSIDAD</th>\n",
              "      <th>ESTU_HORASSEMANATRABAJA</th>\n",
              "      <th>FAMI_ESTRATOVIVIENDA</th>\n",
              "      <th>FAMI_TIENEINTERNET</th>\n",
              "      <th>FAMI_EDUCACIONPADRE</th>\n",
              "      <th>ESTU_PAGOMATRICULAPROPIO</th>\n",
              "      <th>FAMI_TIENECOMPUTADOR</th>\n",
              "      <th>FAMI_EDUCACIONMADRE</th>\n",
              "      <th>RENDIMIENTO_GLOBAL</th>\n",
              "    </tr>\n",
              "  </thead>\n",
              "  <tbody>\n",
              "    <tr>\n",
              "      <th>0</th>\n",
              "      <td>904256</td>\n",
              "      <td>ENFERMERIA</td>\n",
              "      <td>6250000.0</td>\n",
              "      <td>5</td>\n",
              "      <td>3</td>\n",
              "      <td>1</td>\n",
              "      <td>5.0</td>\n",
              "      <td>0</td>\n",
              "      <td>1</td>\n",
              "      <td>9.0</td>\n",
              "      <td>medio-alto</td>\n",
              "    </tr>\n",
              "    <tr>\n",
              "      <th>1</th>\n",
              "      <td>645256</td>\n",
              "      <td>DERECHO</td>\n",
              "      <td>3250000.0</td>\n",
              "      <td>0</td>\n",
              "      <td>3</td>\n",
              "      <td>0</td>\n",
              "      <td>6.0</td>\n",
              "      <td>0</td>\n",
              "      <td>1</td>\n",
              "      <td>5.0</td>\n",
              "      <td>bajo</td>\n",
              "    </tr>\n",
              "    <tr>\n",
              "      <th>2</th>\n",
              "      <td>308367</td>\n",
              "      <td>MERCADEO Y PUBLICIDAD</td>\n",
              "      <td>3250000.0</td>\n",
              "      <td>30</td>\n",
              "      <td>3</td>\n",
              "      <td>1</td>\n",
              "      <td>4.0</td>\n",
              "      <td>0</td>\n",
              "      <td>0</td>\n",
              "      <td>4.0</td>\n",
              "      <td>bajo</td>\n",
              "    </tr>\n",
              "    <tr>\n",
              "      <th>3</th>\n",
              "      <td>470353</td>\n",
              "      <td>ADMINISTRACION DE EMPRESAS</td>\n",
              "      <td>4750000.0</td>\n",
              "      <td>0</td>\n",
              "      <td>4</td>\n",
              "      <td>1</td>\n",
              "      <td>0.0</td>\n",
              "      <td>0</td>\n",
              "      <td>1</td>\n",
              "      <td>4.0</td>\n",
              "      <td>alto</td>\n",
              "    </tr>\n",
              "    <tr>\n",
              "      <th>4</th>\n",
              "      <td>989032</td>\n",
              "      <td>PSICOLOGIA</td>\n",
              "      <td>3250000.0</td>\n",
              "      <td>25.5</td>\n",
              "      <td>3</td>\n",
              "      <td>1</td>\n",
              "      <td>2.0</td>\n",
              "      <td>0</td>\n",
              "      <td>1</td>\n",
              "      <td>2.0</td>\n",
              "      <td>medio-bajo</td>\n",
              "    </tr>\n",
              "  </tbody>\n",
              "</table>\n",
              "</div>\n",
              "    <div class=\"colab-df-buttons\">\n",
              "\n",
              "  <div class=\"colab-df-container\">\n",
              "    <button class=\"colab-df-convert\" onclick=\"convertToInteractive('df-6b8c3c43-cedf-4ad9-9722-e49fbb3ddf35')\"\n",
              "            title=\"Convert this dataframe to an interactive table.\"\n",
              "            style=\"display:none;\">\n",
              "\n",
              "  <svg xmlns=\"http://www.w3.org/2000/svg\" height=\"24px\" viewBox=\"0 -960 960 960\">\n",
              "    <path d=\"M120-120v-720h720v720H120Zm60-500h600v-160H180v160Zm220 220h160v-160H400v160Zm0 220h160v-160H400v160ZM180-400h160v-160H180v160Zm440 0h160v-160H620v160ZM180-180h160v-160H180v160Zm440 0h160v-160H620v160Z\"/>\n",
              "  </svg>\n",
              "    </button>\n",
              "\n",
              "  <style>\n",
              "    .colab-df-container {\n",
              "      display:flex;\n",
              "      gap: 12px;\n",
              "    }\n",
              "\n",
              "    .colab-df-convert {\n",
              "      background-color: #E8F0FE;\n",
              "      border: none;\n",
              "      border-radius: 50%;\n",
              "      cursor: pointer;\n",
              "      display: none;\n",
              "      fill: #1967D2;\n",
              "      height: 32px;\n",
              "      padding: 0 0 0 0;\n",
              "      width: 32px;\n",
              "    }\n",
              "\n",
              "    .colab-df-convert:hover {\n",
              "      background-color: #E2EBFA;\n",
              "      box-shadow: 0px 1px 2px rgba(60, 64, 67, 0.3), 0px 1px 3px 1px rgba(60, 64, 67, 0.15);\n",
              "      fill: #174EA6;\n",
              "    }\n",
              "\n",
              "    .colab-df-buttons div {\n",
              "      margin-bottom: 4px;\n",
              "    }\n",
              "\n",
              "    [theme=dark] .colab-df-convert {\n",
              "      background-color: #3B4455;\n",
              "      fill: #D2E3FC;\n",
              "    }\n",
              "\n",
              "    [theme=dark] .colab-df-convert:hover {\n",
              "      background-color: #434B5C;\n",
              "      box-shadow: 0px 1px 3px 1px rgba(0, 0, 0, 0.15);\n",
              "      filter: drop-shadow(0px 1px 2px rgba(0, 0, 0, 0.3));\n",
              "      fill: #FFFFFF;\n",
              "    }\n",
              "  </style>\n",
              "\n",
              "    <script>\n",
              "      const buttonEl =\n",
              "        document.querySelector('#df-6b8c3c43-cedf-4ad9-9722-e49fbb3ddf35 button.colab-df-convert');\n",
              "      buttonEl.style.display =\n",
              "        google.colab.kernel.accessAllowed ? 'block' : 'none';\n",
              "\n",
              "      async function convertToInteractive(key) {\n",
              "        const element = document.querySelector('#df-6b8c3c43-cedf-4ad9-9722-e49fbb3ddf35');\n",
              "        const dataTable =\n",
              "          await google.colab.kernel.invokeFunction('convertToInteractive',\n",
              "                                                    [key], {});\n",
              "        if (!dataTable) return;\n",
              "\n",
              "        const docLinkHtml = 'Like what you see? Visit the ' +\n",
              "          '<a target=\"_blank\" href=https://colab.research.google.com/notebooks/data_table.ipynb>data table notebook</a>'\n",
              "          + ' to learn more about interactive tables.';\n",
              "        element.innerHTML = '';\n",
              "        dataTable['output_type'] = 'display_data';\n",
              "        await google.colab.output.renderOutput(dataTable, element);\n",
              "        const docLink = document.createElement('div');\n",
              "        docLink.innerHTML = docLinkHtml;\n",
              "        element.appendChild(docLink);\n",
              "      }\n",
              "    </script>\n",
              "  </div>\n",
              "\n",
              "\n",
              "<div id=\"df-0466eda4-8a5b-41c4-8294-70b0faeace04\">\n",
              "  <button class=\"colab-df-quickchart\" onclick=\"quickchart('df-0466eda4-8a5b-41c4-8294-70b0faeace04')\"\n",
              "            title=\"Suggest charts\"\n",
              "            style=\"display:none;\">\n",
              "\n",
              "<svg xmlns=\"http://www.w3.org/2000/svg\" height=\"24px\"viewBox=\"0 0 24 24\"\n",
              "     width=\"24px\">\n",
              "    <g>\n",
              "        <path d=\"M19 3H5c-1.1 0-2 .9-2 2v14c0 1.1.9 2 2 2h14c1.1 0 2-.9 2-2V5c0-1.1-.9-2-2-2zM9 17H7v-7h2v7zm4 0h-2V7h2v10zm4 0h-2v-4h2v4z\"/>\n",
              "    </g>\n",
              "</svg>\n",
              "  </button>\n",
              "\n",
              "<style>\n",
              "  .colab-df-quickchart {\n",
              "      --bg-color: #E8F0FE;\n",
              "      --fill-color: #1967D2;\n",
              "      --hover-bg-color: #E2EBFA;\n",
              "      --hover-fill-color: #174EA6;\n",
              "      --disabled-fill-color: #AAA;\n",
              "      --disabled-bg-color: #DDD;\n",
              "  }\n",
              "\n",
              "  [theme=dark] .colab-df-quickchart {\n",
              "      --bg-color: #3B4455;\n",
              "      --fill-color: #D2E3FC;\n",
              "      --hover-bg-color: #434B5C;\n",
              "      --hover-fill-color: #FFFFFF;\n",
              "      --disabled-bg-color: #3B4455;\n",
              "      --disabled-fill-color: #666;\n",
              "  }\n",
              "\n",
              "  .colab-df-quickchart {\n",
              "    background-color: var(--bg-color);\n",
              "    border: none;\n",
              "    border-radius: 50%;\n",
              "    cursor: pointer;\n",
              "    display: none;\n",
              "    fill: var(--fill-color);\n",
              "    height: 32px;\n",
              "    padding: 0;\n",
              "    width: 32px;\n",
              "  }\n",
              "\n",
              "  .colab-df-quickchart:hover {\n",
              "    background-color: var(--hover-bg-color);\n",
              "    box-shadow: 0 1px 2px rgba(60, 64, 67, 0.3), 0 1px 3px 1px rgba(60, 64, 67, 0.15);\n",
              "    fill: var(--button-hover-fill-color);\n",
              "  }\n",
              "\n",
              "  .colab-df-quickchart-complete:disabled,\n",
              "  .colab-df-quickchart-complete:disabled:hover {\n",
              "    background-color: var(--disabled-bg-color);\n",
              "    fill: var(--disabled-fill-color);\n",
              "    box-shadow: none;\n",
              "  }\n",
              "\n",
              "  .colab-df-spinner {\n",
              "    border: 2px solid var(--fill-color);\n",
              "    border-color: transparent;\n",
              "    border-bottom-color: var(--fill-color);\n",
              "    animation:\n",
              "      spin 1s steps(1) infinite;\n",
              "  }\n",
              "\n",
              "  @keyframes spin {\n",
              "    0% {\n",
              "      border-color: transparent;\n",
              "      border-bottom-color: var(--fill-color);\n",
              "      border-left-color: var(--fill-color);\n",
              "    }\n",
              "    20% {\n",
              "      border-color: transparent;\n",
              "      border-left-color: var(--fill-color);\n",
              "      border-top-color: var(--fill-color);\n",
              "    }\n",
              "    30% {\n",
              "      border-color: transparent;\n",
              "      border-left-color: var(--fill-color);\n",
              "      border-top-color: var(--fill-color);\n",
              "      border-right-color: var(--fill-color);\n",
              "    }\n",
              "    40% {\n",
              "      border-color: transparent;\n",
              "      border-right-color: var(--fill-color);\n",
              "      border-top-color: var(--fill-color);\n",
              "    }\n",
              "    60% {\n",
              "      border-color: transparent;\n",
              "      border-right-color: var(--fill-color);\n",
              "    }\n",
              "    80% {\n",
              "      border-color: transparent;\n",
              "      border-right-color: var(--fill-color);\n",
              "      border-bottom-color: var(--fill-color);\n",
              "    }\n",
              "    90% {\n",
              "      border-color: transparent;\n",
              "      border-bottom-color: var(--fill-color);\n",
              "    }\n",
              "  }\n",
              "</style>\n",
              "\n",
              "  <script>\n",
              "    async function quickchart(key) {\n",
              "      const quickchartButtonEl =\n",
              "        document.querySelector('#' + key + ' button');\n",
              "      quickchartButtonEl.disabled = true;  // To prevent multiple clicks.\n",
              "      quickchartButtonEl.classList.add('colab-df-spinner');\n",
              "      try {\n",
              "        const charts = await google.colab.kernel.invokeFunction(\n",
              "            'suggestCharts', [key], {});\n",
              "      } catch (error) {\n",
              "        console.error('Error during call to suggestCharts:', error);\n",
              "      }\n",
              "      quickchartButtonEl.classList.remove('colab-df-spinner');\n",
              "      quickchartButtonEl.classList.add('colab-df-quickchart-complete');\n",
              "    }\n",
              "    (() => {\n",
              "      let quickchartButtonEl =\n",
              "        document.querySelector('#df-0466eda4-8a5b-41c4-8294-70b0faeace04 button');\n",
              "      quickchartButtonEl.style.display =\n",
              "        google.colab.kernel.accessAllowed ? 'block' : 'none';\n",
              "    })();\n",
              "  </script>\n",
              "</div>\n",
              "    </div>\n",
              "  </div>\n"
            ],
            "application/vnd.google.colaboratory.intrinsic+json": {
              "type": "dataframe",
              "variable_name": "df1"
            }
          },
          "metadata": {},
          "execution_count": 35
        }
      ],
      "source": [
        "df1.head()"
      ]
    },
    {
      "cell_type": "markdown",
      "metadata": {
        "id": "zUXTv7MdUZ-6"
      },
      "source": [
        "## **Valores nulos**\n"
      ]
    },
    {
      "cell_type": "code",
      "execution_count": 36,
      "metadata": {
        "colab": {
          "base_uri": "https://localhost:8080/"
        },
        "id": "R2mTH8wgxTjZ",
        "outputId": "cb210195-ba61-4ad5-8c6a-863319db9036"
      },
      "outputs": [
        {
          "output_type": "execute_result",
          "data": {
            "text/plain": [
              "ID                                    0\n",
              "ESTU_PRGM_ACADEMICO                   0\n",
              "ESTU_VALORMATRICULAUNIVERSIDAD     6287\n",
              "ESTU_HORASSEMANATRABAJA           30857\n",
              "FAMI_ESTRATOVIVIENDA              35426\n",
              "FAMI_TIENEINTERNET                26629\n",
              "FAMI_EDUCACIONPADRE               23178\n",
              "ESTU_PAGOMATRICULAPROPIO           6498\n",
              "FAMI_TIENECOMPUTADOR              38103\n",
              "FAMI_EDUCACIONMADRE               23664\n",
              "RENDIMIENTO_GLOBAL                    0\n",
              "dtype: int64"
            ]
          },
          "metadata": {},
          "execution_count": 36
        }
      ],
      "source": [
        "df1.isnull().sum()"
      ]
    },
    {
      "cell_type": "markdown",
      "metadata": {
        "id": "L9d6wC72dXXq"
      },
      "source": [
        "## **Imputación de valores**"
      ]
    },
    {
      "cell_type": "code",
      "execution_count": 37,
      "metadata": {
        "id": "4Vz_yiAedcBm"
      },
      "outputs": [],
      "source": [
        "def imputacion(df, strategy='most_frequent'):\n",
        "    def columnas_na(df):\n",
        "       # Encontrar las columnas con valores faltantes\n",
        "        name_columns = df.columns[df.isnull().any()].tolist()\n",
        "        return name_columns\n",
        "    # Encontrar las columnas con valores faltantes\n",
        "    name_columns = columnas_na(df)\n",
        "    # Crear un imputador con la estrategia especificada\n",
        "    imputer = SimpleImputer(strategy=strategy)\n",
        "    # Imputar los valores faltantes en las columnas especificadas\n",
        "    df_imputed = df.copy()\n",
        "    df_imputed[name_columns] = imputer.fit_transform(df_imputed[name_columns])\n",
        "\n",
        "    return df_imputed"
      ]
    },
    {
      "cell_type": "code",
      "execution_count": 38,
      "metadata": {
        "id": "AkKy7GLuelyv"
      },
      "outputs": [],
      "source": [
        "df2 = imputacion(df1, strategy='most_frequent')\n",
        "df_test = imputacion(df_test)"
      ]
    },
    {
      "cell_type": "code",
      "execution_count": 39,
      "metadata": {
        "colab": {
          "base_uri": "https://localhost:8080/"
        },
        "id": "O6AcU9Iueq4G",
        "outputId": "012c48be-87ce-4d37-8f46-c33e8bc4e11f"
      },
      "outputs": [
        {
          "output_type": "execute_result",
          "data": {
            "text/plain": [
              "ID                                0\n",
              "ESTU_PRGM_ACADEMICO               0\n",
              "ESTU_VALORMATRICULAUNIVERSIDAD    0\n",
              "ESTU_HORASSEMANATRABAJA           0\n",
              "FAMI_ESTRATOVIVIENDA              0\n",
              "FAMI_TIENEINTERNET                0\n",
              "FAMI_EDUCACIONPADRE               0\n",
              "ESTU_PAGOMATRICULAPROPIO          0\n",
              "FAMI_TIENECOMPUTADOR              0\n",
              "FAMI_EDUCACIONMADRE               0\n",
              "RENDIMIENTO_GLOBAL                0\n",
              "dtype: int64"
            ]
          },
          "metadata": {},
          "execution_count": 39
        }
      ],
      "source": [
        "df2.isnull().sum()"
      ]
    },
    {
      "cell_type": "code",
      "execution_count": 40,
      "metadata": {
        "colab": {
          "base_uri": "https://localhost:8080/"
        },
        "id": "iRB0ePrt2B3A",
        "outputId": "8378abcf-46d7-4fad-eba7-fe675670af6c"
      },
      "outputs": [
        {
          "output_type": "stream",
          "name": "stdout",
          "text": [
            "<class 'pandas.core.frame.DataFrame'>\n",
            "RangeIndex: 692500 entries, 0 to 692499\n",
            "Data columns (total 11 columns):\n",
            " #   Column                          Non-Null Count   Dtype \n",
            "---  ------                          --------------   ----- \n",
            " 0   ID                              692500 non-null  int64 \n",
            " 1   ESTU_PRGM_ACADEMICO             692500 non-null  object\n",
            " 2   ESTU_VALORMATRICULAUNIVERSIDAD  692500 non-null  object\n",
            " 3   ESTU_HORASSEMANATRABAJA         692500 non-null  object\n",
            " 4   FAMI_ESTRATOVIVIENDA            692500 non-null  object\n",
            " 5   FAMI_TIENEINTERNET              692500 non-null  object\n",
            " 6   FAMI_EDUCACIONPADRE             692500 non-null  object\n",
            " 7   ESTU_PAGOMATRICULAPROPIO        692500 non-null  object\n",
            " 8   FAMI_TIENECOMPUTADOR            692500 non-null  object\n",
            " 9   FAMI_EDUCACIONMADRE             692500 non-null  object\n",
            " 10  RENDIMIENTO_GLOBAL              692500 non-null  object\n",
            "dtypes: int64(1), object(10)\n",
            "memory usage: 58.1+ MB\n"
          ]
        }
      ],
      "source": [
        "df2.info()"
      ]
    },
    {
      "cell_type": "markdown",
      "metadata": {
        "id": "F0QHrszMT1if"
      },
      "source": [
        "## **Estandarización de la variable ESTU_VALORMATRICULAUNIVERSIDAD**\n",
        "\n"
      ]
    },
    {
      "cell_type": "code",
      "execution_count": 41,
      "metadata": {
        "id": "W2jFCtMudWsv"
      },
      "outputs": [],
      "source": [
        "# Crear un objeto MinMaxScaler\n",
        "scaler = MinMaxScaler()\n",
        "# Ajustar y transformar la columna 'ESTU_VALORMATRICULAUNIVERSIDAD' usando .loc\n",
        "df2.loc[:, 'ESTU_VALORMATRICULAUNIVERSIDAD'] = scaler.fit_transform(df2[['ESTU_VALORMATRICULAUNIVERSIDAD']]).astype(float)\n",
        "df_test.loc[:, 'ESTU_VALORMATRICULAUNIVERSIDAD'] = scaler.fit_transform(df_test[['ESTU_VALORMATRICULAUNIVERSIDAD']]).astype(float)\n",
        "\n",
        "# Redondear los valores a tres decimales usando.apply\n",
        "df2.loc[:, 'ESTU_VALORMATRICULAUNIVERSIDAD'] = df2['ESTU_VALORMATRICULAUNIVERSIDAD'].apply(lambda x: round(x, 3))\n",
        "df_test.loc[:, 'ESTU_VALORMATRICULAUNIVERSIDAD'] = df_test['ESTU_VALORMATRICULAUNIVERSIDAD'].apply(lambda x: round(x, 3))"
      ]
    },
    {
      "cell_type": "code",
      "execution_count": 42,
      "metadata": {
        "colab": {
          "base_uri": "https://localhost:8080/"
        },
        "id": "RofJtgP62r9G",
        "outputId": "a800137c-b3be-42bc-966f-d71a9a2088b9"
      },
      "outputs": [
        {
          "output_type": "stream",
          "name": "stdout",
          "text": [
            "<class 'pandas.core.frame.DataFrame'>\n",
            "RangeIndex: 692500 entries, 0 to 692499\n",
            "Data columns (total 11 columns):\n",
            " #   Column                          Non-Null Count   Dtype \n",
            "---  ------                          --------------   ----- \n",
            " 0   ID                              692500 non-null  int64 \n",
            " 1   ESTU_PRGM_ACADEMICO             692500 non-null  object\n",
            " 2   ESTU_VALORMATRICULAUNIVERSIDAD  692500 non-null  object\n",
            " 3   ESTU_HORASSEMANATRABAJA         692500 non-null  object\n",
            " 4   FAMI_ESTRATOVIVIENDA            692500 non-null  object\n",
            " 5   FAMI_TIENEINTERNET              692500 non-null  object\n",
            " 6   FAMI_EDUCACIONPADRE             692500 non-null  object\n",
            " 7   ESTU_PAGOMATRICULAPROPIO        692500 non-null  object\n",
            " 8   FAMI_TIENECOMPUTADOR            692500 non-null  object\n",
            " 9   FAMI_EDUCACIONMADRE             692500 non-null  object\n",
            " 10  RENDIMIENTO_GLOBAL              692500 non-null  object\n",
            "dtypes: int64(1), object(10)\n",
            "memory usage: 58.1+ MB\n"
          ]
        }
      ],
      "source": [
        "df2.info()"
      ]
    },
    {
      "cell_type": "code",
      "execution_count": 43,
      "metadata": {
        "colab": {
          "base_uri": "https://localhost:8080/",
          "height": 261
        },
        "id": "37OP5uGIZ5-f",
        "outputId": "c278e123-f9af-4a58-df9d-7a35bcca1a5f"
      },
      "outputs": [
        {
          "output_type": "execute_result",
          "data": {
            "text/plain": [
              "       ID         ESTU_PRGM_ACADEMICO ESTU_VALORMATRICULAUNIVERSIDAD  \\\n",
              "0  904256                  ENFERMERIA                          0.893   \n",
              "1  645256                     DERECHO                          0.464   \n",
              "2  308367       MERCADEO Y PUBLICIDAD                          0.464   \n",
              "3  470353  ADMINISTRACION DE EMPRESAS                          0.679   \n",
              "4  989032                  PSICOLOGIA                          0.464   \n",
              "\n",
              "  ESTU_HORASSEMANATRABAJA FAMI_ESTRATOVIVIENDA FAMI_TIENEINTERNET  \\\n",
              "0                       5                    3                  1   \n",
              "1                       0                    3                  0   \n",
              "2                      30                    3                  1   \n",
              "3                       0                    4                  1   \n",
              "4                    25.5                    3                  1   \n",
              "\n",
              "  FAMI_EDUCACIONPADRE ESTU_PAGOMATRICULAPROPIO FAMI_TIENECOMPUTADOR  \\\n",
              "0                 5.0                        0                    1   \n",
              "1                 6.0                        0                    1   \n",
              "2                 4.0                        0                    0   \n",
              "3                 0.0                        0                    1   \n",
              "4                 2.0                        0                    1   \n",
              "\n",
              "  FAMI_EDUCACIONMADRE RENDIMIENTO_GLOBAL  \n",
              "0                 9.0         medio-alto  \n",
              "1                 5.0               bajo  \n",
              "2                 4.0               bajo  \n",
              "3                 4.0               alto  \n",
              "4                 2.0         medio-bajo  "
            ],
            "text/html": [
              "\n",
              "  <div id=\"df-39f9054a-5c82-46b9-ab61-b1dc8fb047cf\" class=\"colab-df-container\">\n",
              "    <div>\n",
              "<style scoped>\n",
              "    .dataframe tbody tr th:only-of-type {\n",
              "        vertical-align: middle;\n",
              "    }\n",
              "\n",
              "    .dataframe tbody tr th {\n",
              "        vertical-align: top;\n",
              "    }\n",
              "\n",
              "    .dataframe thead th {\n",
              "        text-align: right;\n",
              "    }\n",
              "</style>\n",
              "<table border=\"1\" class=\"dataframe\">\n",
              "  <thead>\n",
              "    <tr style=\"text-align: right;\">\n",
              "      <th></th>\n",
              "      <th>ID</th>\n",
              "      <th>ESTU_PRGM_ACADEMICO</th>\n",
              "      <th>ESTU_VALORMATRICULAUNIVERSIDAD</th>\n",
              "      <th>ESTU_HORASSEMANATRABAJA</th>\n",
              "      <th>FAMI_ESTRATOVIVIENDA</th>\n",
              "      <th>FAMI_TIENEINTERNET</th>\n",
              "      <th>FAMI_EDUCACIONPADRE</th>\n",
              "      <th>ESTU_PAGOMATRICULAPROPIO</th>\n",
              "      <th>FAMI_TIENECOMPUTADOR</th>\n",
              "      <th>FAMI_EDUCACIONMADRE</th>\n",
              "      <th>RENDIMIENTO_GLOBAL</th>\n",
              "    </tr>\n",
              "  </thead>\n",
              "  <tbody>\n",
              "    <tr>\n",
              "      <th>0</th>\n",
              "      <td>904256</td>\n",
              "      <td>ENFERMERIA</td>\n",
              "      <td>0.893</td>\n",
              "      <td>5</td>\n",
              "      <td>3</td>\n",
              "      <td>1</td>\n",
              "      <td>5.0</td>\n",
              "      <td>0</td>\n",
              "      <td>1</td>\n",
              "      <td>9.0</td>\n",
              "      <td>medio-alto</td>\n",
              "    </tr>\n",
              "    <tr>\n",
              "      <th>1</th>\n",
              "      <td>645256</td>\n",
              "      <td>DERECHO</td>\n",
              "      <td>0.464</td>\n",
              "      <td>0</td>\n",
              "      <td>3</td>\n",
              "      <td>0</td>\n",
              "      <td>6.0</td>\n",
              "      <td>0</td>\n",
              "      <td>1</td>\n",
              "      <td>5.0</td>\n",
              "      <td>bajo</td>\n",
              "    </tr>\n",
              "    <tr>\n",
              "      <th>2</th>\n",
              "      <td>308367</td>\n",
              "      <td>MERCADEO Y PUBLICIDAD</td>\n",
              "      <td>0.464</td>\n",
              "      <td>30</td>\n",
              "      <td>3</td>\n",
              "      <td>1</td>\n",
              "      <td>4.0</td>\n",
              "      <td>0</td>\n",
              "      <td>0</td>\n",
              "      <td>4.0</td>\n",
              "      <td>bajo</td>\n",
              "    </tr>\n",
              "    <tr>\n",
              "      <th>3</th>\n",
              "      <td>470353</td>\n",
              "      <td>ADMINISTRACION DE EMPRESAS</td>\n",
              "      <td>0.679</td>\n",
              "      <td>0</td>\n",
              "      <td>4</td>\n",
              "      <td>1</td>\n",
              "      <td>0.0</td>\n",
              "      <td>0</td>\n",
              "      <td>1</td>\n",
              "      <td>4.0</td>\n",
              "      <td>alto</td>\n",
              "    </tr>\n",
              "    <tr>\n",
              "      <th>4</th>\n",
              "      <td>989032</td>\n",
              "      <td>PSICOLOGIA</td>\n",
              "      <td>0.464</td>\n",
              "      <td>25.5</td>\n",
              "      <td>3</td>\n",
              "      <td>1</td>\n",
              "      <td>2.0</td>\n",
              "      <td>0</td>\n",
              "      <td>1</td>\n",
              "      <td>2.0</td>\n",
              "      <td>medio-bajo</td>\n",
              "    </tr>\n",
              "  </tbody>\n",
              "</table>\n",
              "</div>\n",
              "    <div class=\"colab-df-buttons\">\n",
              "\n",
              "  <div class=\"colab-df-container\">\n",
              "    <button class=\"colab-df-convert\" onclick=\"convertToInteractive('df-39f9054a-5c82-46b9-ab61-b1dc8fb047cf')\"\n",
              "            title=\"Convert this dataframe to an interactive table.\"\n",
              "            style=\"display:none;\">\n",
              "\n",
              "  <svg xmlns=\"http://www.w3.org/2000/svg\" height=\"24px\" viewBox=\"0 -960 960 960\">\n",
              "    <path d=\"M120-120v-720h720v720H120Zm60-500h600v-160H180v160Zm220 220h160v-160H400v160Zm0 220h160v-160H400v160ZM180-400h160v-160H180v160Zm440 0h160v-160H620v160ZM180-180h160v-160H180v160Zm440 0h160v-160H620v160Z\"/>\n",
              "  </svg>\n",
              "    </button>\n",
              "\n",
              "  <style>\n",
              "    .colab-df-container {\n",
              "      display:flex;\n",
              "      gap: 12px;\n",
              "    }\n",
              "\n",
              "    .colab-df-convert {\n",
              "      background-color: #E8F0FE;\n",
              "      border: none;\n",
              "      border-radius: 50%;\n",
              "      cursor: pointer;\n",
              "      display: none;\n",
              "      fill: #1967D2;\n",
              "      height: 32px;\n",
              "      padding: 0 0 0 0;\n",
              "      width: 32px;\n",
              "    }\n",
              "\n",
              "    .colab-df-convert:hover {\n",
              "      background-color: #E2EBFA;\n",
              "      box-shadow: 0px 1px 2px rgba(60, 64, 67, 0.3), 0px 1px 3px 1px rgba(60, 64, 67, 0.15);\n",
              "      fill: #174EA6;\n",
              "    }\n",
              "\n",
              "    .colab-df-buttons div {\n",
              "      margin-bottom: 4px;\n",
              "    }\n",
              "\n",
              "    [theme=dark] .colab-df-convert {\n",
              "      background-color: #3B4455;\n",
              "      fill: #D2E3FC;\n",
              "    }\n",
              "\n",
              "    [theme=dark] .colab-df-convert:hover {\n",
              "      background-color: #434B5C;\n",
              "      box-shadow: 0px 1px 3px 1px rgba(0, 0, 0, 0.15);\n",
              "      filter: drop-shadow(0px 1px 2px rgba(0, 0, 0, 0.3));\n",
              "      fill: #FFFFFF;\n",
              "    }\n",
              "  </style>\n",
              "\n",
              "    <script>\n",
              "      const buttonEl =\n",
              "        document.querySelector('#df-39f9054a-5c82-46b9-ab61-b1dc8fb047cf button.colab-df-convert');\n",
              "      buttonEl.style.display =\n",
              "        google.colab.kernel.accessAllowed ? 'block' : 'none';\n",
              "\n",
              "      async function convertToInteractive(key) {\n",
              "        const element = document.querySelector('#df-39f9054a-5c82-46b9-ab61-b1dc8fb047cf');\n",
              "        const dataTable =\n",
              "          await google.colab.kernel.invokeFunction('convertToInteractive',\n",
              "                                                    [key], {});\n",
              "        if (!dataTable) return;\n",
              "\n",
              "        const docLinkHtml = 'Like what you see? Visit the ' +\n",
              "          '<a target=\"_blank\" href=https://colab.research.google.com/notebooks/data_table.ipynb>data table notebook</a>'\n",
              "          + ' to learn more about interactive tables.';\n",
              "        element.innerHTML = '';\n",
              "        dataTable['output_type'] = 'display_data';\n",
              "        await google.colab.output.renderOutput(dataTable, element);\n",
              "        const docLink = document.createElement('div');\n",
              "        docLink.innerHTML = docLinkHtml;\n",
              "        element.appendChild(docLink);\n",
              "      }\n",
              "    </script>\n",
              "  </div>\n",
              "\n",
              "\n",
              "<div id=\"df-24e6161f-5cc4-4efc-9af5-f9692aabc085\">\n",
              "  <button class=\"colab-df-quickchart\" onclick=\"quickchart('df-24e6161f-5cc4-4efc-9af5-f9692aabc085')\"\n",
              "            title=\"Suggest charts\"\n",
              "            style=\"display:none;\">\n",
              "\n",
              "<svg xmlns=\"http://www.w3.org/2000/svg\" height=\"24px\"viewBox=\"0 0 24 24\"\n",
              "     width=\"24px\">\n",
              "    <g>\n",
              "        <path d=\"M19 3H5c-1.1 0-2 .9-2 2v14c0 1.1.9 2 2 2h14c1.1 0 2-.9 2-2V5c0-1.1-.9-2-2-2zM9 17H7v-7h2v7zm4 0h-2V7h2v10zm4 0h-2v-4h2v4z\"/>\n",
              "    </g>\n",
              "</svg>\n",
              "  </button>\n",
              "\n",
              "<style>\n",
              "  .colab-df-quickchart {\n",
              "      --bg-color: #E8F0FE;\n",
              "      --fill-color: #1967D2;\n",
              "      --hover-bg-color: #E2EBFA;\n",
              "      --hover-fill-color: #174EA6;\n",
              "      --disabled-fill-color: #AAA;\n",
              "      --disabled-bg-color: #DDD;\n",
              "  }\n",
              "\n",
              "  [theme=dark] .colab-df-quickchart {\n",
              "      --bg-color: #3B4455;\n",
              "      --fill-color: #D2E3FC;\n",
              "      --hover-bg-color: #434B5C;\n",
              "      --hover-fill-color: #FFFFFF;\n",
              "      --disabled-bg-color: #3B4455;\n",
              "      --disabled-fill-color: #666;\n",
              "  }\n",
              "\n",
              "  .colab-df-quickchart {\n",
              "    background-color: var(--bg-color);\n",
              "    border: none;\n",
              "    border-radius: 50%;\n",
              "    cursor: pointer;\n",
              "    display: none;\n",
              "    fill: var(--fill-color);\n",
              "    height: 32px;\n",
              "    padding: 0;\n",
              "    width: 32px;\n",
              "  }\n",
              "\n",
              "  .colab-df-quickchart:hover {\n",
              "    background-color: var(--hover-bg-color);\n",
              "    box-shadow: 0 1px 2px rgba(60, 64, 67, 0.3), 0 1px 3px 1px rgba(60, 64, 67, 0.15);\n",
              "    fill: var(--button-hover-fill-color);\n",
              "  }\n",
              "\n",
              "  .colab-df-quickchart-complete:disabled,\n",
              "  .colab-df-quickchart-complete:disabled:hover {\n",
              "    background-color: var(--disabled-bg-color);\n",
              "    fill: var(--disabled-fill-color);\n",
              "    box-shadow: none;\n",
              "  }\n",
              "\n",
              "  .colab-df-spinner {\n",
              "    border: 2px solid var(--fill-color);\n",
              "    border-color: transparent;\n",
              "    border-bottom-color: var(--fill-color);\n",
              "    animation:\n",
              "      spin 1s steps(1) infinite;\n",
              "  }\n",
              "\n",
              "  @keyframes spin {\n",
              "    0% {\n",
              "      border-color: transparent;\n",
              "      border-bottom-color: var(--fill-color);\n",
              "      border-left-color: var(--fill-color);\n",
              "    }\n",
              "    20% {\n",
              "      border-color: transparent;\n",
              "      border-left-color: var(--fill-color);\n",
              "      border-top-color: var(--fill-color);\n",
              "    }\n",
              "    30% {\n",
              "      border-color: transparent;\n",
              "      border-left-color: var(--fill-color);\n",
              "      border-top-color: var(--fill-color);\n",
              "      border-right-color: var(--fill-color);\n",
              "    }\n",
              "    40% {\n",
              "      border-color: transparent;\n",
              "      border-right-color: var(--fill-color);\n",
              "      border-top-color: var(--fill-color);\n",
              "    }\n",
              "    60% {\n",
              "      border-color: transparent;\n",
              "      border-right-color: var(--fill-color);\n",
              "    }\n",
              "    80% {\n",
              "      border-color: transparent;\n",
              "      border-right-color: var(--fill-color);\n",
              "      border-bottom-color: var(--fill-color);\n",
              "    }\n",
              "    90% {\n",
              "      border-color: transparent;\n",
              "      border-bottom-color: var(--fill-color);\n",
              "    }\n",
              "  }\n",
              "</style>\n",
              "\n",
              "  <script>\n",
              "    async function quickchart(key) {\n",
              "      const quickchartButtonEl =\n",
              "        document.querySelector('#' + key + ' button');\n",
              "      quickchartButtonEl.disabled = true;  // To prevent multiple clicks.\n",
              "      quickchartButtonEl.classList.add('colab-df-spinner');\n",
              "      try {\n",
              "        const charts = await google.colab.kernel.invokeFunction(\n",
              "            'suggestCharts', [key], {});\n",
              "      } catch (error) {\n",
              "        console.error('Error during call to suggestCharts:', error);\n",
              "      }\n",
              "      quickchartButtonEl.classList.remove('colab-df-spinner');\n",
              "      quickchartButtonEl.classList.add('colab-df-quickchart-complete');\n",
              "    }\n",
              "    (() => {\n",
              "      let quickchartButtonEl =\n",
              "        document.querySelector('#df-24e6161f-5cc4-4efc-9af5-f9692aabc085 button');\n",
              "      quickchartButtonEl.style.display =\n",
              "        google.colab.kernel.accessAllowed ? 'block' : 'none';\n",
              "    })();\n",
              "  </script>\n",
              "</div>\n",
              "    </div>\n",
              "  </div>\n"
            ],
            "application/vnd.google.colaboratory.intrinsic+json": {
              "type": "dataframe",
              "variable_name": "df2"
            }
          },
          "metadata": {},
          "execution_count": 43
        }
      ],
      "source": [
        "df2.head()"
      ]
    },
    {
      "cell_type": "markdown",
      "metadata": {
        "id": "jYYyD2mJbW3t"
      },
      "source": [
        "## **Estandarización de la variable ESTU_HORASSEMANATRABAJA**\n"
      ]
    },
    {
      "cell_type": "code",
      "execution_count": 44,
      "metadata": {
        "id": "toaaK4lMd4zg"
      },
      "outputs": [],
      "source": [
        "# Crear un objeto MinMaxScaler\n",
        "scaler = MinMaxScaler()\n",
        "# Ajustar y transformar la columna 'ESTU_VALORMATRICULAUNIVERSIDAD' usando .loc\n",
        "df2.loc[:, 'ESTU_HORASSEMANATRABAJA'] = scaler.fit_transform(df2[['ESTU_HORASSEMANATRABAJA']])\n",
        "df2['ESTU_HORASSEMANATRABAJA'] = df2['ESTU_HORASSEMANATRABAJA'].astype(float)\n",
        "df2.loc[:, 'ESTU_HORASSEMANATRABAJA'] = df2['ESTU_HORASSEMANATRABAJA'].round(3)"
      ]
    },
    {
      "cell_type": "code",
      "execution_count": 45,
      "metadata": {
        "colab": {
          "base_uri": "https://localhost:8080/"
        },
        "id": "yu4b6x1c23i4",
        "outputId": "5fa03408-66b2-4258-d4ca-256997e95c0f"
      },
      "outputs": [
        {
          "output_type": "stream",
          "name": "stdout",
          "text": [
            "<class 'pandas.core.frame.DataFrame'>\n",
            "RangeIndex: 692500 entries, 0 to 692499\n",
            "Data columns (total 11 columns):\n",
            " #   Column                          Non-Null Count   Dtype  \n",
            "---  ------                          --------------   -----  \n",
            " 0   ID                              692500 non-null  int64  \n",
            " 1   ESTU_PRGM_ACADEMICO             692500 non-null  object \n",
            " 2   ESTU_VALORMATRICULAUNIVERSIDAD  692500 non-null  object \n",
            " 3   ESTU_HORASSEMANATRABAJA         692500 non-null  float64\n",
            " 4   FAMI_ESTRATOVIVIENDA            692500 non-null  object \n",
            " 5   FAMI_TIENEINTERNET              692500 non-null  object \n",
            " 6   FAMI_EDUCACIONPADRE             692500 non-null  object \n",
            " 7   ESTU_PAGOMATRICULAPROPIO        692500 non-null  object \n",
            " 8   FAMI_TIENECOMPUTADOR            692500 non-null  object \n",
            " 9   FAMI_EDUCACIONMADRE             692500 non-null  object \n",
            " 10  RENDIMIENTO_GLOBAL              692500 non-null  object \n",
            "dtypes: float64(1), int64(1), object(9)\n",
            "memory usage: 58.1+ MB\n"
          ]
        }
      ],
      "source": [
        "df2.info()"
      ]
    },
    {
      "cell_type": "code",
      "execution_count": 46,
      "metadata": {
        "colab": {
          "base_uri": "https://localhost:8080/",
          "height": 261
        },
        "id": "n9Tk5HXBccos",
        "outputId": "760a59c5-0dc5-4e74-9f9e-aadc5a4ccb91"
      },
      "outputs": [
        {
          "output_type": "execute_result",
          "data": {
            "text/plain": [
              "       ID         ESTU_PRGM_ACADEMICO ESTU_VALORMATRICULAUNIVERSIDAD  \\\n",
              "0  904256                  ENFERMERIA                          0.893   \n",
              "1  645256                     DERECHO                          0.464   \n",
              "2  308367       MERCADEO Y PUBLICIDAD                          0.464   \n",
              "3  470353  ADMINISTRACION DE EMPRESAS                          0.679   \n",
              "4  989032                  PSICOLOGIA                          0.464   \n",
              "\n",
              "   ESTU_HORASSEMANATRABAJA FAMI_ESTRATOVIVIENDA FAMI_TIENEINTERNET  \\\n",
              "0                    0.167                    3                  1   \n",
              "1                    0.000                    3                  0   \n",
              "2                    1.000                    3                  1   \n",
              "3                    0.000                    4                  1   \n",
              "4                    0.850                    3                  1   \n",
              "\n",
              "  FAMI_EDUCACIONPADRE ESTU_PAGOMATRICULAPROPIO FAMI_TIENECOMPUTADOR  \\\n",
              "0                 5.0                        0                    1   \n",
              "1                 6.0                        0                    1   \n",
              "2                 4.0                        0                    0   \n",
              "3                 0.0                        0                    1   \n",
              "4                 2.0                        0                    1   \n",
              "\n",
              "  FAMI_EDUCACIONMADRE RENDIMIENTO_GLOBAL  \n",
              "0                 9.0         medio-alto  \n",
              "1                 5.0               bajo  \n",
              "2                 4.0               bajo  \n",
              "3                 4.0               alto  \n",
              "4                 2.0         medio-bajo  "
            ],
            "text/html": [
              "\n",
              "  <div id=\"df-0867db15-cce1-4260-927f-584281d9cb08\" class=\"colab-df-container\">\n",
              "    <div>\n",
              "<style scoped>\n",
              "    .dataframe tbody tr th:only-of-type {\n",
              "        vertical-align: middle;\n",
              "    }\n",
              "\n",
              "    .dataframe tbody tr th {\n",
              "        vertical-align: top;\n",
              "    }\n",
              "\n",
              "    .dataframe thead th {\n",
              "        text-align: right;\n",
              "    }\n",
              "</style>\n",
              "<table border=\"1\" class=\"dataframe\">\n",
              "  <thead>\n",
              "    <tr style=\"text-align: right;\">\n",
              "      <th></th>\n",
              "      <th>ID</th>\n",
              "      <th>ESTU_PRGM_ACADEMICO</th>\n",
              "      <th>ESTU_VALORMATRICULAUNIVERSIDAD</th>\n",
              "      <th>ESTU_HORASSEMANATRABAJA</th>\n",
              "      <th>FAMI_ESTRATOVIVIENDA</th>\n",
              "      <th>FAMI_TIENEINTERNET</th>\n",
              "      <th>FAMI_EDUCACIONPADRE</th>\n",
              "      <th>ESTU_PAGOMATRICULAPROPIO</th>\n",
              "      <th>FAMI_TIENECOMPUTADOR</th>\n",
              "      <th>FAMI_EDUCACIONMADRE</th>\n",
              "      <th>RENDIMIENTO_GLOBAL</th>\n",
              "    </tr>\n",
              "  </thead>\n",
              "  <tbody>\n",
              "    <tr>\n",
              "      <th>0</th>\n",
              "      <td>904256</td>\n",
              "      <td>ENFERMERIA</td>\n",
              "      <td>0.893</td>\n",
              "      <td>0.167</td>\n",
              "      <td>3</td>\n",
              "      <td>1</td>\n",
              "      <td>5.0</td>\n",
              "      <td>0</td>\n",
              "      <td>1</td>\n",
              "      <td>9.0</td>\n",
              "      <td>medio-alto</td>\n",
              "    </tr>\n",
              "    <tr>\n",
              "      <th>1</th>\n",
              "      <td>645256</td>\n",
              "      <td>DERECHO</td>\n",
              "      <td>0.464</td>\n",
              "      <td>0.000</td>\n",
              "      <td>3</td>\n",
              "      <td>0</td>\n",
              "      <td>6.0</td>\n",
              "      <td>0</td>\n",
              "      <td>1</td>\n",
              "      <td>5.0</td>\n",
              "      <td>bajo</td>\n",
              "    </tr>\n",
              "    <tr>\n",
              "      <th>2</th>\n",
              "      <td>308367</td>\n",
              "      <td>MERCADEO Y PUBLICIDAD</td>\n",
              "      <td>0.464</td>\n",
              "      <td>1.000</td>\n",
              "      <td>3</td>\n",
              "      <td>1</td>\n",
              "      <td>4.0</td>\n",
              "      <td>0</td>\n",
              "      <td>0</td>\n",
              "      <td>4.0</td>\n",
              "      <td>bajo</td>\n",
              "    </tr>\n",
              "    <tr>\n",
              "      <th>3</th>\n",
              "      <td>470353</td>\n",
              "      <td>ADMINISTRACION DE EMPRESAS</td>\n",
              "      <td>0.679</td>\n",
              "      <td>0.000</td>\n",
              "      <td>4</td>\n",
              "      <td>1</td>\n",
              "      <td>0.0</td>\n",
              "      <td>0</td>\n",
              "      <td>1</td>\n",
              "      <td>4.0</td>\n",
              "      <td>alto</td>\n",
              "    </tr>\n",
              "    <tr>\n",
              "      <th>4</th>\n",
              "      <td>989032</td>\n",
              "      <td>PSICOLOGIA</td>\n",
              "      <td>0.464</td>\n",
              "      <td>0.850</td>\n",
              "      <td>3</td>\n",
              "      <td>1</td>\n",
              "      <td>2.0</td>\n",
              "      <td>0</td>\n",
              "      <td>1</td>\n",
              "      <td>2.0</td>\n",
              "      <td>medio-bajo</td>\n",
              "    </tr>\n",
              "  </tbody>\n",
              "</table>\n",
              "</div>\n",
              "    <div class=\"colab-df-buttons\">\n",
              "\n",
              "  <div class=\"colab-df-container\">\n",
              "    <button class=\"colab-df-convert\" onclick=\"convertToInteractive('df-0867db15-cce1-4260-927f-584281d9cb08')\"\n",
              "            title=\"Convert this dataframe to an interactive table.\"\n",
              "            style=\"display:none;\">\n",
              "\n",
              "  <svg xmlns=\"http://www.w3.org/2000/svg\" height=\"24px\" viewBox=\"0 -960 960 960\">\n",
              "    <path d=\"M120-120v-720h720v720H120Zm60-500h600v-160H180v160Zm220 220h160v-160H400v160Zm0 220h160v-160H400v160ZM180-400h160v-160H180v160Zm440 0h160v-160H620v160ZM180-180h160v-160H180v160Zm440 0h160v-160H620v160Z\"/>\n",
              "  </svg>\n",
              "    </button>\n",
              "\n",
              "  <style>\n",
              "    .colab-df-container {\n",
              "      display:flex;\n",
              "      gap: 12px;\n",
              "    }\n",
              "\n",
              "    .colab-df-convert {\n",
              "      background-color: #E8F0FE;\n",
              "      border: none;\n",
              "      border-radius: 50%;\n",
              "      cursor: pointer;\n",
              "      display: none;\n",
              "      fill: #1967D2;\n",
              "      height: 32px;\n",
              "      padding: 0 0 0 0;\n",
              "      width: 32px;\n",
              "    }\n",
              "\n",
              "    .colab-df-convert:hover {\n",
              "      background-color: #E2EBFA;\n",
              "      box-shadow: 0px 1px 2px rgba(60, 64, 67, 0.3), 0px 1px 3px 1px rgba(60, 64, 67, 0.15);\n",
              "      fill: #174EA6;\n",
              "    }\n",
              "\n",
              "    .colab-df-buttons div {\n",
              "      margin-bottom: 4px;\n",
              "    }\n",
              "\n",
              "    [theme=dark] .colab-df-convert {\n",
              "      background-color: #3B4455;\n",
              "      fill: #D2E3FC;\n",
              "    }\n",
              "\n",
              "    [theme=dark] .colab-df-convert:hover {\n",
              "      background-color: #434B5C;\n",
              "      box-shadow: 0px 1px 3px 1px rgba(0, 0, 0, 0.15);\n",
              "      filter: drop-shadow(0px 1px 2px rgba(0, 0, 0, 0.3));\n",
              "      fill: #FFFFFF;\n",
              "    }\n",
              "  </style>\n",
              "\n",
              "    <script>\n",
              "      const buttonEl =\n",
              "        document.querySelector('#df-0867db15-cce1-4260-927f-584281d9cb08 button.colab-df-convert');\n",
              "      buttonEl.style.display =\n",
              "        google.colab.kernel.accessAllowed ? 'block' : 'none';\n",
              "\n",
              "      async function convertToInteractive(key) {\n",
              "        const element = document.querySelector('#df-0867db15-cce1-4260-927f-584281d9cb08');\n",
              "        const dataTable =\n",
              "          await google.colab.kernel.invokeFunction('convertToInteractive',\n",
              "                                                    [key], {});\n",
              "        if (!dataTable) return;\n",
              "\n",
              "        const docLinkHtml = 'Like what you see? Visit the ' +\n",
              "          '<a target=\"_blank\" href=https://colab.research.google.com/notebooks/data_table.ipynb>data table notebook</a>'\n",
              "          + ' to learn more about interactive tables.';\n",
              "        element.innerHTML = '';\n",
              "        dataTable['output_type'] = 'display_data';\n",
              "        await google.colab.output.renderOutput(dataTable, element);\n",
              "        const docLink = document.createElement('div');\n",
              "        docLink.innerHTML = docLinkHtml;\n",
              "        element.appendChild(docLink);\n",
              "      }\n",
              "    </script>\n",
              "  </div>\n",
              "\n",
              "\n",
              "<div id=\"df-75e1f748-7979-4f35-983c-fb4ce2cda02f\">\n",
              "  <button class=\"colab-df-quickchart\" onclick=\"quickchart('df-75e1f748-7979-4f35-983c-fb4ce2cda02f')\"\n",
              "            title=\"Suggest charts\"\n",
              "            style=\"display:none;\">\n",
              "\n",
              "<svg xmlns=\"http://www.w3.org/2000/svg\" height=\"24px\"viewBox=\"0 0 24 24\"\n",
              "     width=\"24px\">\n",
              "    <g>\n",
              "        <path d=\"M19 3H5c-1.1 0-2 .9-2 2v14c0 1.1.9 2 2 2h14c1.1 0 2-.9 2-2V5c0-1.1-.9-2-2-2zM9 17H7v-7h2v7zm4 0h-2V7h2v10zm4 0h-2v-4h2v4z\"/>\n",
              "    </g>\n",
              "</svg>\n",
              "  </button>\n",
              "\n",
              "<style>\n",
              "  .colab-df-quickchart {\n",
              "      --bg-color: #E8F0FE;\n",
              "      --fill-color: #1967D2;\n",
              "      --hover-bg-color: #E2EBFA;\n",
              "      --hover-fill-color: #174EA6;\n",
              "      --disabled-fill-color: #AAA;\n",
              "      --disabled-bg-color: #DDD;\n",
              "  }\n",
              "\n",
              "  [theme=dark] .colab-df-quickchart {\n",
              "      --bg-color: #3B4455;\n",
              "      --fill-color: #D2E3FC;\n",
              "      --hover-bg-color: #434B5C;\n",
              "      --hover-fill-color: #FFFFFF;\n",
              "      --disabled-bg-color: #3B4455;\n",
              "      --disabled-fill-color: #666;\n",
              "  }\n",
              "\n",
              "  .colab-df-quickchart {\n",
              "    background-color: var(--bg-color);\n",
              "    border: none;\n",
              "    border-radius: 50%;\n",
              "    cursor: pointer;\n",
              "    display: none;\n",
              "    fill: var(--fill-color);\n",
              "    height: 32px;\n",
              "    padding: 0;\n",
              "    width: 32px;\n",
              "  }\n",
              "\n",
              "  .colab-df-quickchart:hover {\n",
              "    background-color: var(--hover-bg-color);\n",
              "    box-shadow: 0 1px 2px rgba(60, 64, 67, 0.3), 0 1px 3px 1px rgba(60, 64, 67, 0.15);\n",
              "    fill: var(--button-hover-fill-color);\n",
              "  }\n",
              "\n",
              "  .colab-df-quickchart-complete:disabled,\n",
              "  .colab-df-quickchart-complete:disabled:hover {\n",
              "    background-color: var(--disabled-bg-color);\n",
              "    fill: var(--disabled-fill-color);\n",
              "    box-shadow: none;\n",
              "  }\n",
              "\n",
              "  .colab-df-spinner {\n",
              "    border: 2px solid var(--fill-color);\n",
              "    border-color: transparent;\n",
              "    border-bottom-color: var(--fill-color);\n",
              "    animation:\n",
              "      spin 1s steps(1) infinite;\n",
              "  }\n",
              "\n",
              "  @keyframes spin {\n",
              "    0% {\n",
              "      border-color: transparent;\n",
              "      border-bottom-color: var(--fill-color);\n",
              "      border-left-color: var(--fill-color);\n",
              "    }\n",
              "    20% {\n",
              "      border-color: transparent;\n",
              "      border-left-color: var(--fill-color);\n",
              "      border-top-color: var(--fill-color);\n",
              "    }\n",
              "    30% {\n",
              "      border-color: transparent;\n",
              "      border-left-color: var(--fill-color);\n",
              "      border-top-color: var(--fill-color);\n",
              "      border-right-color: var(--fill-color);\n",
              "    }\n",
              "    40% {\n",
              "      border-color: transparent;\n",
              "      border-right-color: var(--fill-color);\n",
              "      border-top-color: var(--fill-color);\n",
              "    }\n",
              "    60% {\n",
              "      border-color: transparent;\n",
              "      border-right-color: var(--fill-color);\n",
              "    }\n",
              "    80% {\n",
              "      border-color: transparent;\n",
              "      border-right-color: var(--fill-color);\n",
              "      border-bottom-color: var(--fill-color);\n",
              "    }\n",
              "    90% {\n",
              "      border-color: transparent;\n",
              "      border-bottom-color: var(--fill-color);\n",
              "    }\n",
              "  }\n",
              "</style>\n",
              "\n",
              "  <script>\n",
              "    async function quickchart(key) {\n",
              "      const quickchartButtonEl =\n",
              "        document.querySelector('#' + key + ' button');\n",
              "      quickchartButtonEl.disabled = true;  // To prevent multiple clicks.\n",
              "      quickchartButtonEl.classList.add('colab-df-spinner');\n",
              "      try {\n",
              "        const charts = await google.colab.kernel.invokeFunction(\n",
              "            'suggestCharts', [key], {});\n",
              "      } catch (error) {\n",
              "        console.error('Error during call to suggestCharts:', error);\n",
              "      }\n",
              "      quickchartButtonEl.classList.remove('colab-df-spinner');\n",
              "      quickchartButtonEl.classList.add('colab-df-quickchart-complete');\n",
              "    }\n",
              "    (() => {\n",
              "      let quickchartButtonEl =\n",
              "        document.querySelector('#df-75e1f748-7979-4f35-983c-fb4ce2cda02f button');\n",
              "      quickchartButtonEl.style.display =\n",
              "        google.colab.kernel.accessAllowed ? 'block' : 'none';\n",
              "    })();\n",
              "  </script>\n",
              "</div>\n",
              "    </div>\n",
              "  </div>\n"
            ],
            "application/vnd.google.colaboratory.intrinsic+json": {
              "type": "dataframe",
              "variable_name": "df2"
            }
          },
          "metadata": {},
          "execution_count": 46
        }
      ],
      "source": [
        "df2.head()"
      ]
    },
    {
      "cell_type": "code",
      "execution_count": 47,
      "metadata": {
        "id": "6Ji1gJf7Lc5G"
      },
      "outputs": [],
      "source": [
        "# Crear un objeto MinMaxScaler\n",
        "scaler = MinMaxScaler()\n",
        "# Ajustar y transformar la columna 'ESTU_VALORMATRICULAUNIVERSIDAD' usando .loc\n",
        "df_test.loc[:, 'ESTU_HORASSEMANATRABAJA'] = scaler.fit_transform(df_test[['ESTU_HORASSEMANATRABAJA']])\n",
        "df_test['ESTU_HORASSEMANATRABAJA'] = df_test['ESTU_HORASSEMANATRABAJA'].astype(float)\n",
        "df_test.loc[:, 'ESTU_HORASSEMANATRABAJA'] = df_test['ESTU_HORASSEMANATRABAJA'].round(3)"
      ]
    },
    {
      "cell_type": "markdown",
      "metadata": {
        "id": "sX9UEC2BHRYO"
      },
      "source": [
        "## **One hot columna ESTU_PRGM_ACADEMICO**"
      ]
    },
    {
      "cell_type": "code",
      "execution_count": 48,
      "metadata": {
        "id": "ePw1mN_4JRxD"
      },
      "outputs": [],
      "source": [
        "df3 = df2.copy()"
      ]
    },
    {
      "cell_type": "code",
      "execution_count": 49,
      "metadata": {
        "id": "871znQMsTfFs"
      },
      "outputs": [],
      "source": [
        "# Aplicar la función unidecode a la columna 'NOMBRE'\n",
        "df3['ESTU_PRGM_ACADEMICO'] = df3['ESTU_PRGM_ACADEMICO'].apply(unidecode.unidecode)"
      ]
    },
    {
      "cell_type": "code",
      "execution_count": 50,
      "metadata": {
        "id": "yPag4zjQLvj8"
      },
      "outputs": [],
      "source": [
        "# Aplicar la función unidecode a la columna 'NOMBRE'\n",
        "df_test['ESTU_PRGM_ACADEMICO'] = df_test['ESTU_PRGM_ACADEMICO'].apply(unidecode.unidecode)"
      ]
    },
    {
      "cell_type": "code",
      "execution_count": 51,
      "metadata": {
        "colab": {
          "base_uri": "https://localhost:8080/"
        },
        "id": "tViC9zA3QqKR",
        "outputId": "db1f8e5f-93fb-4468-f3db-c00755d7792b"
      },
      "outputs": [
        {
          "output_type": "execute_result",
          "data": {
            "text/plain": [
              "787"
            ]
          },
          "metadata": {},
          "execution_count": 51
        }
      ],
      "source": [
        "df3['ESTU_PRGM_ACADEMICO'].nunique()"
      ]
    },
    {
      "cell_type": "code",
      "execution_count": 52,
      "metadata": {
        "id": "m-9wSHnJMKQa"
      },
      "outputs": [],
      "source": [
        "def replace_PACAD(df):\n",
        "    # Definir las palabras clave y sus respectivos reemplazos\n",
        "    reemplazos = {\n",
        "        'INGENI': 'INGENIERÍA',\n",
        "        'ADMIN': 'ADMINISTRACIÓN',\n",
        "        'LICENCIATURA': 'EDUCACIÓN',\n",
        "        'LICENC': 'EDUCACIÓN',\n",
        "        'EDUCACION': 'EDUCACIÓN',\n",
        "        'QU': 'QUÍMICA',\n",
        "        'VETERINARIA': 'VETERINARIA',\n",
        "        'ZOOTECNIA': 'VETERINARIA',\n",
        "        'FARMACIA': 'CIENCIAS BIOMÉDICAS',\n",
        "        'BACTERIOLOGIA': 'CIENCIAS BIOMÉDICAS',\n",
        "        'MICROBIOLOGIA': 'CIENCIAS BIOMÉDICAS',\n",
        "        'CIENCIAS BIOMEDICAS': 'CIENCIAS BIOMÉDICAS',\n",
        "        'MEDICINA': 'CIENCIAS DE LA SALUD',\n",
        "        'ENFERMERIA': 'CIENCIAS DE LA SALUD',\n",
        "        'ODONTOLOGIA': 'CIENCIAS DE LA SALUD',\n",
        "        'OPTOMETRIA': 'CIENCIAS DE LA SALUD',\n",
        "        'FONOAUDIOLOGIA': 'CIENCIAS DE LA SALUD',\n",
        "        'TERAPIA OCUPACIONAL': 'CIENCIAS DE LA SALUD',\n",
        "        'NUTRICION': 'CIENCIAS NUTRICIONALES',\n",
        "        'FISIOTERAPIA': 'REHABILITACIÓN',\n",
        "        'TERAPIA RESPIRATORIA': 'REHABILITACIÓN',\n",
        "        'REHABILITACION': 'REHABILITACIÓN',\n",
        "        'TERAPIA': 'REHABILITACIÓN',\n",
        "        'SALUD': 'ÁREAS DE LA SALUD',\n",
        "        'PSICOLO': 'ÁREAS DE LA SALUD',\n",
        "        'CARDIORRESPIRATORIA': 'ÁREAS DE LA SALUD',\n",
        "        'GERONTOLOGIA': 'ÁREAS DE LA SALUD',\n",
        "        'MILITARES': 'MILICIA',\n",
        "        'NAVALES': 'MILICIA',\n",
        "        'MILICIA': 'MILICIA',\n",
        "        'MUSICA': 'ARTES',\n",
        "        'GRAFICO': 'ARTES',\n",
        "        'AUDIOVISUAL': 'ARTES',\n",
        "        'VISUAL': 'ARTES',\n",
        "        'ARTE': 'ARTES',\n",
        "        'CINE': 'ARTES',\n",
        "        'MODA': 'ARTES',\n",
        "        'ARTES PLASTICAS': 'ARTES',\n",
        "        'DANZA': 'ARTES',\n",
        "        'ARTES': 'ARTES',\n",
        "        'MUSICAL': 'ARTES',\n",
        "        'DIGITAL': 'ARTES',\n",
        "        'INTERACTIVOS': 'ARTES',\n",
        "        'TELEVISION': 'ARTES',\n",
        "        'BANDA': 'ARTES',\n",
        "        'DERECHO': 'CIENCIAS POLÍTICAS',\n",
        "        'JURISPRUDENCIA': 'CIENCIAS POLÍTICAS',\n",
        "        'POLITICA': 'CIENCIAS POLÍTICAS',\n",
        "        'POLITICOS': 'CIENCIAS POLÍTICAS',\n",
        "        'POLITICO': 'CIENCIAS POLÍTICAS',\n",
        "        'GOBIERNO': 'CIENCIAS POLÍTICAS',\n",
        "        'FINANZAS': 'CIENCIAS ECONÓMICAS',\n",
        "        'INTERNACIONALES': 'CIENCIAS ECONÓMICAS',\n",
        "        'NEGOCIOS': 'CIENCIAS ECONÓMICAS',\n",
        "        'MERCADEO': 'CIENCIAS ECONÓMICAS',\n",
        "        'ECONOMIA': 'CIENCIAS ECONÓMICAS',\n",
        "        'MERCADOLOGIA': 'CIENCIAS ECONÓMICAS',\n",
        "        'ECONOM': 'CIENCIAS ECONÓMICAS',\n",
        "        'CONTADURIA': 'CIENCIAS ECONÓMICAS',\n",
        "        'COMERCIO': 'CIENCIAS ECONÓMICAS',\n",
        "        'DEPORTE': 'DEPORTE',\n",
        "        'DEPORTIVA': 'DEPORTE',\n",
        "        'ENTRENAMIENTO': 'DEPORTE',\n",
        "        'RECREACION': 'DEPORTE',\n",
        "        'LETRAS': 'IDIOMAS',\n",
        "        'LENGUAS': 'IDIOMAS',\n",
        "        'FILOLOGIA': 'IDIOMAS',\n",
        "        'LENGUAJES': 'IDIOMAS',\n",
        "        'LITERATURA': 'IDIOMAS',\n",
        "        'TRADUCCION': 'IDIOMAS',\n",
        "        'LITERARIOS': 'IDIOMAS',\n",
        "        'LINGUISTICA': 'IDIOMAS',\n",
        "        'LITERARIA': 'IDIOMAS',\n",
        "        'GASTRONOMIA': 'GASTRONOMÍA',\n",
        "        'GASTRONO': 'GASTRONOMÍA',\n",
        "        'GEOLOGIA': 'ESTUDIOS GEOLÓGICOS',\n",
        "        'GEOGRAFIA': 'ESTUDIOS GEOLÓGICOS',\n",
        "        'GEOCIENCIAS': 'ESTUDIOS GEOLÓGICOS',\n",
        "        'GEOLOG': 'ESTUDIOS GEOLÓGICOS',\n",
        "        'MATEMATICA': 'CIENCIAS EXACTAS Y NATURALES',\n",
        "        'ESTADISTICAS': 'CIENCIAS EXACTAS Y NATURALES',\n",
        "        'OCEANOGRAFIA': 'CIENCIAS EXACTAS Y NATURALES',\n",
        "        'ASTRONOMIA': 'CIENCIAS EXACTAS Y NATURALES',\n",
        "        'BIOLOGIA': 'CIENCIAS EXACTAS Y NATURALES',\n",
        "        'FISICA': 'CIENCIAS EXACTAS Y NATURALES',\n",
        "        'ECOLOGIA': 'CIENCIAS EXACTAS Y NATURALES',\n",
        "        'COMUNICACION': 'COMUNICACIÓN SOCIAL',\n",
        "        'PERIODISMO': 'COMUNICACIÓN SOCIAL',\n",
        "        'BIBLICAS': 'TEOLOGÍA',\n",
        "        'BIBLICOS': 'TEOLOGÍA',\n",
        "        'RELIGION': 'TEOLOGÍA',\n",
        "        'TEOLOGIA': 'TEOLOGÍA',\n",
        "        'SOCIAL': 'CIENCIAS SOCIALES Y HUMANAS',\n",
        "        'SOCIOLOGIA': 'CIENCIAS SOCIALES Y HUMANAS',\n",
        "        'ANTROPOLOGIA': 'CIENCIAS SOCIALES Y HUMANAS',\n",
        "        'HISTORIA': 'CIENCIAS SOCIALES Y HUMANAS',\n",
        "        'FILOSOFIA': 'FILOSOFÍA',\n",
        "        'INFORMACION': 'TIC',\n",
        "        'BIBLIOTECNOLOGIA': 'TIC',\n",
        "        'ARCHIVISTICA': 'TIC',\n",
        "        'REALIZACION': 'TIC',\n",
        "        'COMPUTACION': 'TIC',\n",
        "        'AGRONOMIA': 'CIENCIAS AGRARIAS',\n",
        "        'AGROINDUSTRIAL': 'CIENCIAS AGRARIAS',\n",
        "        'ACUICULTURA': 'CIENCIAS AGRARIAS',\n",
        "        'AGROINDUSTRIA': 'CIENCIAS AGRARIAS',\n",
        "        'MARKETING': 'PUBLICIDAD',\n",
        "        'PUBLICIDAD': 'PUBLICIDAD',\n",
        "        'HOTELERIA Y TURISMO': 'OTROS ESTUDIOS',\n",
        "        'CONTRUCCION': 'OTROS ESTUDIOS',\n",
        "        'CRIMINALISTICA': 'OTROS ESTUDIOS',\n",
        "        'GESTION': 'OTROS ESTUDIOS',\n",
        "        'CONSTRUCCIONES': 'OTROS ESTUDIOS',\n",
        "        'DISENO': 'OTROS ESTUDIOS',\n",
        "        'DISE': 'OTROS ESTUDIOS',\n",
        "        'FOTOGRAFIA': 'OTROS ESTUDIOS',\n",
        "        'LOGISTICA': 'OTROS ESTUDIOS',\n",
        "        'MERCANTES': 'OTROS ESTUDIOS',\n",
        "        'CULTURAL': 'OTROS ESTUDIOS',\n",
        "        'BIOTECNOLOGIA': 'OTROS ESTUDIOS',\n",
        "        'URBANISMO': 'OTROS ESTUDIOS',\n",
        "        'CRIMINAL': 'OTROS ESTUDIOS',\n",
        "        'DESARROLLO': 'OTROS ESTUDIOS',\n",
        "        'CONSERVACION': 'OTROS ESTUDIOS',\n",
        "        'ANIMACION': 'OTROS ESTUDIOS',\n",
        "        'TURISMO': 'OTROS ESTUDIOS',\n",
        "        'PEDAGOGIA': 'OTROS ESTUDIOS',\n",
        "    }\n",
        "\n",
        "    # Iterar sobre los reemplazos y aplicar las transformaciones\n",
        "    for palabra_clave, reemplazo in reemplazos.items():\n",
        "        df.loc[df['ESTU_PRGM_ACADEMICO'].str.contains(palabra_clave, case=False, na=False), 'ESTU_PRGM_ACADEMICO'] = reemplazo\n",
        "\n",
        "    return df"
      ]
    },
    {
      "cell_type": "code",
      "execution_count": 53,
      "metadata": {
        "id": "5JnfwwZYMq5t"
      },
      "outputs": [],
      "source": [
        "df3 = replace_PACAD(df3)\n",
        "df_test = replace_PACAD(df_test)"
      ]
    },
    {
      "cell_type": "code",
      "execution_count": 54,
      "metadata": {
        "colab": {
          "base_uri": "https://localhost:8080/"
        },
        "id": "j92hoHABPuN3",
        "outputId": "c0c2d7e6-282f-4c64-b864-a3ebf381d180"
      },
      "outputs": [
        {
          "output_type": "execute_result",
          "data": {
            "text/plain": [
              "28"
            ]
          },
          "metadata": {},
          "execution_count": 54
        }
      ],
      "source": [
        "df3['ESTU_PRGM_ACADEMICO'].nunique()"
      ]
    },
    {
      "cell_type": "code",
      "execution_count": 55,
      "metadata": {
        "colab": {
          "base_uri": "https://localhost:8080/"
        },
        "id": "mrpDzJt4N8dE",
        "outputId": "141a10af-6d25-44a7-b18b-177827ca0f5d"
      },
      "outputs": [
        {
          "output_type": "execute_result",
          "data": {
            "text/plain": [
              "array(['ÁREAS DE LA SALUD', 'CIENCIAS POLÍTICAS', 'CIENCIAS ECONÓMICAS',\n",
              "       'ADMINISTRACIÓN', 'VETERINARIA', 'INGENIERÍA', 'OTROS ESTUDIOS',\n",
              "       'EDUCACIÓN', 'CIENCIAS SOCIALES Y HUMANAS', 'ARTES', 'ESTADISTICA',\n",
              "       'QUÍMICA', 'REHABILITACIÓN', 'CIENCIAS BIOMÉDICAS', 'DEPORTE',\n",
              "       'IDIOMAS', 'CIENCIAS NUTRICIONALES', 'FILOSOFÍA',\n",
              "       'CIENCIAS EXACTAS Y NATURALES', 'TIC', 'MILICIA',\n",
              "       'CIENCIAS AGRARIAS', 'TEOLOGÍA', 'ESTUDIOS GEOLÓGICOS',\n",
              "       'CONSTRUCCION', 'PUBLICIDAD', 'GASTRONOMÍA',\n",
              "       'CIENCIAS AMBIENTALES'], dtype=object)"
            ]
          },
          "metadata": {},
          "execution_count": 55
        }
      ],
      "source": [
        "df3['ESTU_PRGM_ACADEMICO'].unique()"
      ]
    },
    {
      "cell_type": "code",
      "execution_count": 56,
      "metadata": {
        "id": "_mpE_zFVQatL"
      },
      "outputs": [],
      "source": [
        "df3 = pd.get_dummies(df3, columns=['ESTU_PRGM_ACADEMICO'])"
      ]
    },
    {
      "cell_type": "code",
      "execution_count": 57,
      "metadata": {
        "id": "vGaXmWXqNVd0"
      },
      "outputs": [],
      "source": [
        "df3 = df3.replace(True, 1)\n",
        "df3 = df3.replace(False, 0)"
      ]
    },
    {
      "cell_type": "code",
      "execution_count": 58,
      "metadata": {
        "colab": {
          "base_uri": "https://localhost:8080/",
          "height": 273
        },
        "id": "_twLrQ7TQzzh",
        "outputId": "bd5da00f-c3e1-4897-bccd-0a84d303aa94"
      },
      "outputs": [
        {
          "output_type": "execute_result",
          "data": {
            "text/plain": [
              "       ID  ESTU_VALORMATRICULAUNIVERSIDAD  ESTU_HORASSEMANATRABAJA  \\\n",
              "0  904256                           0.893                    0.167   \n",
              "1  645256                           0.464                    0.000   \n",
              "2  308367                           0.464                    1.000   \n",
              "3  470353                           0.679                    0.000   \n",
              "4  989032                           0.464                    0.850   \n",
              "\n",
              "  FAMI_ESTRATOVIVIENDA  FAMI_TIENEINTERNET  FAMI_EDUCACIONPADRE  \\\n",
              "0                    3                   1                  5.0   \n",
              "1                    3                   0                  6.0   \n",
              "2                    3                   1                  4.0   \n",
              "3                    4                   1                  0.0   \n",
              "4                    3                   1                  2.0   \n",
              "\n",
              "   ESTU_PAGOMATRICULAPROPIO  FAMI_TIENECOMPUTADOR  FAMI_EDUCACIONMADRE  \\\n",
              "0                         0                     1                  9.0   \n",
              "1                         0                     1                  5.0   \n",
              "2                         0                     0                  4.0   \n",
              "3                         0                     1                  4.0   \n",
              "4                         0                     1                  2.0   \n",
              "\n",
              "  RENDIMIENTO_GLOBAL  ...  ESTU_PRGM_ACADEMICO_INGENIERÍA  \\\n",
              "0         medio-alto  ...                               0   \n",
              "1               bajo  ...                               0   \n",
              "2               bajo  ...                               0   \n",
              "3               alto  ...                               0   \n",
              "4         medio-bajo  ...                               0   \n",
              "\n",
              "   ESTU_PRGM_ACADEMICO_MILICIA  ESTU_PRGM_ACADEMICO_OTROS ESTUDIOS  \\\n",
              "0                            0                                   0   \n",
              "1                            0                                   0   \n",
              "2                            0                                   0   \n",
              "3                            0                                   0   \n",
              "4                            0                                   0   \n",
              "\n",
              "   ESTU_PRGM_ACADEMICO_PUBLICIDAD  ESTU_PRGM_ACADEMICO_QUÍMICA  \\\n",
              "0                               0                            0   \n",
              "1                               0                            0   \n",
              "2                               0                            0   \n",
              "3                               0                            0   \n",
              "4                               0                            0   \n",
              "\n",
              "   ESTU_PRGM_ACADEMICO_REHABILITACIÓN  ESTU_PRGM_ACADEMICO_TEOLOGÍA  \\\n",
              "0                                   0                             0   \n",
              "1                                   0                             0   \n",
              "2                                   0                             0   \n",
              "3                                   0                             0   \n",
              "4                                   0                             0   \n",
              "\n",
              "   ESTU_PRGM_ACADEMICO_TIC  ESTU_PRGM_ACADEMICO_VETERINARIA  \\\n",
              "0                        0                                0   \n",
              "1                        0                                0   \n",
              "2                        0                                0   \n",
              "3                        0                                0   \n",
              "4                        0                                0   \n",
              "\n",
              "   ESTU_PRGM_ACADEMICO_ÁREAS DE LA SALUD  \n",
              "0                                      1  \n",
              "1                                      0  \n",
              "2                                      0  \n",
              "3                                      0  \n",
              "4                                      1  \n",
              "\n",
              "[5 rows x 38 columns]"
            ],
            "text/html": [
              "\n",
              "  <div id=\"df-81ad30c2-c4e8-405e-ac00-33408251fc65\" class=\"colab-df-container\">\n",
              "    <div>\n",
              "<style scoped>\n",
              "    .dataframe tbody tr th:only-of-type {\n",
              "        vertical-align: middle;\n",
              "    }\n",
              "\n",
              "    .dataframe tbody tr th {\n",
              "        vertical-align: top;\n",
              "    }\n",
              "\n",
              "    .dataframe thead th {\n",
              "        text-align: right;\n",
              "    }\n",
              "</style>\n",
              "<table border=\"1\" class=\"dataframe\">\n",
              "  <thead>\n",
              "    <tr style=\"text-align: right;\">\n",
              "      <th></th>\n",
              "      <th>ID</th>\n",
              "      <th>ESTU_VALORMATRICULAUNIVERSIDAD</th>\n",
              "      <th>ESTU_HORASSEMANATRABAJA</th>\n",
              "      <th>FAMI_ESTRATOVIVIENDA</th>\n",
              "      <th>FAMI_TIENEINTERNET</th>\n",
              "      <th>FAMI_EDUCACIONPADRE</th>\n",
              "      <th>ESTU_PAGOMATRICULAPROPIO</th>\n",
              "      <th>FAMI_TIENECOMPUTADOR</th>\n",
              "      <th>FAMI_EDUCACIONMADRE</th>\n",
              "      <th>RENDIMIENTO_GLOBAL</th>\n",
              "      <th>...</th>\n",
              "      <th>ESTU_PRGM_ACADEMICO_INGENIERÍA</th>\n",
              "      <th>ESTU_PRGM_ACADEMICO_MILICIA</th>\n",
              "      <th>ESTU_PRGM_ACADEMICO_OTROS ESTUDIOS</th>\n",
              "      <th>ESTU_PRGM_ACADEMICO_PUBLICIDAD</th>\n",
              "      <th>ESTU_PRGM_ACADEMICO_QUÍMICA</th>\n",
              "      <th>ESTU_PRGM_ACADEMICO_REHABILITACIÓN</th>\n",
              "      <th>ESTU_PRGM_ACADEMICO_TEOLOGÍA</th>\n",
              "      <th>ESTU_PRGM_ACADEMICO_TIC</th>\n",
              "      <th>ESTU_PRGM_ACADEMICO_VETERINARIA</th>\n",
              "      <th>ESTU_PRGM_ACADEMICO_ÁREAS DE LA SALUD</th>\n",
              "    </tr>\n",
              "  </thead>\n",
              "  <tbody>\n",
              "    <tr>\n",
              "      <th>0</th>\n",
              "      <td>904256</td>\n",
              "      <td>0.893</td>\n",
              "      <td>0.167</td>\n",
              "      <td>3</td>\n",
              "      <td>1</td>\n",
              "      <td>5.0</td>\n",
              "      <td>0</td>\n",
              "      <td>1</td>\n",
              "      <td>9.0</td>\n",
              "      <td>medio-alto</td>\n",
              "      <td>...</td>\n",
              "      <td>0</td>\n",
              "      <td>0</td>\n",
              "      <td>0</td>\n",
              "      <td>0</td>\n",
              "      <td>0</td>\n",
              "      <td>0</td>\n",
              "      <td>0</td>\n",
              "      <td>0</td>\n",
              "      <td>0</td>\n",
              "      <td>1</td>\n",
              "    </tr>\n",
              "    <tr>\n",
              "      <th>1</th>\n",
              "      <td>645256</td>\n",
              "      <td>0.464</td>\n",
              "      <td>0.000</td>\n",
              "      <td>3</td>\n",
              "      <td>0</td>\n",
              "      <td>6.0</td>\n",
              "      <td>0</td>\n",
              "      <td>1</td>\n",
              "      <td>5.0</td>\n",
              "      <td>bajo</td>\n",
              "      <td>...</td>\n",
              "      <td>0</td>\n",
              "      <td>0</td>\n",
              "      <td>0</td>\n",
              "      <td>0</td>\n",
              "      <td>0</td>\n",
              "      <td>0</td>\n",
              "      <td>0</td>\n",
              "      <td>0</td>\n",
              "      <td>0</td>\n",
              "      <td>0</td>\n",
              "    </tr>\n",
              "    <tr>\n",
              "      <th>2</th>\n",
              "      <td>308367</td>\n",
              "      <td>0.464</td>\n",
              "      <td>1.000</td>\n",
              "      <td>3</td>\n",
              "      <td>1</td>\n",
              "      <td>4.0</td>\n",
              "      <td>0</td>\n",
              "      <td>0</td>\n",
              "      <td>4.0</td>\n",
              "      <td>bajo</td>\n",
              "      <td>...</td>\n",
              "      <td>0</td>\n",
              "      <td>0</td>\n",
              "      <td>0</td>\n",
              "      <td>0</td>\n",
              "      <td>0</td>\n",
              "      <td>0</td>\n",
              "      <td>0</td>\n",
              "      <td>0</td>\n",
              "      <td>0</td>\n",
              "      <td>0</td>\n",
              "    </tr>\n",
              "    <tr>\n",
              "      <th>3</th>\n",
              "      <td>470353</td>\n",
              "      <td>0.679</td>\n",
              "      <td>0.000</td>\n",
              "      <td>4</td>\n",
              "      <td>1</td>\n",
              "      <td>0.0</td>\n",
              "      <td>0</td>\n",
              "      <td>1</td>\n",
              "      <td>4.0</td>\n",
              "      <td>alto</td>\n",
              "      <td>...</td>\n",
              "      <td>0</td>\n",
              "      <td>0</td>\n",
              "      <td>0</td>\n",
              "      <td>0</td>\n",
              "      <td>0</td>\n",
              "      <td>0</td>\n",
              "      <td>0</td>\n",
              "      <td>0</td>\n",
              "      <td>0</td>\n",
              "      <td>0</td>\n",
              "    </tr>\n",
              "    <tr>\n",
              "      <th>4</th>\n",
              "      <td>989032</td>\n",
              "      <td>0.464</td>\n",
              "      <td>0.850</td>\n",
              "      <td>3</td>\n",
              "      <td>1</td>\n",
              "      <td>2.0</td>\n",
              "      <td>0</td>\n",
              "      <td>1</td>\n",
              "      <td>2.0</td>\n",
              "      <td>medio-bajo</td>\n",
              "      <td>...</td>\n",
              "      <td>0</td>\n",
              "      <td>0</td>\n",
              "      <td>0</td>\n",
              "      <td>0</td>\n",
              "      <td>0</td>\n",
              "      <td>0</td>\n",
              "      <td>0</td>\n",
              "      <td>0</td>\n",
              "      <td>0</td>\n",
              "      <td>1</td>\n",
              "    </tr>\n",
              "  </tbody>\n",
              "</table>\n",
              "<p>5 rows × 38 columns</p>\n",
              "</div>\n",
              "    <div class=\"colab-df-buttons\">\n",
              "\n",
              "  <div class=\"colab-df-container\">\n",
              "    <button class=\"colab-df-convert\" onclick=\"convertToInteractive('df-81ad30c2-c4e8-405e-ac00-33408251fc65')\"\n",
              "            title=\"Convert this dataframe to an interactive table.\"\n",
              "            style=\"display:none;\">\n",
              "\n",
              "  <svg xmlns=\"http://www.w3.org/2000/svg\" height=\"24px\" viewBox=\"0 -960 960 960\">\n",
              "    <path d=\"M120-120v-720h720v720H120Zm60-500h600v-160H180v160Zm220 220h160v-160H400v160Zm0 220h160v-160H400v160ZM180-400h160v-160H180v160Zm440 0h160v-160H620v160ZM180-180h160v-160H180v160Zm440 0h160v-160H620v160Z\"/>\n",
              "  </svg>\n",
              "    </button>\n",
              "\n",
              "  <style>\n",
              "    .colab-df-container {\n",
              "      display:flex;\n",
              "      gap: 12px;\n",
              "    }\n",
              "\n",
              "    .colab-df-convert {\n",
              "      background-color: #E8F0FE;\n",
              "      border: none;\n",
              "      border-radius: 50%;\n",
              "      cursor: pointer;\n",
              "      display: none;\n",
              "      fill: #1967D2;\n",
              "      height: 32px;\n",
              "      padding: 0 0 0 0;\n",
              "      width: 32px;\n",
              "    }\n",
              "\n",
              "    .colab-df-convert:hover {\n",
              "      background-color: #E2EBFA;\n",
              "      box-shadow: 0px 1px 2px rgba(60, 64, 67, 0.3), 0px 1px 3px 1px rgba(60, 64, 67, 0.15);\n",
              "      fill: #174EA6;\n",
              "    }\n",
              "\n",
              "    .colab-df-buttons div {\n",
              "      margin-bottom: 4px;\n",
              "    }\n",
              "\n",
              "    [theme=dark] .colab-df-convert {\n",
              "      background-color: #3B4455;\n",
              "      fill: #D2E3FC;\n",
              "    }\n",
              "\n",
              "    [theme=dark] .colab-df-convert:hover {\n",
              "      background-color: #434B5C;\n",
              "      box-shadow: 0px 1px 3px 1px rgba(0, 0, 0, 0.15);\n",
              "      filter: drop-shadow(0px 1px 2px rgba(0, 0, 0, 0.3));\n",
              "      fill: #FFFFFF;\n",
              "    }\n",
              "  </style>\n",
              "\n",
              "    <script>\n",
              "      const buttonEl =\n",
              "        document.querySelector('#df-81ad30c2-c4e8-405e-ac00-33408251fc65 button.colab-df-convert');\n",
              "      buttonEl.style.display =\n",
              "        google.colab.kernel.accessAllowed ? 'block' : 'none';\n",
              "\n",
              "      async function convertToInteractive(key) {\n",
              "        const element = document.querySelector('#df-81ad30c2-c4e8-405e-ac00-33408251fc65');\n",
              "        const dataTable =\n",
              "          await google.colab.kernel.invokeFunction('convertToInteractive',\n",
              "                                                    [key], {});\n",
              "        if (!dataTable) return;\n",
              "\n",
              "        const docLinkHtml = 'Like what you see? Visit the ' +\n",
              "          '<a target=\"_blank\" href=https://colab.research.google.com/notebooks/data_table.ipynb>data table notebook</a>'\n",
              "          + ' to learn more about interactive tables.';\n",
              "        element.innerHTML = '';\n",
              "        dataTable['output_type'] = 'display_data';\n",
              "        await google.colab.output.renderOutput(dataTable, element);\n",
              "        const docLink = document.createElement('div');\n",
              "        docLink.innerHTML = docLinkHtml;\n",
              "        element.appendChild(docLink);\n",
              "      }\n",
              "    </script>\n",
              "  </div>\n",
              "\n",
              "\n",
              "<div id=\"df-e54da242-ad5d-4f64-94a5-d790980332f3\">\n",
              "  <button class=\"colab-df-quickchart\" onclick=\"quickchart('df-e54da242-ad5d-4f64-94a5-d790980332f3')\"\n",
              "            title=\"Suggest charts\"\n",
              "            style=\"display:none;\">\n",
              "\n",
              "<svg xmlns=\"http://www.w3.org/2000/svg\" height=\"24px\"viewBox=\"0 0 24 24\"\n",
              "     width=\"24px\">\n",
              "    <g>\n",
              "        <path d=\"M19 3H5c-1.1 0-2 .9-2 2v14c0 1.1.9 2 2 2h14c1.1 0 2-.9 2-2V5c0-1.1-.9-2-2-2zM9 17H7v-7h2v7zm4 0h-2V7h2v10zm4 0h-2v-4h2v4z\"/>\n",
              "    </g>\n",
              "</svg>\n",
              "  </button>\n",
              "\n",
              "<style>\n",
              "  .colab-df-quickchart {\n",
              "      --bg-color: #E8F0FE;\n",
              "      --fill-color: #1967D2;\n",
              "      --hover-bg-color: #E2EBFA;\n",
              "      --hover-fill-color: #174EA6;\n",
              "      --disabled-fill-color: #AAA;\n",
              "      --disabled-bg-color: #DDD;\n",
              "  }\n",
              "\n",
              "  [theme=dark] .colab-df-quickchart {\n",
              "      --bg-color: #3B4455;\n",
              "      --fill-color: #D2E3FC;\n",
              "      --hover-bg-color: #434B5C;\n",
              "      --hover-fill-color: #FFFFFF;\n",
              "      --disabled-bg-color: #3B4455;\n",
              "      --disabled-fill-color: #666;\n",
              "  }\n",
              "\n",
              "  .colab-df-quickchart {\n",
              "    background-color: var(--bg-color);\n",
              "    border: none;\n",
              "    border-radius: 50%;\n",
              "    cursor: pointer;\n",
              "    display: none;\n",
              "    fill: var(--fill-color);\n",
              "    height: 32px;\n",
              "    padding: 0;\n",
              "    width: 32px;\n",
              "  }\n",
              "\n",
              "  .colab-df-quickchart:hover {\n",
              "    background-color: var(--hover-bg-color);\n",
              "    box-shadow: 0 1px 2px rgba(60, 64, 67, 0.3), 0 1px 3px 1px rgba(60, 64, 67, 0.15);\n",
              "    fill: var(--button-hover-fill-color);\n",
              "  }\n",
              "\n",
              "  .colab-df-quickchart-complete:disabled,\n",
              "  .colab-df-quickchart-complete:disabled:hover {\n",
              "    background-color: var(--disabled-bg-color);\n",
              "    fill: var(--disabled-fill-color);\n",
              "    box-shadow: none;\n",
              "  }\n",
              "\n",
              "  .colab-df-spinner {\n",
              "    border: 2px solid var(--fill-color);\n",
              "    border-color: transparent;\n",
              "    border-bottom-color: var(--fill-color);\n",
              "    animation:\n",
              "      spin 1s steps(1) infinite;\n",
              "  }\n",
              "\n",
              "  @keyframes spin {\n",
              "    0% {\n",
              "      border-color: transparent;\n",
              "      border-bottom-color: var(--fill-color);\n",
              "      border-left-color: var(--fill-color);\n",
              "    }\n",
              "    20% {\n",
              "      border-color: transparent;\n",
              "      border-left-color: var(--fill-color);\n",
              "      border-top-color: var(--fill-color);\n",
              "    }\n",
              "    30% {\n",
              "      border-color: transparent;\n",
              "      border-left-color: var(--fill-color);\n",
              "      border-top-color: var(--fill-color);\n",
              "      border-right-color: var(--fill-color);\n",
              "    }\n",
              "    40% {\n",
              "      border-color: transparent;\n",
              "      border-right-color: var(--fill-color);\n",
              "      border-top-color: var(--fill-color);\n",
              "    }\n",
              "    60% {\n",
              "      border-color: transparent;\n",
              "      border-right-color: var(--fill-color);\n",
              "    }\n",
              "    80% {\n",
              "      border-color: transparent;\n",
              "      border-right-color: var(--fill-color);\n",
              "      border-bottom-color: var(--fill-color);\n",
              "    }\n",
              "    90% {\n",
              "      border-color: transparent;\n",
              "      border-bottom-color: var(--fill-color);\n",
              "    }\n",
              "  }\n",
              "</style>\n",
              "\n",
              "  <script>\n",
              "    async function quickchart(key) {\n",
              "      const quickchartButtonEl =\n",
              "        document.querySelector('#' + key + ' button');\n",
              "      quickchartButtonEl.disabled = true;  // To prevent multiple clicks.\n",
              "      quickchartButtonEl.classList.add('colab-df-spinner');\n",
              "      try {\n",
              "        const charts = await google.colab.kernel.invokeFunction(\n",
              "            'suggestCharts', [key], {});\n",
              "      } catch (error) {\n",
              "        console.error('Error during call to suggestCharts:', error);\n",
              "      }\n",
              "      quickchartButtonEl.classList.remove('colab-df-spinner');\n",
              "      quickchartButtonEl.classList.add('colab-df-quickchart-complete');\n",
              "    }\n",
              "    (() => {\n",
              "      let quickchartButtonEl =\n",
              "        document.querySelector('#df-e54da242-ad5d-4f64-94a5-d790980332f3 button');\n",
              "      quickchartButtonEl.style.display =\n",
              "        google.colab.kernel.accessAllowed ? 'block' : 'none';\n",
              "    })();\n",
              "  </script>\n",
              "</div>\n",
              "    </div>\n",
              "  </div>\n"
            ],
            "application/vnd.google.colaboratory.intrinsic+json": {
              "type": "dataframe",
              "variable_name": "df3"
            }
          },
          "metadata": {},
          "execution_count": 58
        }
      ],
      "source": [
        "df3.head()"
      ]
    },
    {
      "cell_type": "code",
      "execution_count": 59,
      "metadata": {
        "id": "hF7jYAESNTAT"
      },
      "outputs": [],
      "source": [
        "df_test = pd.get_dummies(df_test, columns=['ESTU_PRGM_ACADEMICO'])"
      ]
    },
    {
      "cell_type": "code",
      "execution_count": 60,
      "metadata": {
        "id": "NCjdiVG-SqO-"
      },
      "outputs": [],
      "source": [
        "df_test = df_test.replace(True, 1)\n",
        "df_test = df_test.replace(False, 0)"
      ]
    },
    {
      "cell_type": "markdown",
      "metadata": {
        "id": "g7OEPonzlBN6"
      },
      "source": [
        "## **Conversión a variables numericas de las columnas**"
      ]
    },
    {
      "cell_type": "code",
      "execution_count": 61,
      "metadata": {
        "colab": {
          "base_uri": "https://localhost:8080/"
        },
        "id": "xYxZjxFrWBOL",
        "outputId": "50f4df66-bd00-42ff-eb75-298c865f6789"
      },
      "outputs": [
        {
          "output_type": "execute_result",
          "data": {
            "text/plain": [
              "FAMI_ESTRATOVIVIENDA\n",
              "2    268097\n",
              "3    210685\n",
              "1    111991\n",
              "4     65514\n",
              "5     23608\n",
              "6     12605\n",
              "Name: count, dtype: int64"
            ]
          },
          "metadata": {},
          "execution_count": 61
        }
      ],
      "source": [
        "df3['FAMI_ESTRATOVIVIENDA'].value_counts()"
      ]
    },
    {
      "cell_type": "code",
      "execution_count": 62,
      "metadata": {
        "id": "FJ-OTP2pUjb-"
      },
      "outputs": [],
      "source": [
        "df3['FAMI_ESTRATOVIVIENDA'] = df3['FAMI_ESTRATOVIVIENDA'].astype(int)\n",
        "df3['ESTU_HORASSEMANATRABAJA'] = df3['ESTU_HORASSEMANATRABAJA'].astype(int)\n",
        "df3['FAMI_TIENEINTERNET'] = df3['FAMI_TIENEINTERNET'].astype(int)\n",
        "df3['FAMI_TIENECOMPUTADOR'] = df3['FAMI_TIENECOMPUTADOR'].astype(int)\n",
        "df3['ESTU_PAGOMATRICULAPROPIO'] = df3['ESTU_PAGOMATRICULAPROPIO'].astype(int)"
      ]
    },
    {
      "cell_type": "code",
      "execution_count": 63,
      "metadata": {
        "colab": {
          "base_uri": "https://localhost:8080/"
        },
        "id": "MN1PJWv03PkW",
        "outputId": "2a0df688-ccdf-47ac-99b8-6aeb51b4e059"
      },
      "outputs": [
        {
          "output_type": "stream",
          "name": "stdout",
          "text": [
            "<class 'pandas.core.frame.DataFrame'>\n",
            "RangeIndex: 692500 entries, 0 to 692499\n",
            "Data columns (total 38 columns):\n",
            " #   Column                                            Non-Null Count   Dtype  \n",
            "---  ------                                            --------------   -----  \n",
            " 0   ID                                                692500 non-null  int64  \n",
            " 1   ESTU_VALORMATRICULAUNIVERSIDAD                    692500 non-null  float64\n",
            " 2   ESTU_HORASSEMANATRABAJA                           692500 non-null  int64  \n",
            " 3   FAMI_ESTRATOVIVIENDA                              692500 non-null  int64  \n",
            " 4   FAMI_TIENEINTERNET                                692500 non-null  int64  \n",
            " 5   FAMI_EDUCACIONPADRE                               692500 non-null  float64\n",
            " 6   ESTU_PAGOMATRICULAPROPIO                          692500 non-null  int64  \n",
            " 7   FAMI_TIENECOMPUTADOR                              692500 non-null  int64  \n",
            " 8   FAMI_EDUCACIONMADRE                               692500 non-null  float64\n",
            " 9   RENDIMIENTO_GLOBAL                                692500 non-null  object \n",
            " 10  ESTU_PRGM_ACADEMICO_ADMINISTRACIÓN                692500 non-null  int64  \n",
            " 11  ESTU_PRGM_ACADEMICO_ARTES                         692500 non-null  int64  \n",
            " 12  ESTU_PRGM_ACADEMICO_CIENCIAS AGRARIAS             692500 non-null  int64  \n",
            " 13  ESTU_PRGM_ACADEMICO_CIENCIAS AMBIENTALES          692500 non-null  int64  \n",
            " 14  ESTU_PRGM_ACADEMICO_CIENCIAS BIOMÉDICAS           692500 non-null  int64  \n",
            " 15  ESTU_PRGM_ACADEMICO_CIENCIAS ECONÓMICAS           692500 non-null  int64  \n",
            " 16  ESTU_PRGM_ACADEMICO_CIENCIAS EXACTAS Y NATURALES  692500 non-null  int64  \n",
            " 17  ESTU_PRGM_ACADEMICO_CIENCIAS NUTRICIONALES        692500 non-null  int64  \n",
            " 18  ESTU_PRGM_ACADEMICO_CIENCIAS POLÍTICAS            692500 non-null  int64  \n",
            " 19  ESTU_PRGM_ACADEMICO_CIENCIAS SOCIALES Y HUMANAS   692500 non-null  int64  \n",
            " 20  ESTU_PRGM_ACADEMICO_CONSTRUCCION                  692500 non-null  int64  \n",
            " 21  ESTU_PRGM_ACADEMICO_DEPORTE                       692500 non-null  int64  \n",
            " 22  ESTU_PRGM_ACADEMICO_EDUCACIÓN                     692500 non-null  int64  \n",
            " 23  ESTU_PRGM_ACADEMICO_ESTADISTICA                   692500 non-null  int64  \n",
            " 24  ESTU_PRGM_ACADEMICO_ESTUDIOS GEOLÓGICOS           692500 non-null  int64  \n",
            " 25  ESTU_PRGM_ACADEMICO_FILOSOFÍA                     692500 non-null  int64  \n",
            " 26  ESTU_PRGM_ACADEMICO_GASTRONOMÍA                   692500 non-null  int64  \n",
            " 27  ESTU_PRGM_ACADEMICO_IDIOMAS                       692500 non-null  int64  \n",
            " 28  ESTU_PRGM_ACADEMICO_INGENIERÍA                    692500 non-null  int64  \n",
            " 29  ESTU_PRGM_ACADEMICO_MILICIA                       692500 non-null  int64  \n",
            " 30  ESTU_PRGM_ACADEMICO_OTROS ESTUDIOS                692500 non-null  int64  \n",
            " 31  ESTU_PRGM_ACADEMICO_PUBLICIDAD                    692500 non-null  int64  \n",
            " 32  ESTU_PRGM_ACADEMICO_QUÍMICA                       692500 non-null  int64  \n",
            " 33  ESTU_PRGM_ACADEMICO_REHABILITACIÓN                692500 non-null  int64  \n",
            " 34  ESTU_PRGM_ACADEMICO_TEOLOGÍA                      692500 non-null  int64  \n",
            " 35  ESTU_PRGM_ACADEMICO_TIC                           692500 non-null  int64  \n",
            " 36  ESTU_PRGM_ACADEMICO_VETERINARIA                   692500 non-null  int64  \n",
            " 37  ESTU_PRGM_ACADEMICO_ÁREAS DE LA SALUD             692500 non-null  int64  \n",
            "dtypes: float64(3), int64(34), object(1)\n",
            "memory usage: 200.8+ MB\n"
          ]
        }
      ],
      "source": [
        "df3.info()"
      ]
    },
    {
      "cell_type": "code",
      "execution_count": 64,
      "metadata": {
        "colab": {
          "base_uri": "https://localhost:8080/",
          "height": 273
        },
        "id": "-Wb-NfVKvw7S",
        "outputId": "3a9353b0-903b-4e0c-d38e-9bf9aef4c409"
      },
      "outputs": [
        {
          "output_type": "execute_result",
          "data": {
            "text/plain": [
              "       ID  ESTU_VALORMATRICULAUNIVERSIDAD  ESTU_HORASSEMANATRABAJA  \\\n",
              "0  904256                           0.893                        0   \n",
              "1  645256                           0.464                        0   \n",
              "2  308367                           0.464                        1   \n",
              "3  470353                           0.679                        0   \n",
              "4  989032                           0.464                        0   \n",
              "\n",
              "   FAMI_ESTRATOVIVIENDA  FAMI_TIENEINTERNET  FAMI_EDUCACIONPADRE  \\\n",
              "0                     3                   1                  5.0   \n",
              "1                     3                   0                  6.0   \n",
              "2                     3                   1                  4.0   \n",
              "3                     4                   1                  0.0   \n",
              "4                     3                   1                  2.0   \n",
              "\n",
              "   ESTU_PAGOMATRICULAPROPIO  FAMI_TIENECOMPUTADOR  FAMI_EDUCACIONMADRE  \\\n",
              "0                         0                     1                  9.0   \n",
              "1                         0                     1                  5.0   \n",
              "2                         0                     0                  4.0   \n",
              "3                         0                     1                  4.0   \n",
              "4                         0                     1                  2.0   \n",
              "\n",
              "  RENDIMIENTO_GLOBAL  ...  ESTU_PRGM_ACADEMICO_INGENIERÍA  \\\n",
              "0         medio-alto  ...                               0   \n",
              "1               bajo  ...                               0   \n",
              "2               bajo  ...                               0   \n",
              "3               alto  ...                               0   \n",
              "4         medio-bajo  ...                               0   \n",
              "\n",
              "   ESTU_PRGM_ACADEMICO_MILICIA  ESTU_PRGM_ACADEMICO_OTROS ESTUDIOS  \\\n",
              "0                            0                                   0   \n",
              "1                            0                                   0   \n",
              "2                            0                                   0   \n",
              "3                            0                                   0   \n",
              "4                            0                                   0   \n",
              "\n",
              "   ESTU_PRGM_ACADEMICO_PUBLICIDAD  ESTU_PRGM_ACADEMICO_QUÍMICA  \\\n",
              "0                               0                            0   \n",
              "1                               0                            0   \n",
              "2                               0                            0   \n",
              "3                               0                            0   \n",
              "4                               0                            0   \n",
              "\n",
              "   ESTU_PRGM_ACADEMICO_REHABILITACIÓN  ESTU_PRGM_ACADEMICO_TEOLOGÍA  \\\n",
              "0                                   0                             0   \n",
              "1                                   0                             0   \n",
              "2                                   0                             0   \n",
              "3                                   0                             0   \n",
              "4                                   0                             0   \n",
              "\n",
              "   ESTU_PRGM_ACADEMICO_TIC  ESTU_PRGM_ACADEMICO_VETERINARIA  \\\n",
              "0                        0                                0   \n",
              "1                        0                                0   \n",
              "2                        0                                0   \n",
              "3                        0                                0   \n",
              "4                        0                                0   \n",
              "\n",
              "   ESTU_PRGM_ACADEMICO_ÁREAS DE LA SALUD  \n",
              "0                                      1  \n",
              "1                                      0  \n",
              "2                                      0  \n",
              "3                                      0  \n",
              "4                                      1  \n",
              "\n",
              "[5 rows x 38 columns]"
            ],
            "text/html": [
              "\n",
              "  <div id=\"df-cf6f44a5-6af1-4fd7-8228-335f2fa460fb\" class=\"colab-df-container\">\n",
              "    <div>\n",
              "<style scoped>\n",
              "    .dataframe tbody tr th:only-of-type {\n",
              "        vertical-align: middle;\n",
              "    }\n",
              "\n",
              "    .dataframe tbody tr th {\n",
              "        vertical-align: top;\n",
              "    }\n",
              "\n",
              "    .dataframe thead th {\n",
              "        text-align: right;\n",
              "    }\n",
              "</style>\n",
              "<table border=\"1\" class=\"dataframe\">\n",
              "  <thead>\n",
              "    <tr style=\"text-align: right;\">\n",
              "      <th></th>\n",
              "      <th>ID</th>\n",
              "      <th>ESTU_VALORMATRICULAUNIVERSIDAD</th>\n",
              "      <th>ESTU_HORASSEMANATRABAJA</th>\n",
              "      <th>FAMI_ESTRATOVIVIENDA</th>\n",
              "      <th>FAMI_TIENEINTERNET</th>\n",
              "      <th>FAMI_EDUCACIONPADRE</th>\n",
              "      <th>ESTU_PAGOMATRICULAPROPIO</th>\n",
              "      <th>FAMI_TIENECOMPUTADOR</th>\n",
              "      <th>FAMI_EDUCACIONMADRE</th>\n",
              "      <th>RENDIMIENTO_GLOBAL</th>\n",
              "      <th>...</th>\n",
              "      <th>ESTU_PRGM_ACADEMICO_INGENIERÍA</th>\n",
              "      <th>ESTU_PRGM_ACADEMICO_MILICIA</th>\n",
              "      <th>ESTU_PRGM_ACADEMICO_OTROS ESTUDIOS</th>\n",
              "      <th>ESTU_PRGM_ACADEMICO_PUBLICIDAD</th>\n",
              "      <th>ESTU_PRGM_ACADEMICO_QUÍMICA</th>\n",
              "      <th>ESTU_PRGM_ACADEMICO_REHABILITACIÓN</th>\n",
              "      <th>ESTU_PRGM_ACADEMICO_TEOLOGÍA</th>\n",
              "      <th>ESTU_PRGM_ACADEMICO_TIC</th>\n",
              "      <th>ESTU_PRGM_ACADEMICO_VETERINARIA</th>\n",
              "      <th>ESTU_PRGM_ACADEMICO_ÁREAS DE LA SALUD</th>\n",
              "    </tr>\n",
              "  </thead>\n",
              "  <tbody>\n",
              "    <tr>\n",
              "      <th>0</th>\n",
              "      <td>904256</td>\n",
              "      <td>0.893</td>\n",
              "      <td>0</td>\n",
              "      <td>3</td>\n",
              "      <td>1</td>\n",
              "      <td>5.0</td>\n",
              "      <td>0</td>\n",
              "      <td>1</td>\n",
              "      <td>9.0</td>\n",
              "      <td>medio-alto</td>\n",
              "      <td>...</td>\n",
              "      <td>0</td>\n",
              "      <td>0</td>\n",
              "      <td>0</td>\n",
              "      <td>0</td>\n",
              "      <td>0</td>\n",
              "      <td>0</td>\n",
              "      <td>0</td>\n",
              "      <td>0</td>\n",
              "      <td>0</td>\n",
              "      <td>1</td>\n",
              "    </tr>\n",
              "    <tr>\n",
              "      <th>1</th>\n",
              "      <td>645256</td>\n",
              "      <td>0.464</td>\n",
              "      <td>0</td>\n",
              "      <td>3</td>\n",
              "      <td>0</td>\n",
              "      <td>6.0</td>\n",
              "      <td>0</td>\n",
              "      <td>1</td>\n",
              "      <td>5.0</td>\n",
              "      <td>bajo</td>\n",
              "      <td>...</td>\n",
              "      <td>0</td>\n",
              "      <td>0</td>\n",
              "      <td>0</td>\n",
              "      <td>0</td>\n",
              "      <td>0</td>\n",
              "      <td>0</td>\n",
              "      <td>0</td>\n",
              "      <td>0</td>\n",
              "      <td>0</td>\n",
              "      <td>0</td>\n",
              "    </tr>\n",
              "    <tr>\n",
              "      <th>2</th>\n",
              "      <td>308367</td>\n",
              "      <td>0.464</td>\n",
              "      <td>1</td>\n",
              "      <td>3</td>\n",
              "      <td>1</td>\n",
              "      <td>4.0</td>\n",
              "      <td>0</td>\n",
              "      <td>0</td>\n",
              "      <td>4.0</td>\n",
              "      <td>bajo</td>\n",
              "      <td>...</td>\n",
              "      <td>0</td>\n",
              "      <td>0</td>\n",
              "      <td>0</td>\n",
              "      <td>0</td>\n",
              "      <td>0</td>\n",
              "      <td>0</td>\n",
              "      <td>0</td>\n",
              "      <td>0</td>\n",
              "      <td>0</td>\n",
              "      <td>0</td>\n",
              "    </tr>\n",
              "    <tr>\n",
              "      <th>3</th>\n",
              "      <td>470353</td>\n",
              "      <td>0.679</td>\n",
              "      <td>0</td>\n",
              "      <td>4</td>\n",
              "      <td>1</td>\n",
              "      <td>0.0</td>\n",
              "      <td>0</td>\n",
              "      <td>1</td>\n",
              "      <td>4.0</td>\n",
              "      <td>alto</td>\n",
              "      <td>...</td>\n",
              "      <td>0</td>\n",
              "      <td>0</td>\n",
              "      <td>0</td>\n",
              "      <td>0</td>\n",
              "      <td>0</td>\n",
              "      <td>0</td>\n",
              "      <td>0</td>\n",
              "      <td>0</td>\n",
              "      <td>0</td>\n",
              "      <td>0</td>\n",
              "    </tr>\n",
              "    <tr>\n",
              "      <th>4</th>\n",
              "      <td>989032</td>\n",
              "      <td>0.464</td>\n",
              "      <td>0</td>\n",
              "      <td>3</td>\n",
              "      <td>1</td>\n",
              "      <td>2.0</td>\n",
              "      <td>0</td>\n",
              "      <td>1</td>\n",
              "      <td>2.0</td>\n",
              "      <td>medio-bajo</td>\n",
              "      <td>...</td>\n",
              "      <td>0</td>\n",
              "      <td>0</td>\n",
              "      <td>0</td>\n",
              "      <td>0</td>\n",
              "      <td>0</td>\n",
              "      <td>0</td>\n",
              "      <td>0</td>\n",
              "      <td>0</td>\n",
              "      <td>0</td>\n",
              "      <td>1</td>\n",
              "    </tr>\n",
              "  </tbody>\n",
              "</table>\n",
              "<p>5 rows × 38 columns</p>\n",
              "</div>\n",
              "    <div class=\"colab-df-buttons\">\n",
              "\n",
              "  <div class=\"colab-df-container\">\n",
              "    <button class=\"colab-df-convert\" onclick=\"convertToInteractive('df-cf6f44a5-6af1-4fd7-8228-335f2fa460fb')\"\n",
              "            title=\"Convert this dataframe to an interactive table.\"\n",
              "            style=\"display:none;\">\n",
              "\n",
              "  <svg xmlns=\"http://www.w3.org/2000/svg\" height=\"24px\" viewBox=\"0 -960 960 960\">\n",
              "    <path d=\"M120-120v-720h720v720H120Zm60-500h600v-160H180v160Zm220 220h160v-160H400v160Zm0 220h160v-160H400v160ZM180-400h160v-160H180v160Zm440 0h160v-160H620v160ZM180-180h160v-160H180v160Zm440 0h160v-160H620v160Z\"/>\n",
              "  </svg>\n",
              "    </button>\n",
              "\n",
              "  <style>\n",
              "    .colab-df-container {\n",
              "      display:flex;\n",
              "      gap: 12px;\n",
              "    }\n",
              "\n",
              "    .colab-df-convert {\n",
              "      background-color: #E8F0FE;\n",
              "      border: none;\n",
              "      border-radius: 50%;\n",
              "      cursor: pointer;\n",
              "      display: none;\n",
              "      fill: #1967D2;\n",
              "      height: 32px;\n",
              "      padding: 0 0 0 0;\n",
              "      width: 32px;\n",
              "    }\n",
              "\n",
              "    .colab-df-convert:hover {\n",
              "      background-color: #E2EBFA;\n",
              "      box-shadow: 0px 1px 2px rgba(60, 64, 67, 0.3), 0px 1px 3px 1px rgba(60, 64, 67, 0.15);\n",
              "      fill: #174EA6;\n",
              "    }\n",
              "\n",
              "    .colab-df-buttons div {\n",
              "      margin-bottom: 4px;\n",
              "    }\n",
              "\n",
              "    [theme=dark] .colab-df-convert {\n",
              "      background-color: #3B4455;\n",
              "      fill: #D2E3FC;\n",
              "    }\n",
              "\n",
              "    [theme=dark] .colab-df-convert:hover {\n",
              "      background-color: #434B5C;\n",
              "      box-shadow: 0px 1px 3px 1px rgba(0, 0, 0, 0.15);\n",
              "      filter: drop-shadow(0px 1px 2px rgba(0, 0, 0, 0.3));\n",
              "      fill: #FFFFFF;\n",
              "    }\n",
              "  </style>\n",
              "\n",
              "    <script>\n",
              "      const buttonEl =\n",
              "        document.querySelector('#df-cf6f44a5-6af1-4fd7-8228-335f2fa460fb button.colab-df-convert');\n",
              "      buttonEl.style.display =\n",
              "        google.colab.kernel.accessAllowed ? 'block' : 'none';\n",
              "\n",
              "      async function convertToInteractive(key) {\n",
              "        const element = document.querySelector('#df-cf6f44a5-6af1-4fd7-8228-335f2fa460fb');\n",
              "        const dataTable =\n",
              "          await google.colab.kernel.invokeFunction('convertToInteractive',\n",
              "                                                    [key], {});\n",
              "        if (!dataTable) return;\n",
              "\n",
              "        const docLinkHtml = 'Like what you see? Visit the ' +\n",
              "          '<a target=\"_blank\" href=https://colab.research.google.com/notebooks/data_table.ipynb>data table notebook</a>'\n",
              "          + ' to learn more about interactive tables.';\n",
              "        element.innerHTML = '';\n",
              "        dataTable['output_type'] = 'display_data';\n",
              "        await google.colab.output.renderOutput(dataTable, element);\n",
              "        const docLink = document.createElement('div');\n",
              "        docLink.innerHTML = docLinkHtml;\n",
              "        element.appendChild(docLink);\n",
              "      }\n",
              "    </script>\n",
              "  </div>\n",
              "\n",
              "\n",
              "<div id=\"df-08285b29-9abc-4a8f-8a26-dcf2f745ee8a\">\n",
              "  <button class=\"colab-df-quickchart\" onclick=\"quickchart('df-08285b29-9abc-4a8f-8a26-dcf2f745ee8a')\"\n",
              "            title=\"Suggest charts\"\n",
              "            style=\"display:none;\">\n",
              "\n",
              "<svg xmlns=\"http://www.w3.org/2000/svg\" height=\"24px\"viewBox=\"0 0 24 24\"\n",
              "     width=\"24px\">\n",
              "    <g>\n",
              "        <path d=\"M19 3H5c-1.1 0-2 .9-2 2v14c0 1.1.9 2 2 2h14c1.1 0 2-.9 2-2V5c0-1.1-.9-2-2-2zM9 17H7v-7h2v7zm4 0h-2V7h2v10zm4 0h-2v-4h2v4z\"/>\n",
              "    </g>\n",
              "</svg>\n",
              "  </button>\n",
              "\n",
              "<style>\n",
              "  .colab-df-quickchart {\n",
              "      --bg-color: #E8F0FE;\n",
              "      --fill-color: #1967D2;\n",
              "      --hover-bg-color: #E2EBFA;\n",
              "      --hover-fill-color: #174EA6;\n",
              "      --disabled-fill-color: #AAA;\n",
              "      --disabled-bg-color: #DDD;\n",
              "  }\n",
              "\n",
              "  [theme=dark] .colab-df-quickchart {\n",
              "      --bg-color: #3B4455;\n",
              "      --fill-color: #D2E3FC;\n",
              "      --hover-bg-color: #434B5C;\n",
              "      --hover-fill-color: #FFFFFF;\n",
              "      --disabled-bg-color: #3B4455;\n",
              "      --disabled-fill-color: #666;\n",
              "  }\n",
              "\n",
              "  .colab-df-quickchart {\n",
              "    background-color: var(--bg-color);\n",
              "    border: none;\n",
              "    border-radius: 50%;\n",
              "    cursor: pointer;\n",
              "    display: none;\n",
              "    fill: var(--fill-color);\n",
              "    height: 32px;\n",
              "    padding: 0;\n",
              "    width: 32px;\n",
              "  }\n",
              "\n",
              "  .colab-df-quickchart:hover {\n",
              "    background-color: var(--hover-bg-color);\n",
              "    box-shadow: 0 1px 2px rgba(60, 64, 67, 0.3), 0 1px 3px 1px rgba(60, 64, 67, 0.15);\n",
              "    fill: var(--button-hover-fill-color);\n",
              "  }\n",
              "\n",
              "  .colab-df-quickchart-complete:disabled,\n",
              "  .colab-df-quickchart-complete:disabled:hover {\n",
              "    background-color: var(--disabled-bg-color);\n",
              "    fill: var(--disabled-fill-color);\n",
              "    box-shadow: none;\n",
              "  }\n",
              "\n",
              "  .colab-df-spinner {\n",
              "    border: 2px solid var(--fill-color);\n",
              "    border-color: transparent;\n",
              "    border-bottom-color: var(--fill-color);\n",
              "    animation:\n",
              "      spin 1s steps(1) infinite;\n",
              "  }\n",
              "\n",
              "  @keyframes spin {\n",
              "    0% {\n",
              "      border-color: transparent;\n",
              "      border-bottom-color: var(--fill-color);\n",
              "      border-left-color: var(--fill-color);\n",
              "    }\n",
              "    20% {\n",
              "      border-color: transparent;\n",
              "      border-left-color: var(--fill-color);\n",
              "      border-top-color: var(--fill-color);\n",
              "    }\n",
              "    30% {\n",
              "      border-color: transparent;\n",
              "      border-left-color: var(--fill-color);\n",
              "      border-top-color: var(--fill-color);\n",
              "      border-right-color: var(--fill-color);\n",
              "    }\n",
              "    40% {\n",
              "      border-color: transparent;\n",
              "      border-right-color: var(--fill-color);\n",
              "      border-top-color: var(--fill-color);\n",
              "    }\n",
              "    60% {\n",
              "      border-color: transparent;\n",
              "      border-right-color: var(--fill-color);\n",
              "    }\n",
              "    80% {\n",
              "      border-color: transparent;\n",
              "      border-right-color: var(--fill-color);\n",
              "      border-bottom-color: var(--fill-color);\n",
              "    }\n",
              "    90% {\n",
              "      border-color: transparent;\n",
              "      border-bottom-color: var(--fill-color);\n",
              "    }\n",
              "  }\n",
              "</style>\n",
              "\n",
              "  <script>\n",
              "    async function quickchart(key) {\n",
              "      const quickchartButtonEl =\n",
              "        document.querySelector('#' + key + ' button');\n",
              "      quickchartButtonEl.disabled = true;  // To prevent multiple clicks.\n",
              "      quickchartButtonEl.classList.add('colab-df-spinner');\n",
              "      try {\n",
              "        const charts = await google.colab.kernel.invokeFunction(\n",
              "            'suggestCharts', [key], {});\n",
              "      } catch (error) {\n",
              "        console.error('Error during call to suggestCharts:', error);\n",
              "      }\n",
              "      quickchartButtonEl.classList.remove('colab-df-spinner');\n",
              "      quickchartButtonEl.classList.add('colab-df-quickchart-complete');\n",
              "    }\n",
              "    (() => {\n",
              "      let quickchartButtonEl =\n",
              "        document.querySelector('#df-08285b29-9abc-4a8f-8a26-dcf2f745ee8a button');\n",
              "      quickchartButtonEl.style.display =\n",
              "        google.colab.kernel.accessAllowed ? 'block' : 'none';\n",
              "    })();\n",
              "  </script>\n",
              "</div>\n",
              "    </div>\n",
              "  </div>\n"
            ],
            "application/vnd.google.colaboratory.intrinsic+json": {
              "type": "dataframe",
              "variable_name": "df3"
            }
          },
          "metadata": {},
          "execution_count": 64
        }
      ],
      "source": [
        "df3.head()"
      ]
    },
    {
      "cell_type": "code",
      "execution_count": 65,
      "metadata": {
        "id": "hFAJcExSQlMI"
      },
      "outputs": [],
      "source": [
        "df_test['FAMI_ESTRATOVIVIENDA'] = df_test['FAMI_ESTRATOVIVIENDA'].astype(int)\n",
        "df_test['ESTU_HORASSEMANATRABAJA'] = df_test['ESTU_HORASSEMANATRABAJA'].astype(int)\n",
        "df_test['FAMI_TIENEINTERNET'] = df_test['FAMI_TIENEINTERNET'].astype(int)\n",
        "df_test['FAMI_TIENECOMPUTADOR'] = df_test['FAMI_TIENECOMPUTADOR'].astype(int)\n",
        "df_test['ESTU_PAGOMATRICULAPROPIO'] = df_test['ESTU_PAGOMATRICULAPROPIO'].astype(int)"
      ]
    },
    {
      "cell_type": "markdown",
      "metadata": {
        "id": "W6kHk8TKVuoY"
      },
      "source": [
        "___\n",
        "# **KNeighbors**"
      ]
    },
    {
      "cell_type": "code",
      "execution_count": 66,
      "metadata": {
        "colab": {
          "base_uri": "https://localhost:8080/"
        },
        "id": "davce2tKMu2G",
        "outputId": "69f37ef1-e404-4531-b285-37561806dfbb"
      },
      "outputs": [
        {
          "output_type": "stream",
          "name": "stdout",
          "text": [
            "Accuracy: 0.2727075812274368\n"
          ]
        }
      ],
      "source": [
        "# Vecino mas proximo\n",
        "X = df3.drop(\"RENDIMIENTO_GLOBAL\", axis=1)\n",
        "y = df3[\"RENDIMIENTO_GLOBAL\"]\n",
        "\n",
        "# Separar los datos en conjuntos de entrenamiento y prueba\n",
        "X_train, X_test, y_train, y_test = train_test_split(X, y, test_size=0.2, random_state=42)\n",
        "\n",
        "# Inicializar y entrenar el modelo KNN\n",
        "knn_model = KNeighborsClassifier(n_neighbors=10)\n",
        "knn_model.fit(X_train, y_train)\n",
        "\n",
        "# Realizar predicciones\n",
        "knn_predictions = knn_model.predict(X_test)\n",
        "\n",
        "# Evaluación del modelo (por ejemplo, precisión)\n",
        "accuracy = knn_model.score(X_test, y_test)\n",
        "print(\"Accuracy:\", accuracy)"
      ]
    },
    {
      "cell_type": "code",
      "execution_count": 67,
      "metadata": {
        "id": "wBnJYGgRQs9H"
      },
      "outputs": [],
      "source": [
        "preds_ts = knn_model.predict(df_test)"
      ]
    },
    {
      "cell_type": "code",
      "execution_count": 68,
      "metadata": {
        "id": "v21GG0neScIa",
        "colab": {
          "base_uri": "https://localhost:8080/",
          "height": 206
        },
        "outputId": "d83f205a-5b58-4b2b-d3de-4f074934e911"
      },
      "outputs": [
        {
          "output_type": "execute_result",
          "data": {
            "text/plain": [
              "       ID RENDIMIENTO_GLOBAL\n",
              "0  550236               alto\n",
              "1   98545         medio-alto\n",
              "2  499179         medio-alto\n",
              "3  782980               alto\n",
              "4  785185               bajo"
            ],
            "text/html": [
              "\n",
              "  <div id=\"df-b00ebfd0-6f70-48aa-94f5-bb94ae7428b2\" class=\"colab-df-container\">\n",
              "    <div>\n",
              "<style scoped>\n",
              "    .dataframe tbody tr th:only-of-type {\n",
              "        vertical-align: middle;\n",
              "    }\n",
              "\n",
              "    .dataframe tbody tr th {\n",
              "        vertical-align: top;\n",
              "    }\n",
              "\n",
              "    .dataframe thead th {\n",
              "        text-align: right;\n",
              "    }\n",
              "</style>\n",
              "<table border=\"1\" class=\"dataframe\">\n",
              "  <thead>\n",
              "    <tr style=\"text-align: right;\">\n",
              "      <th></th>\n",
              "      <th>ID</th>\n",
              "      <th>RENDIMIENTO_GLOBAL</th>\n",
              "    </tr>\n",
              "  </thead>\n",
              "  <tbody>\n",
              "    <tr>\n",
              "      <th>0</th>\n",
              "      <td>550236</td>\n",
              "      <td>alto</td>\n",
              "    </tr>\n",
              "    <tr>\n",
              "      <th>1</th>\n",
              "      <td>98545</td>\n",
              "      <td>medio-alto</td>\n",
              "    </tr>\n",
              "    <tr>\n",
              "      <th>2</th>\n",
              "      <td>499179</td>\n",
              "      <td>medio-alto</td>\n",
              "    </tr>\n",
              "    <tr>\n",
              "      <th>3</th>\n",
              "      <td>782980</td>\n",
              "      <td>alto</td>\n",
              "    </tr>\n",
              "    <tr>\n",
              "      <th>4</th>\n",
              "      <td>785185</td>\n",
              "      <td>bajo</td>\n",
              "    </tr>\n",
              "  </tbody>\n",
              "</table>\n",
              "</div>\n",
              "    <div class=\"colab-df-buttons\">\n",
              "\n",
              "  <div class=\"colab-df-container\">\n",
              "    <button class=\"colab-df-convert\" onclick=\"convertToInteractive('df-b00ebfd0-6f70-48aa-94f5-bb94ae7428b2')\"\n",
              "            title=\"Convert this dataframe to an interactive table.\"\n",
              "            style=\"display:none;\">\n",
              "\n",
              "  <svg xmlns=\"http://www.w3.org/2000/svg\" height=\"24px\" viewBox=\"0 -960 960 960\">\n",
              "    <path d=\"M120-120v-720h720v720H120Zm60-500h600v-160H180v160Zm220 220h160v-160H400v160Zm0 220h160v-160H400v160ZM180-400h160v-160H180v160Zm440 0h160v-160H620v160ZM180-180h160v-160H180v160Zm440 0h160v-160H620v160Z\"/>\n",
              "  </svg>\n",
              "    </button>\n",
              "\n",
              "  <style>\n",
              "    .colab-df-container {\n",
              "      display:flex;\n",
              "      gap: 12px;\n",
              "    }\n",
              "\n",
              "    .colab-df-convert {\n",
              "      background-color: #E8F0FE;\n",
              "      border: none;\n",
              "      border-radius: 50%;\n",
              "      cursor: pointer;\n",
              "      display: none;\n",
              "      fill: #1967D2;\n",
              "      height: 32px;\n",
              "      padding: 0 0 0 0;\n",
              "      width: 32px;\n",
              "    }\n",
              "\n",
              "    .colab-df-convert:hover {\n",
              "      background-color: #E2EBFA;\n",
              "      box-shadow: 0px 1px 2px rgba(60, 64, 67, 0.3), 0px 1px 3px 1px rgba(60, 64, 67, 0.15);\n",
              "      fill: #174EA6;\n",
              "    }\n",
              "\n",
              "    .colab-df-buttons div {\n",
              "      margin-bottom: 4px;\n",
              "    }\n",
              "\n",
              "    [theme=dark] .colab-df-convert {\n",
              "      background-color: #3B4455;\n",
              "      fill: #D2E3FC;\n",
              "    }\n",
              "\n",
              "    [theme=dark] .colab-df-convert:hover {\n",
              "      background-color: #434B5C;\n",
              "      box-shadow: 0px 1px 3px 1px rgba(0, 0, 0, 0.15);\n",
              "      filter: drop-shadow(0px 1px 2px rgba(0, 0, 0, 0.3));\n",
              "      fill: #FFFFFF;\n",
              "    }\n",
              "  </style>\n",
              "\n",
              "    <script>\n",
              "      const buttonEl =\n",
              "        document.querySelector('#df-b00ebfd0-6f70-48aa-94f5-bb94ae7428b2 button.colab-df-convert');\n",
              "      buttonEl.style.display =\n",
              "        google.colab.kernel.accessAllowed ? 'block' : 'none';\n",
              "\n",
              "      async function convertToInteractive(key) {\n",
              "        const element = document.querySelector('#df-b00ebfd0-6f70-48aa-94f5-bb94ae7428b2');\n",
              "        const dataTable =\n",
              "          await google.colab.kernel.invokeFunction('convertToInteractive',\n",
              "                                                    [key], {});\n",
              "        if (!dataTable) return;\n",
              "\n",
              "        const docLinkHtml = 'Like what you see? Visit the ' +\n",
              "          '<a target=\"_blank\" href=https://colab.research.google.com/notebooks/data_table.ipynb>data table notebook</a>'\n",
              "          + ' to learn more about interactive tables.';\n",
              "        element.innerHTML = '';\n",
              "        dataTable['output_type'] = 'display_data';\n",
              "        await google.colab.output.renderOutput(dataTable, element);\n",
              "        const docLink = document.createElement('div');\n",
              "        docLink.innerHTML = docLinkHtml;\n",
              "        element.appendChild(docLink);\n",
              "      }\n",
              "    </script>\n",
              "  </div>\n",
              "\n",
              "\n",
              "<div id=\"df-192f87bb-efa5-4b76-a7ff-717bf83fa09e\">\n",
              "  <button class=\"colab-df-quickchart\" onclick=\"quickchart('df-192f87bb-efa5-4b76-a7ff-717bf83fa09e')\"\n",
              "            title=\"Suggest charts\"\n",
              "            style=\"display:none;\">\n",
              "\n",
              "<svg xmlns=\"http://www.w3.org/2000/svg\" height=\"24px\"viewBox=\"0 0 24 24\"\n",
              "     width=\"24px\">\n",
              "    <g>\n",
              "        <path d=\"M19 3H5c-1.1 0-2 .9-2 2v14c0 1.1.9 2 2 2h14c1.1 0 2-.9 2-2V5c0-1.1-.9-2-2-2zM9 17H7v-7h2v7zm4 0h-2V7h2v10zm4 0h-2v-4h2v4z\"/>\n",
              "    </g>\n",
              "</svg>\n",
              "  </button>\n",
              "\n",
              "<style>\n",
              "  .colab-df-quickchart {\n",
              "      --bg-color: #E8F0FE;\n",
              "      --fill-color: #1967D2;\n",
              "      --hover-bg-color: #E2EBFA;\n",
              "      --hover-fill-color: #174EA6;\n",
              "      --disabled-fill-color: #AAA;\n",
              "      --disabled-bg-color: #DDD;\n",
              "  }\n",
              "\n",
              "  [theme=dark] .colab-df-quickchart {\n",
              "      --bg-color: #3B4455;\n",
              "      --fill-color: #D2E3FC;\n",
              "      --hover-bg-color: #434B5C;\n",
              "      --hover-fill-color: #FFFFFF;\n",
              "      --disabled-bg-color: #3B4455;\n",
              "      --disabled-fill-color: #666;\n",
              "  }\n",
              "\n",
              "  .colab-df-quickchart {\n",
              "    background-color: var(--bg-color);\n",
              "    border: none;\n",
              "    border-radius: 50%;\n",
              "    cursor: pointer;\n",
              "    display: none;\n",
              "    fill: var(--fill-color);\n",
              "    height: 32px;\n",
              "    padding: 0;\n",
              "    width: 32px;\n",
              "  }\n",
              "\n",
              "  .colab-df-quickchart:hover {\n",
              "    background-color: var(--hover-bg-color);\n",
              "    box-shadow: 0 1px 2px rgba(60, 64, 67, 0.3), 0 1px 3px 1px rgba(60, 64, 67, 0.15);\n",
              "    fill: var(--button-hover-fill-color);\n",
              "  }\n",
              "\n",
              "  .colab-df-quickchart-complete:disabled,\n",
              "  .colab-df-quickchart-complete:disabled:hover {\n",
              "    background-color: var(--disabled-bg-color);\n",
              "    fill: var(--disabled-fill-color);\n",
              "    box-shadow: none;\n",
              "  }\n",
              "\n",
              "  .colab-df-spinner {\n",
              "    border: 2px solid var(--fill-color);\n",
              "    border-color: transparent;\n",
              "    border-bottom-color: var(--fill-color);\n",
              "    animation:\n",
              "      spin 1s steps(1) infinite;\n",
              "  }\n",
              "\n",
              "  @keyframes spin {\n",
              "    0% {\n",
              "      border-color: transparent;\n",
              "      border-bottom-color: var(--fill-color);\n",
              "      border-left-color: var(--fill-color);\n",
              "    }\n",
              "    20% {\n",
              "      border-color: transparent;\n",
              "      border-left-color: var(--fill-color);\n",
              "      border-top-color: var(--fill-color);\n",
              "    }\n",
              "    30% {\n",
              "      border-color: transparent;\n",
              "      border-left-color: var(--fill-color);\n",
              "      border-top-color: var(--fill-color);\n",
              "      border-right-color: var(--fill-color);\n",
              "    }\n",
              "    40% {\n",
              "      border-color: transparent;\n",
              "      border-right-color: var(--fill-color);\n",
              "      border-top-color: var(--fill-color);\n",
              "    }\n",
              "    60% {\n",
              "      border-color: transparent;\n",
              "      border-right-color: var(--fill-color);\n",
              "    }\n",
              "    80% {\n",
              "      border-color: transparent;\n",
              "      border-right-color: var(--fill-color);\n",
              "      border-bottom-color: var(--fill-color);\n",
              "    }\n",
              "    90% {\n",
              "      border-color: transparent;\n",
              "      border-bottom-color: var(--fill-color);\n",
              "    }\n",
              "  }\n",
              "</style>\n",
              "\n",
              "  <script>\n",
              "    async function quickchart(key) {\n",
              "      const quickchartButtonEl =\n",
              "        document.querySelector('#' + key + ' button');\n",
              "      quickchartButtonEl.disabled = true;  // To prevent multiple clicks.\n",
              "      quickchartButtonEl.classList.add('colab-df-spinner');\n",
              "      try {\n",
              "        const charts = await google.colab.kernel.invokeFunction(\n",
              "            'suggestCharts', [key], {});\n",
              "      } catch (error) {\n",
              "        console.error('Error during call to suggestCharts:', error);\n",
              "      }\n",
              "      quickchartButtonEl.classList.remove('colab-df-spinner');\n",
              "      quickchartButtonEl.classList.add('colab-df-quickchart-complete');\n",
              "    }\n",
              "    (() => {\n",
              "      let quickchartButtonEl =\n",
              "        document.querySelector('#df-192f87bb-efa5-4b76-a7ff-717bf83fa09e button');\n",
              "      quickchartButtonEl.style.display =\n",
              "        google.colab.kernel.accessAllowed ? 'block' : 'none';\n",
              "    })();\n",
              "  </script>\n",
              "</div>\n",
              "    </div>\n",
              "  </div>\n"
            ],
            "application/vnd.google.colaboratory.intrinsic+json": {
              "type": "dataframe",
              "variable_name": "submission"
            }
          },
          "metadata": {},
          "execution_count": 68
        }
      ],
      "source": [
        "submission = pd.DataFrame([df_test.ID, pd.Series(preds_ts, name=\"RENDIMIENTO_GLOBAL\")]).T\n",
        "submission.head()"
      ]
    },
    {
      "cell_type": "code",
      "execution_count": 69,
      "metadata": {
        "id": "pNnBNyQancwz",
        "colab": {
          "base_uri": "https://localhost:8080/"
        },
        "outputId": "ac3b78b4-cff8-4566-aa28-8c5cbdbc454d"
      },
      "outputs": [
        {
          "data": {
            "text/plain": [
              "(296786, 2)"
            ]
          },
          "execution_count": 69,
          "metadata": {},
          "output_type": "execute_result"
        }
      ],
      "source": [
        "submission.shape"
      ]
    },
    {
      "cell_type": "code",
      "execution_count": 70,
      "metadata": {
        "id": "F8wZRAuWSf6k",
        "colab": {
          "base_uri": "https://localhost:8080/",
          "height": 17
        },
        "outputId": "cc625500-e565-45d8-95ad-e7a4cc71f85b"
      },
      "outputs": [
        {
          "output_type": "display_data",
          "data": {
            "text/plain": [
              "<IPython.core.display.Javascript object>"
            ],
            "application/javascript": [
              "\n",
              "    async function download(id, filename, size) {\n",
              "      if (!google.colab.kernel.accessAllowed) {\n",
              "        return;\n",
              "      }\n",
              "      const div = document.createElement('div');\n",
              "      const label = document.createElement('label');\n",
              "      label.textContent = `Downloading \"${filename}\": `;\n",
              "      div.appendChild(label);\n",
              "      const progress = document.createElement('progress');\n",
              "      progress.max = size;\n",
              "      div.appendChild(progress);\n",
              "      document.body.appendChild(div);\n",
              "\n",
              "      const buffers = [];\n",
              "      let downloaded = 0;\n",
              "\n",
              "      const channel = await google.colab.kernel.comms.open(id);\n",
              "      // Send a message to notify the kernel that we're ready.\n",
              "      channel.send({})\n",
              "\n",
              "      for await (const message of channel.messages) {\n",
              "        // Send a message to notify the kernel that we're ready.\n",
              "        channel.send({})\n",
              "        if (message.buffers) {\n",
              "          for (const buffer of message.buffers) {\n",
              "            buffers.push(buffer);\n",
              "            downloaded += buffer.byteLength;\n",
              "            progress.value = downloaded;\n",
              "          }\n",
              "        }\n",
              "      }\n",
              "      const blob = new Blob(buffers, {type: 'application/binary'});\n",
              "      const a = document.createElement('a');\n",
              "      a.href = window.URL.createObjectURL(blob);\n",
              "      a.download = filename;\n",
              "      div.appendChild(a);\n",
              "      a.click();\n",
              "      div.remove();\n",
              "    }\n",
              "  "
            ]
          },
          "metadata": {}
        },
        {
          "output_type": "display_data",
          "data": {
            "text/plain": [
              "<IPython.core.display.Javascript object>"
            ],
            "application/javascript": [
              "download(\"download_67992129-852e-4cc4-bf59-ee67b7c901bb\", \"soluci\\u00f3n_kaggle.csv\", 4223464)"
            ]
          },
          "metadata": {}
        }
      ],
      "source": [
        "from google.colab import files\n",
        "submission.to_csv(\"solución_kaggle.csv\", index=False)\n",
        "files.download(\"solución_kaggle.csv\")"
      ]
    }
  ],
  "metadata": {
    "colab": {
      "collapsed_sections": [
        "Kzs9Pws7_Khp",
        "Mdxnj5ks_sx6",
        "5biQvxwR9-__",
        "vrHHtl1SW6va",
        "MtQj2zwYh9HC",
        "ihnqLK9inlhK",
        "S47eD8JQjsjn",
        "0layBGvgmuXW",
        "BZ2vVdJxXwZo",
        "zUXTv7MdUZ-6",
        "F0QHrszMT1if",
        "jYYyD2mJbW3t",
        "sX9UEC2BHRYO",
        "g7OEPonzlBN6",
        "8Q6EYtt8jOQy"
      ],
      "provenance": []
    },
    "kernelspec": {
      "display_name": "Python 3",
      "name": "python3"
    },
    "language_info": {
      "name": "python"
    }
  },
  "nbformat": 4,
  "nbformat_minor": 0
}